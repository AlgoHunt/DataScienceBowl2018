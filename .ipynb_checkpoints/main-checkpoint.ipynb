{
 "cells": [
  {
   "cell_type": "markdown",
   "metadata": {},
   "source": [
    "# Import dependencies"
   ]
  },
  {
   "cell_type": "code",
   "execution_count": 1,
   "metadata": {
    "collapsed": true
   },
   "outputs": [],
   "source": [
    "import sys\n",
    "sys.path.append('/input/Mask_RCNN')"
   ]
  },
  {
   "cell_type": "code",
   "execution_count": 1,
   "metadata": {},
   "outputs": [
    {
     "name": "stderr",
     "output_type": "stream",
     "text": [
      "/home/zumeng/anaconda2/envs/py3/lib/python3.6/site-packages/h5py/__init__.py:36: FutureWarning: Conversion of the second argument of issubdtype from `float` to `np.floating` is deprecated. In future, it will be treated as `np.float64 == np.dtype(float).type`.\n",
      "  from ._conv import register_converters as _register_converters\n",
      "Using TensorFlow backend.\n"
     ]
    }
   ],
   "source": [
    "import os\n",
    "import sys\n",
    "import random\n",
    "import math\n",
    "import re\n",
    "import time\n",
    "import cv2\n",
    "import tensorflow as tf\n",
    "import numpy as np\n",
    "import pandas as pd\n",
    "import matplotlib\n",
    "import matplotlib.pyplot as plt\n",
    "import csv\n",
    "import imageio\n",
    "import skimage\n",
    "from config import Config\n",
    "from skimage.morphology import label\n",
    "from skimage.feature import canny\n",
    "from skimage import exposure\n",
    "from keras.callbacks import Callback\n",
    "from skimage.morphology import binary_closing, binary_opening, disk, binary_dilation\n",
    "from scipy.ndimage.morphology import binary_fill_holes\n",
    "from sklearn.externals import joblib\n",
    "from skimage.transform import PiecewiseAffineTransform, warp\n",
    "from skimage.morphology import watershed\n",
    "from skimage.filters import sobel\n",
    "from imp import reload\n",
    "import utils\n",
    "import model_sep_roi_LH as modellib\n",
    "import visualize\n",
    "from model_sep_roi_LH import log\n",
    "import divide\n",
    "#import model_raw_Taugment_test_only as infer_modellib\n",
    "#from deepsense import neptune\n",
    "#ctx = neptune.Context()"
   ]
  },
  {
   "cell_type": "code",
   "execution_count": 2,
   "metadata": {
    "collapsed": true
   },
   "outputs": [],
   "source": [
    "# tf.set_random_seed(127)"
   ]
  },
  {
   "cell_type": "markdown",
   "metadata": {},
   "source": [
    "Let's download the mask_rcnn trained on COCO dataset to initialize the model."
   ]
  },
  {
   "cell_type": "code",
   "execution_count": 3,
   "metadata": {
    "collapsed": true
   },
   "outputs": [],
   "source": [
    "# Root directory of the project\n",
    "ROOT_DIR = os.getcwd()\n",
    "\n",
    "# Directory to save logs and trained model\n",
    "MODEL_DIR = os.path.join(ROOT_DIR, \"logs\")\n",
    "\n",
    "# Local path to trained weights file\n",
    "COCO_MODEL_PATH = os.path.join(ROOT_DIR, \"mask_rcnn_coco.h5\")\n",
    "# Download COCO trained weights from Releases if needed\n",
    "if not os.path.exists(COCO_MODEL_PATH):\n",
    "    utils.download_trained_weights(COCO_MODEL_PATH)"
   ]
  },
  {
   "cell_type": "markdown",
   "metadata": {},
   "source": [
    "We will now define the monitor that will help keep track on the training process.\n",
    "With this you will be able to see your charts in the `charts` tab"
   ]
  },
  {
   "cell_type": "markdown",
   "metadata": {},
   "source": [
    "Now we will load the metadata and divide them in train and valid splits"
   ]
  },
  {
   "cell_type": "code",
   "execution_count": 5,
   "metadata": {
    "collapsed": true
   },
   "outputs": [],
   "source": [
    "def train_valid_split(meta, validation_size, valid_category_ids=None):\n",
    "    meta_train = meta[meta['is_train'] == 1]\n",
    "    meta_train_split, meta_valid_split = split_on_column(meta_train,\n",
    "                                                         column='vgg_features_clusters',\n",
    "                                                         test_size=validation_size,\n",
    "                                                         random_state=1234,\n",
    "                                                         valid_category_ids=valid_category_ids\n",
    "                                                         )\n",
    "    return meta_train_split, meta_valid_split\n",
    "\n",
    "\n",
    "def split_on_column(meta, column, test_size, random_state=1, valid_category_ids=None):\n",
    "    if valid_category_ids is None:\n",
    "        categories = meta[column].unique()\n",
    "        np.random.seed(random_state)\n",
    "        valid_category_ids = np.random.choice(categories,\n",
    "                                              int(test_size * len(categories)))\n",
    "    valid = meta[meta[column].isin(valid_category_ids)].sample(frac=1, random_state=random_state)\n",
    "    train = meta[~(meta[column].isin(valid_category_ids))].sample(frac=1, random_state=random_state)\n",
    "    return train, valid\n",
    "\n",
    "meta = pd.read_csv('./stage1_metadata.csv')\n",
    "\n",
    "meta_ts = meta[meta['is_train']==0]\n",
    "meta_train, meta_valid = train_valid_split( meta[meta['is_train']==1],0.2,[0])"
   ]
  },
  {
   "cell_type": "markdown",
   "metadata": {
    "collapsed": true
   },
   "source": [
    "# Mask-RCNN configuration\n",
    "We will now define parameters for our mask-rcnn. \n",
    "Tweak them to get better results!"
   ]
  },
  {
   "cell_type": "code",
   "execution_count": 6,
   "metadata": {
    "scrolled": false
   },
   "outputs": [
    {
     "name": "stdout",
     "output_type": "stream",
     "text": [
      "\n",
      "Configurations:\n",
      "BACKBONE                       resnet101\n",
      "BACKBONE_SHAPES                [[192 192]\n",
      " [ 96  96]\n",
      " [ 48  48]\n",
      " [ 24  24]\n",
      " [ 12  12]]\n",
      "BACKBONE_SHAPES_LIST           [array([[192, 192],\n",
      "       [ 96,  96],\n",
      "       [ 48,  48],\n",
      "       [ 24,  24],\n",
      "       [ 12,  12]])]\n",
      "BACKBONE_STRIDES               [4, 8, 16, 32, 64]\n",
      "BATCH_SIZE                     1\n",
      "BBOX_STD_DEV                   [0.1 0.1 0.2 0.2]\n",
      "DETECTION_MAX_INSTANCES        400\n",
      "DETECTION_MIN_CONFIDENCE       0.7\n",
      "DETECTION_NMS_THRESHOLD        0.3\n",
      "GPU_COUNT                      1\n",
      "GRADIENT_CLIP_NORM             0.5\n",
      "IMAGES_PER_GPU                 1\n",
      "IMAGE_MAX_DIM                  768\n",
      "IMAGE_MIN_DIM                  768\n",
      "IMAGE_PADDING                  True\n",
      "IMAGE_SHAPE                    [768 768   3]\n",
      "LEARNING_MOMENTUM              0.9\n",
      "LEARNING_RATE                  0.01\n",
      "MAIN_SCALE                     0\n",
      "MASK_POOL_SIZE                 14\n",
      "MASK_SHAPE                     [28, 28]\n",
      "MAX_GT_INSTANCES               256\n",
      "MEAN_PIXEL                     [123.7 116.8 103.9]\n",
      "MINI_MASK_SHAPE                (28, 28)\n",
      "NAME                           res101\n",
      "NUM_CLASSES                    2\n",
      "POOL_SIZE                      7\n",
      "POST_NMS_ROIS_INFERENCE        2000\n",
      "POST_NMS_ROIS_TRAINING         2000\n",
      "ROI_POSITIVE_RATIO             0.33\n",
      "RPN_ANCHOR_RATIOS              [0.5, 1, 2]\n",
      "RPN_ANCHOR_SCALES              (8, 16, 32, 64, 128)\n",
      "RPN_ANCHOR_STRIDE              1\n",
      "RPN_BBOX_STD_DEV               [0.1 0.1 0.2 0.2]\n",
      "RPN_NMS_THRESHOLD              0.7\n",
      "RPN_TRAIN_ANCHORS_PER_IMAGE    320\n",
      "SCALES                         [768]\n",
      "STEPS_PER_EPOCH                606\n",
      "TRAIN_ROIS_PER_IMAGE           512\n",
      "USE_MINI_MASK                  True\n",
      "USE_RPN_ROIS                   True\n",
      "VALIDATION_STEPS               58\n",
      "WEIGHT_DECAY                   0.0001\n",
      "\n",
      "\n"
     ]
    }
   ],
   "source": [
    "class DsbConfig(Config):\n",
    "\n",
    "    # Give the configuration a recognizable name\n",
    "    NAME = \"res101\"\n",
    "      \n",
    "    LEARNING_RATE = 1e-2\n",
    "    \n",
    "    # If enabled, resizes instance masks to a smaller size to reduce\n",
    "    # memory load. Recommended when using high-resolution image\n",
    "    USE_MINI_MASK = True\n",
    "    MINI_MASK_SHAPE = (28, 28)  # (height, width) of the mini-mask\n",
    "    \n",
    "    # Train on 1 GPU and 8 images per GPU. Batch size is GPUs * images/GPU.\n",
    "    GPU_COUNT = 1\n",
    "    IMAGES_PER_GPU = 1\n",
    "    # Total number of steps (batches of samples) to yield from generator before declaring one epoch finished and starting the next epoch.\n",
    "    # typically be equal to the number of samples of your dataset divided by the batch size\n",
    "    STEPS_PER_EPOCH = 606\n",
    "    VALIDATION_STEPS = 58\n",
    "\n",
    "    # Number of classes (including background)\n",
    "    NUM_CLASSES = 1 + 1  # background + nucleis\n",
    "    IMAGE_MIN_DIM = 768\n",
    "    IMAGE_MAX_DIM = 768\n",
    "    IMAGE_PADDING = True  # currently, the False option is not supported\n",
    "    RPN_ANCHOR_SCALES = (8, 16, 32, 64, 128)  # anchor side in pixels, maybe add a 256?\n",
    "    # The strides of each layer of the FPN Pyramid. These values\n",
    "    # are based on a Resnet101 backbone.\n",
    "    BACKBONE_STRIDES = [4, 8, 16, 32, 64]\n",
    "    # How many anchors per image to use for RPN training\n",
    "    RPN_TRAIN_ANCHORS_PER_IMAGE = 320 #300\n",
    "    \n",
    "    # ROIs kept after non-maximum supression (training and inference)\n",
    "    POST_NMS_ROIS_TRAINING = 2000\n",
    "    POST_NMS_ROIS_INFERENCE = 2000\n",
    "    POOL_SIZE = 7\n",
    "    MASK_POOL_SIZE = 14\n",
    "    MASK_SHAPE = [28, 28]\n",
    "    TRAIN_ROIS_PER_IMAGE = 512\n",
    "    RPN_NMS_THRESHOLD = 0.7\n",
    "    MAX_GT_INSTANCES = 256\n",
    "    DETECTION_MAX_INSTANCES = 400 \n",
    "    # Minimum probability value to accept a detected instance\n",
    "    # ROIs below this threshold are skipped\n",
    "    DETECTION_MIN_CONFIDENCE = 0.7 # may be smaller?\n",
    "    # Non-maximum suppression threshold for detection\n",
    "    DETECTION_NMS_THRESHOLD = 0.3 # 0.3\n",
    "    \n",
    "    #MEAN_PIXEL = np.array([56.02,54.02,54.26])\n",
    "    MEAN_PIXEL = np.array([123.7,116.8,103.9])\n",
    "    #MEAN_PIXEL = np.array([.0,.0,.0])\n",
    "    # Weight decay regularization\n",
    "    WEIGHT_DECAY = 0.0001\n",
    "    SCALES = [768]\n",
    "    MAIN_SCALE = 0\n",
    "    BACKBONE = \"resnet101\"\n",
    "    GRADIENT_CLIP_NORM = 0.5\n",
    "    \n",
    "config = DsbConfig()\n",
    "config.display()"
   ]
  },
  {
   "cell_type": "code",
   "execution_count": 7,
   "metadata": {
    "collapsed": true
   },
   "outputs": [],
   "source": [
    "class InferenceConfig(DsbConfig):\n",
    "    GPU_COUNT = 1\n",
    "    IMAGES_PER_GPU = 1\n",
    "    # MEAN_PIXEL = np.array([56.02288505, 54.02376286, 54.26675248])\n",
    "inference_config = InferenceConfig()"
   ]
  },
  {
   "cell_type": "markdown",
   "metadata": {},
   "source": [
    "# Dataset definition\n",
    "\n",
    "We need to define our datasets for the data science bowl competition"
   ]
  },
  {
   "cell_type": "code",
   "execution_count": 112,
   "metadata": {
    "collapsed": true
   },
   "outputs": [],
   "source": [
    "class DsbDataset(utils.Dataset):\n",
    "\n",
    "    def load_dataset(self, ids, train_mode='train',final=False):\n",
    "        self.add_class(\"dsb\", 1, \"nuclei\")\n",
    "        if train_mode:\n",
    "            directory = dsb_dir\n",
    "        else:\n",
    "            directory = test_dir\n",
    "        if final:\n",
    "            directory = final_dir\n",
    "        for i, id in enumerate(ids):\n",
    "            image_dir = os.path.join(directory, id)\n",
    "            self.add_image(\"dsb\", image_id=i, path=image_dir)\n",
    "            \n",
    "\n",
    "    def load_image(self, image_id, non_zero=None):\n",
    "        info = self.image_info[image_id]\n",
    "        path = info['path']\n",
    "        image_name = os.listdir(os.path.join(path, 'images'))\n",
    "        image_path = os.path.join(path, 'images', image_name[0])\n",
    "        image = imageio.imread(image_path)\n",
    "        \n",
    "        if len(image.shape)==2:\n",
    "            img = skimage.color.gray2rgb(image)\n",
    "            image = img*255.\n",
    "        if image.shape[2] >3:\n",
    "            image = image[:,:,:3]\n",
    "\n",
    "        #image = self.preprocess(image)\n",
    "        image = image\n",
    "        return image\n",
    "\n",
    "    def image_reference(self, image_id):\n",
    "        info = self.image_info[image_id]\n",
    "        if info[\"source\"] == \"shapes\":\n",
    "            return info[\"shapes\"]\n",
    "        else:\n",
    "            super(self.__class__).image_reference(self, image_id)\n",
    "\n",
    "    def load_mask(self, image_id):\n",
    "        info = self.image_info[image_id]\n",
    "        path = info['path']\n",
    "        mask_dir = os.path.join(path, 'masks')\n",
    "        mask_names = os.listdir(mask_dir)\n",
    "        count = len(mask_names)\n",
    "        mask = []\n",
    "        for i, el in enumerate(mask_names):\n",
    "            msk_path = os.path.join(mask_dir, el)\n",
    "            msk = imageio.imread(msk_path)\n",
    "            if np.sum(msk) == 0:\n",
    "                print('invalid mask')\n",
    "                continue\n",
    "            msk = msk.astype('float32')/255.\n",
    "            if len(msk.shape) == 3:\n",
    "                msk = msk[:,:,0]\n",
    "            mask.append(msk)\n",
    "        mask = np.asarray(mask)\n",
    "        mask[mask > 0.] = 1.\n",
    "        mask = np.transpose(mask, (1,2,0))\n",
    "        occlusion = np.logical_not(mask[:, :, -1]).astype(np.uint8)\n",
    "        count = mask.shape[2]\n",
    "        for i in range(count-2, -1, -1):\n",
    "            mask[:, :, i] = mask[:, :, i] * occlusion\n",
    "            occlusion = np.logical_and(occlusion, np.logical_not(mask[:, :, i]))\n",
    "        class_ids = [self.class_names.index('nuclei') for s in range(count)]\n",
    "        class_ids = np.asarray(class_ids)\n",
    "        return mask, class_ids.astype(np.int32)\n",
    "    \n",
    "    def preprocess(self, img):\n",
    "        gray = skimage.color.rgb2gray(img.astype('uint8'))\n",
    "        img = skimage.color.gray2rgb(gray)\n",
    "        img *= 255.\n",
    "        return img"
   ]
  },
  {
   "cell_type": "code",
   "execution_count": 113,
   "metadata": {
    "collapsed": true
   },
   "outputs": [],
   "source": [
    "color_ids = [i.strip() for i in list(pd.read_csv(\"color.csv\").color_id)]"
   ]
  },
  {
   "cell_type": "code",
   "execution_count": 114,
   "metadata": {
    "collapsed": true
   },
   "outputs": [],
   "source": [
    "dsb_dir = './stage1_train'\n",
    "train_ids = os.listdir(dsb_dir)\n",
    "test_dir = './stage1_test'\n",
    "test_ids = os.listdir(test_dir)\n",
    "final_dir = './stage2_test_final'\n",
    "final_ids = os.listdir(final_dir)"
   ]
  },
  {
   "cell_type": "code",
   "execution_count": 115,
   "metadata": {
    "collapsed": true
   },
   "outputs": [],
   "source": [
    "total_ids = os.listdir('./stage1_train')\n",
    "train_ids = list(meta_train.ImageId.values)\n",
    "for tid in train_ids :\n",
    "    if tid not in total_ids :\n",
    "        train_ids.remove(tid)\n",
    "val_ids = list(meta_valid.ImageId.values)\n",
    "for tid in val_ids :\n",
    "    if tid not in total_ids :\n",
    "        train_ids.remove(tid)\n",
    "for tid in color_ids:\n",
    "    if tid not in total_ids :\n",
    "        color_ids.remove(tid)\n",
    "dsb_dir = './stage1_train'\n",
    "test_dir = './stage1_test'\n",
    "test_ids = os.listdir(test_dir)"
   ]
  },
  {
   "cell_type": "code",
   "execution_count": 116,
   "metadata": {
    "collapsed": true
   },
   "outputs": [],
   "source": [
    "# Training dataset\n",
    "dataset_train = DsbDataset()\n",
    "dataset_train.load_dataset(train_ids)\n",
    "dataset_train.load_dataset(color_ids)\n",
    "dataset_train.prepare()\n",
    "\n",
    "# Validation dataset\n",
    "dataset_val = DsbDataset()\n",
    "dataset_val.load_dataset(val_ids)\n",
    "dataset_val.prepare()\n",
    "\n",
    "# Test dataset\n",
    "dataset_test = DsbDataset()\n",
    "dataset_test.load_dataset(test_ids, train_mode=False)\n",
    "dataset_test.prepare()\n",
    "\n",
    "dataset_final = DsbDataset()\n",
    "dataset_final.load_dataset(final_ids, train_mode=False,final = True)\n",
    "dataset_final.prepare()\n",
    "\n",
    "dataset_color = DsbDataset()\n",
    "dataset_color.load_dataset(color_ids)\n",
    "dataset_color.prepare()"
   ]
  },
  {
   "cell_type": "markdown",
   "metadata": {},
   "source": [
    "Let's take a look at some images"
   ]
  },
  {
   "cell_type": "markdown",
   "metadata": {},
   "source": [
    "# Model Training\n",
    "\n",
    "OK! \n",
    "\n",
    "I think we are ready to do some training!\n",
    "We will instantiate the model and initialize it with COCO weights"
   ]
  },
  {
   "cell_type": "code",
   "execution_count": null,
   "metadata": {
    "collapsed": true
   },
   "outputs": [],
   "source": [
    "\n",
    "reload(modellib)"
   ]
  },
  {
   "cell_type": "code",
   "execution_count": null,
   "metadata": {
    "collapsed": true,
    "scrolled": true
   },
   "outputs": [],
   "source": [
    "model = modellib.MaskRCNN(mode=\"training\", config=config,\n",
    "                          model_dir=MODEL_DIR)"
   ]
  },
  {
   "cell_type": "code",
   "execution_count": null,
   "metadata": {
    "collapsed": true
   },
   "outputs": [],
   "source": [
    "init_with = \"last\" # imagenet, coco, or last\n",
    "\n",
    "if init_with == \"imagenet\":\n",
    "    model.load_weights(\"./resnet50_weights_tf_dim_ordering_tf_kernels.h5\", by_name=True)\n",
    "elif init_with == \"coco\":\n",
    "    # Load weights trained on MS COCO, but skip layers that\n",
    "    # are different due to the different number of classes\n",
    "    # See README for instructions to download the COCO weights\n",
    "    model.load_weights(COCO_MODEL_PATH, by_name=True,\n",
    "                       exclude=[\"mrcnn_class_logits\", \"mrcnn_bbox_fc\", \n",
    "                                \"mrcnn_bbox\", \"mrcnn_mask\"])\n",
    "elif init_with == \"last\":\n",
    "    # Load the last model you trained and continue training\n",
    "    model.load_weights(model.find_last()[1], by_name=True)"
   ]
  },
  {
   "cell_type": "markdown",
   "metadata": {},
   "source": [
    "Let's train and investigate the learning curves for all the mask-rcnn losses in the `charts` and `channels`"
   ]
  },
  {
   "cell_type": "code",
   "execution_count": null,
   "metadata": {
    "collapsed": true,
    "scrolled": false
   },
   "outputs": [],
   "source": [
    "\n",
    "model.train(dataset_train, dataset_train, \n",
    "                learning_rate=config.LEARNING_RATE,\n",
    "                epochs=30, \n",
    "                layers=\"heads\",)\n",
    "\n",
    "model.train(dataset_train, dataset_train, \n",
    "                learning_rate=config.LEARNING_RATE,\n",
    "                epochs=60, \n",
    "                layers=\"all\",)\n",
    "\n",
    "\n",
    "model.train(dataset_train, dataset_train, \n",
    "                learning_rate=config.LEARNING_RATE/10,\n",
    "                epochs=100, \n",
    "                layers=\"all\",)\n"
   ]
  },
  {
   "cell_type": "code",
   "execution_count": null,
   "metadata": {
    "collapsed": true
   },
   "outputs": [],
   "source": [
    "model.keras_model.summary()"
   ]
  },
  {
   "cell_type": "markdown",
   "metadata": {},
   "source": [
    "# Evaluate\n",
    "I think we are ready to see how our model does on the validation!"
   ]
  },
  {
   "cell_type": "code",
   "execution_count": 144,
   "metadata": {},
   "outputs": [
    {
     "data": {
      "text/plain": [
       "<module 'model_sep_roi_LH' from '/home/zumeng/DSB2018/dsb/model_sep_roi_LH.py'>"
      ]
     },
     "execution_count": 144,
     "metadata": {},
     "output_type": "execute_result"
    }
   ],
   "source": [
    "reload(modellib)"
   ]
  },
  {
   "cell_type": "code",
   "execution_count": 147,
   "metadata": {},
   "outputs": [
    {
     "name": "stdout",
     "output_type": "stream",
     "text": [
      "Loading weights from  /home/zumeng/DSB2018/dsb/logs/res10120180405T2118/mask_rcnn_res101_0064.h5\n"
     ]
    }
   ],
   "source": [
    "model = modellib.MaskRCNN(mode=\"inference\", \n",
    "                          config=inference_config,\n",
    "                          model_dir=MODEL_DIR)\n",
    "\n",
    "# Get path to saved weights\n",
    "# Either set a specific path or find last trained weights\n",
    "# model_path = os.path.join(ROOT_DIR, \".h5 file name here\")\n",
    "model_path = model.find_last()[1]\n",
    "\n",
    "# Load trained weights (fill in path to trained weights here)\n",
    "assert model_path != \"\", \"Provide path to trained weights\"\n",
    "print(\"Loading weights from \", model_path)\n",
    "model.load_weights(model_path, by_name=True)"
   ]
  },
  {
   "cell_type": "code",
   "execution_count": 90,
   "metadata": {
    "collapsed": true
   },
   "outputs": [],
   "source": [
    "def get_ax(rows=1, cols=1, size=8):\n",
    "    \"\"\"Return a Matplotlib Axes array to be used in\n",
    "    all visualizations in the notebook. Provide a\n",
    "    central point to control graph sizes.\n",
    "    \n",
    "    Change the default size attribute to control the size\n",
    "    of rendered images\n",
    "    \"\"\"\n",
    "    _, ax = plt.subplots(rows, cols, figsize=(size*cols, size*rows))\n",
    "    return ax"
   ]
  },
  {
   "cell_type": "code",
   "execution_count": 148,
   "metadata": {
    "scrolled": false
   },
   "outputs": [
    {
     "name": "stdout",
     "output_type": "stream",
     "text": [
      "original_image           shape: (768, 768, 3)         min:    0.00000  max:  105.00000\n",
      "image_meta               shape: (10,)                 min:    0.00000  max: 1272.00000\n",
      "gt_class_id              shape: (68,)                 min:    1.00000  max:    1.00000\n",
      "gt_bbox                  shape: (68, 4)               min:  160.00000  max:  458.00000\n",
      "gt_mask                  shape: (768, 768, 68)        min:    0.00000  max:    1.00000\n",
      "total nuclei count:  68\n"
     ]
    },
    {
     "data": {
      "image/png": "[encoded data removed]",
      "text/plain": [
       "<Figure size 576x576 with 1 Axes>"
      ]
     },
     "metadata": {},
     "output_type": "display_data"
    }
   ],
   "source": [
    "image_id = random.choice(dataset_val.image_ids)\n",
    "#image_id = 51\n",
    "image_id=28\n",
    "original_image, image_meta, gt_class_id, gt_bbox, gt_mask =\\\n",
    "    modellib.load_image_gt(dataset_val, inference_config, \n",
    "                           image_id, use_mini_mask=False,augment=False)\n",
    "\n",
    "log(\"original_image\", original_image)\n",
    "log(\"image_meta\", image_meta)\n",
    "log(\"gt_class_id\", gt_class_id)\n",
    "log(\"gt_bbox\", gt_bbox)\n",
    "log(\"gt_mask\", gt_mask)\n",
    "\n",
    "print(\"total nuclei count: \",gt_bbox.shape[0])\n",
    "visualize.display_instances(original_image, gt_bbox, gt_mask, gt_class_id, \n",
    "                            dataset_val.class_names, figsize=(8, 8))"
   ]
  },
  {
   "cell_type": "code",
   "execution_count": 149,
   "metadata": {},
   "outputs": [
    {
     "data": {
      "text/plain": [
       "(768, 768, 3)"
      ]
     },
     "execution_count": 149,
     "metadata": {},
     "output_type": "execute_result"
    }
   ],
   "source": [
    "original_image.shape"
   ]
  },
  {
   "cell_type": "code",
   "execution_count": 150,
   "metadata": {
    "scrolled": true
   },
   "outputs": [
    {
     "name": "stdout",
     "output_type": "stream",
     "text": [
      "Processing 1 images\n",
      "image                    shape: (768, 768, 3)         min:    0.00000  max:  105.00000\n",
      "molded_images            shape: (1, 768, 768, 3)      min: -123.70000  max:    1.10000\n",
      "image_metas              shape: (1, 10)               min:    0.00000  max:  768.00000\n",
      "total nuclei detected:  10\n"
     ]
    },
    {
     "data": {
      "image/png": "[encoded data removed]",
      "text/plain": [
       "<Figure size 576x576 with 1 Axes>"
      ]
     },
     "metadata": {},
     "output_type": "display_data"
    }
   ],
   "source": [
    "results = model.detect([original_image], verbose=1)\n",
    "\n",
    "r = results[0]\n",
    "\n",
    "print(\"total nuclei detected: \",r['masks'].shape[2])\n",
    "visualize.display_instances(original_image, r['rois'], r['masks'], r['class_ids'], \n",
    "                            dataset_val.class_names, r['scores'], ax=get_ax())"
   ]
  },
  {
   "cell_type": "code",
   "execution_count": null,
   "metadata": {
    "collapsed": true,
    "scrolled": true
   },
   "outputs": [],
   "source": [
    "box_list = []\n",
    "scores_list = []\n",
    "for part_a_model,part_a_config in zip(model_list,config_list):\n",
    "    \n",
    "    original_image, image_meta, gt_class_id, gt_bbox, gt_mask =\\\n",
    "    modellib.load_image_gt(dataset_val, part_a_config, \n",
    "                           image_id, use_mini_mask=False,augment=False)\n",
    "    \n",
    "    results = part_a_model.detect([original_image], verbose=1)\n",
    "    r = results[0]\n",
    "    box_list.append(r[\"non_supress_box\"])\n",
    "    scores_list.append(r[\"non_supress_score\"])"
   ]
  },
  {
   "cell_type": "code",
   "execution_count": null,
   "metadata": {
    "collapsed": true
   },
   "outputs": [],
   "source": [
    "non_supress_box = np.concatenate(box_list,axis=1)\n",
    "non_supress_score = np.concatenate(scores_list,axis=1)"
   ]
  },
  {
   "cell_type": "code",
   "execution_count": null,
   "metadata": {
    "collapsed": true
   },
   "outputs": [],
   "source": [
    "infer_model = infer_modellib.MaskRCNN(mode=\"inference\", \n",
    "                          config=inference_config,\n",
    "                          model_dir=MODEL_DIR)\n",
    "model_path = infer_model.find_last()[1]\n",
    "\n",
    "# Load trained weights (fill in path to trained weights here)\n",
    "assert model_path != \"\", \"Provide path to trained weights\"\n",
    "print(\"Loading weights from \", model_path)\n",
    "infer_model .load_weights(model_path, by_name=True)"
   ]
  },
  {
   "cell_type": "code",
   "execution_count": null,
   "metadata": {
    "collapsed": true
   },
   "outputs": [],
   "source": [
    "results = infer_model.detect([original_image],non_supress_box,non_supress_score)\n",
    "\n",
    "r = results[0]\n",
    "\n",
    "print(\"total nuclei detected: \",r['masks'].shape[2])\n",
    "visualize.display_instances(original_image, r['rois'], r['masks'], r['class_ids'], \n",
    "                            dataset_val.class_names, r['scores'], ax=get_ax())"
   ]
  },
  {
   "cell_type": "code",
   "execution_count": null,
   "metadata": {
    "collapsed": true
   },
   "outputs": [],
   "source": [
    "def predict(test_image):\n",
    "    box_list = []\n",
    "    scores_list = []\n",
    "    for (i,part_a_model) in enumerate(model_list):\n",
    "        results = part_a_model.detect([test_image], verbose=1)\n",
    "        r = results[0]\n",
    "        box_list.append(r[\"non_supress_box\"])\n",
    "        scores_list.append(r[\"non_supress_score\"])\n",
    "    non_supress_box = np.concatenate(box_list,axis=1)\n",
    "    non_supress_score = np.concatenate(scores_list,axis=1)\n",
    "    results = infer_model.detect([test_image],non_supress_box,non_supress_score)\n",
    "    return results"
   ]
  },
  {
   "cell_type": "markdown",
   "metadata": {},
   "source": [
    "# Create Submission\n",
    "It is looking good on the validation.\n",
    "Let's see how will it do on the public LB."
   ]
  },
  {
   "cell_type": "code",
   "execution_count": 76,
   "metadata": {
    "scrolled": true
   },
   "outputs": [
    {
     "data": {
      "text/plain": [
       "<module 'utils' from '/home/zumeng/DSB2018/dsb/utils.py'>"
      ]
     },
     "execution_count": 76,
     "metadata": {},
     "output_type": "execute_result"
    }
   ],
   "source": [
    "reload(divide)\n",
    "reload(modellib)\n",
    "reload(utils)"
   ]
  },
  {
   "cell_type": "code",
   "execution_count": 151,
   "metadata": {
    "collapsed": true
   },
   "outputs": [],
   "source": [
    "from tqdm import tqdm "
   ]
  },
  {
   "cell_type": "code",
   "execution_count": 153,
   "metadata": {
    "scrolled": false
   },
   "outputs": [
    {
     "name": "stderr",
     "output_type": "stream",
     "text": [
      "100%|██████████| 3019/3019 [20:45<00:00,  2.62it/s]\n"
     ]
    }
   ],
   "source": [
    "raw_predictions = []\n",
    "for test_id in tqdm(dataset_final.image_ids):\n",
    "    test_image1 = dataset_final.load_image(test_id, 0)\n",
    "    pred = model.detect([test_image1],return_mode = \"thres\", verbose=0)\n",
    "    #pred = predict(test_image1)\n",
    "    pred = pred[0]\n",
    "    sc = pred['scores']\n",
    "    pred = pred['masks']\n",
    "    if pred.shape[2]>1000:\n",
    "        print(\"find intese target\",pred.shape)\n",
    "        edge = max(pred.shape[0],pred.shape[1])\n",
    "        pred,sc =  divide.divide_recursive_detect(model,test_image1,inter_width=20,\n",
    "                                          max_edge = edge-10,combine_threshold=50,return_mode=\"raw\",verbose =0)\n",
    "        print(pred.dtype)\n",
    "        print(\"after divide\",pred.shape)\n",
    "        pred = np.where(pred>0.6,1,0).astype(np.uint8)\n",
    "\n",
    "    raw_predictions.append((pred, sc))"
   ]
  },
  {
   "cell_type": "code",
   "execution_count": 154,
   "metadata": {
    "collapsed": true
   },
   "outputs": [],
   "source": [
    "def rle_encoding(x):\n",
    "    '''\n",
    "    x: numpy array of shape (height, width), 1 - mask, 0 - background\n",
    "    Returns run lengt\n",
    "    h as list\n",
    "    '''\n",
    "    dots = np.where(x.T.flatten()==1)[0] # .T sets Fortran order down-then-right\n",
    "    run_lengths = []\n",
    "    prev = -2\n",
    "    for b in dots:\n",
    "        if (b>prev+1): run_lengths.extend((b+1, 0))\n",
    "        run_lengths[-1] += 1\n",
    "        prev = b\n",
    "    return run_lengths"
   ]
  },
  {
   "cell_type": "code",
   "execution_count": 155,
   "metadata": {
    "collapsed": true
   },
   "outputs": [],
   "source": [
    "def numpy2encoding_no_overlap(predicts, img_name, scores):\n",
    "    \n",
    "    \n",
    "    for i in range(predicts.shape[2]-1):\n",
    "        predicts[:,:,i] = clean_up(predicts[:,:,i],1)\n",
    "    \n",
    "    sum_predicts = np.sum(predicts, axis=2)\n",
    "    rows, cols = np.where(sum_predicts>=2)\n",
    "    \n",
    "    for i in zip(rows, cols):\n",
    "        instance_indicies = np.where(np.any(predicts[i[0],i[1],:]))[0]\n",
    "        highest = instance_indicies[0]\n",
    "        predicts[i[0],i[1],:] = predicts[i[0],i[1],:]*0\n",
    "        predicts[i[0],i[1],highest] = 1\n",
    "    \n",
    "    ImageId = []\n",
    "    EncodedPixels = []\n",
    "    #rint(predicts.shape)\n",
    "    if predicts.shape[0] == 0:\n",
    "        print(\"zero detection\")\n",
    "        return [img_name],[\"\"]\n",
    "    for i in range(predicts.shape[2]): \n",
    "        rle = rle_encoding(predicts[:,:,i])\n",
    "        if len(rle)>0:\n",
    "            ImageId.append(img_name)\n",
    "            EncodedPixels.append(rle)    \n",
    "    return ImageId, EncodedPixels"
   ]
  },
  {
   "cell_type": "code",
   "execution_count": 156,
   "metadata": {},
   "outputs": [
    {
     "data": {
      "text/plain": [
       "3019"
      ]
     },
     "execution_count": 156,
     "metadata": {},
     "output_type": "execute_result"
    }
   ],
   "source": [
    "len(raw_predictions)"
   ]
  },
  {
   "cell_type": "code",
   "execution_count": 157,
   "metadata": {
    "scrolled": true
   },
   "outputs": [
    {
     "name": "stderr",
     "output_type": "stream",
     "text": [
      "  0%|          | 6/3019 [00:00<06:47,  7.40it/s]"
     ]
    },
    {
     "name": "stdout",
     "output_type": "stream",
     "text": [
      "zero detection\n"
     ]
    },
    {
     "name": "stderr",
     "output_type": "stream",
     "text": [
      "  1%|▏         | 41/3019 [00:04<08:02,  6.17it/s]"
     ]
    },
    {
     "name": "stdout",
     "output_type": "stream",
     "text": [
      "zero detection\n",
      "zero detection\n",
      "zero detection\n"
     ]
    },
    {
     "name": "stderr",
     "output_type": "stream",
     "text": [
      "  2%|▏         | 50/3019 [00:04<04:44, 10.45it/s]"
     ]
    },
    {
     "name": "stdout",
     "output_type": "stream",
     "text": [
      "zero detection\n"
     ]
    },
    {
     "name": "stderr",
     "output_type": "stream",
     "text": [
      "  2%|▏         | 58/3019 [00:08<12:03,  4.09it/s]"
     ]
    },
    {
     "name": "stdout",
     "output_type": "stream",
     "text": [
      "zero detection\n"
     ]
    },
    {
     "name": "stderr",
     "output_type": "stream",
     "text": [
      "  2%|▏         | 70/3019 [00:14<18:11,  2.70it/s]"
     ]
    },
    {
     "name": "stdout",
     "output_type": "stream",
     "text": [
      "zero detection\n"
     ]
    },
    {
     "name": "stderr",
     "output_type": "stream",
     "text": [
      "  3%|▎         | 91/3019 [00:26<35:51,  1.36it/s]"
     ]
    },
    {
     "name": "stdout",
     "output_type": "stream",
     "text": [
      "zero detection\n"
     ]
    },
    {
     "name": "stderr",
     "output_type": "stream",
     "text": [
      "  4%|▎         | 111/3019 [00:29<17:39,  2.74it/s]"
     ]
    },
    {
     "name": "stdout",
     "output_type": "stream",
     "text": [
      "zero detection\n",
      "zero detection\n"
     ]
    },
    {
     "name": "stderr",
     "output_type": "stream",
     "text": [
      "  4%|▍         | 126/3019 [00:29<06:59,  6.90it/s]"
     ]
    },
    {
     "name": "stdout",
     "output_type": "stream",
     "text": [
      "zero detection\n",
      "zero detection\n"
     ]
    },
    {
     "name": "stderr",
     "output_type": "stream",
     "text": [
      "\r",
      "  4%|▍         | 130/3019 [00:30<05:17,  9.10it/s]"
     ]
    },
    {
     "name": "stdout",
     "output_type": "stream",
     "text": [
      "zero detection\n"
     ]
    },
    {
     "name": "stderr",
     "output_type": "stream",
     "text": [
      "  5%|▍         | 137/3019 [00:31<08:47,  5.47it/s]"
     ]
    },
    {
     "name": "stdout",
     "output_type": "stream",
     "text": [
      "zero detection\n"
     ]
    },
    {
     "name": "stderr",
     "output_type": "stream",
     "text": [
      "  5%|▌         | 155/3019 [00:34<05:16,  9.05it/s]"
     ]
    },
    {
     "name": "stdout",
     "output_type": "stream",
     "text": [
      "zero detection\n"
     ]
    },
    {
     "name": "stderr",
     "output_type": "stream",
     "text": [
      "  5%|▌         | 160/3019 [00:35<06:21,  7.48it/s]"
     ]
    },
    {
     "name": "stdout",
     "output_type": "stream",
     "text": [
      "zero detection\n"
     ]
    },
    {
     "name": "stderr",
     "output_type": "stream",
     "text": [
      "\r",
      "  5%|▌         | 164/3019 [00:36<05:22,  8.84it/s]"
     ]
    },
    {
     "name": "stdout",
     "output_type": "stream",
     "text": [
      "zero detection\n",
      "zero detection\n"
     ]
    },
    {
     "name": "stderr",
     "output_type": "stream",
     "text": [
      "\r",
      "  6%|▌         | 168/3019 [00:39<16:20,  2.91it/s]"
     ]
    },
    {
     "name": "stdout",
     "output_type": "stream",
     "text": [
      "zero detection\n"
     ]
    },
    {
     "name": "stderr",
     "output_type": "stream",
     "text": [
      "  6%|▌         | 180/3019 [00:46<31:56,  1.48it/s]"
     ]
    },
    {
     "name": "stdout",
     "output_type": "stream",
     "text": [
      "zero detection\n",
      "zero detection\n"
     ]
    },
    {
     "name": "stderr",
     "output_type": "stream",
     "text": [
      "  6%|▋         | 193/3019 [00:49<33:22,  1.41it/s]"
     ]
    },
    {
     "name": "stdout",
     "output_type": "stream",
     "text": [
      "zero detection\n"
     ]
    },
    {
     "name": "stderr",
     "output_type": "stream",
     "text": [
      "  7%|▋         | 200/3019 [00:54<38:20,  1.23it/s]"
     ]
    },
    {
     "name": "stdout",
     "output_type": "stream",
     "text": [
      "zero detection\n",
      "zero detection\n"
     ]
    },
    {
     "name": "stderr",
     "output_type": "stream",
     "text": [
      "\r",
      "  7%|▋         | 204/3019 [00:54<29:03,  1.61it/s]"
     ]
    },
    {
     "name": "stdout",
     "output_type": "stream",
     "text": [
      "zero detection\n"
     ]
    },
    {
     "name": "stderr",
     "output_type": "stream",
     "text": [
      "  7%|▋         | 217/3019 [00:56<15:27,  3.02it/s]"
     ]
    },
    {
     "name": "stdout",
     "output_type": "stream",
     "text": [
      "zero detection\n",
      "zero detection\n"
     ]
    },
    {
     "name": "stderr",
     "output_type": "stream",
     "text": [
      "  8%|▊         | 234/3019 [00:57<05:59,  7.75it/s]"
     ]
    },
    {
     "name": "stdout",
     "output_type": "stream",
     "text": [
      "zero detection\n",
      "zero detection\n",
      "zero detection\n"
     ]
    },
    {
     "name": "stderr",
     "output_type": "stream",
     "text": [
      "  8%|▊         | 242/3019 [00:59<11:32,  4.01it/s]"
     ]
    },
    {
     "name": "stdout",
     "output_type": "stream",
     "text": [
      "zero detection\n"
     ]
    },
    {
     "name": "stderr",
     "output_type": "stream",
     "text": [
      "  8%|▊         | 248/3019 [01:00<09:09,  5.04it/s]"
     ]
    },
    {
     "name": "stdout",
     "output_type": "stream",
     "text": [
      "zero detection\n"
     ]
    },
    {
     "name": "stderr",
     "output_type": "stream",
     "text": [
      "  8%|▊         | 254/3019 [01:01<09:23,  4.91it/s]"
     ]
    },
    {
     "name": "stdout",
     "output_type": "stream",
     "text": [
      "zero detection\n",
      "zero detection\n"
     ]
    },
    {
     "name": "stderr",
     "output_type": "stream",
     "text": [
      "  9%|▉         | 268/3019 [01:05<15:15,  3.01it/s]"
     ]
    },
    {
     "name": "stdout",
     "output_type": "stream",
     "text": [
      "zero detection\n",
      "zero detection\n"
     ]
    },
    {
     "name": "stderr",
     "output_type": "stream",
     "text": [
      "\r",
      "  9%|▉         | 273/3019 [01:05<10:59,  4.16it/s]"
     ]
    },
    {
     "name": "stdout",
     "output_type": "stream",
     "text": [
      "zero detection\n"
     ]
    },
    {
     "name": "stderr",
     "output_type": "stream",
     "text": [
      "\r",
      "  9%|▉         | 279/3019 [01:05<08:20,  5.48it/s]"
     ]
    },
    {
     "name": "stdout",
     "output_type": "stream",
     "text": [
      "zero detection\n"
     ]
    },
    {
     "name": "stderr",
     "output_type": "stream",
     "text": [
      " 10%|▉         | 297/3019 [01:08<12:44,  3.56it/s]"
     ]
    },
    {
     "name": "stdout",
     "output_type": "stream",
     "text": [
      "zero detection\n",
      "zero detection\n"
     ]
    },
    {
     "name": "stderr",
     "output_type": "stream",
     "text": [
      " 11%|█         | 326/3019 [01:12<05:55,  7.57it/s]"
     ]
    },
    {
     "name": "stdout",
     "output_type": "stream",
     "text": [
      "zero detection\n"
     ]
    },
    {
     "name": "stderr",
     "output_type": "stream",
     "text": [
      " 11%|█▏        | 340/3019 [01:14<04:33,  9.79it/s]"
     ]
    },
    {
     "name": "stdout",
     "output_type": "stream",
     "text": [
      "zero detection\n",
      "zero detection\n"
     ]
    },
    {
     "name": "stderr",
     "output_type": "stream",
     "text": [
      " 12%|█▏        | 348/3019 [01:14<03:21, 13.24it/s]"
     ]
    },
    {
     "name": "stdout",
     "output_type": "stream",
     "text": [
      "zero detection\n",
      "zero detection\n"
     ]
    },
    {
     "name": "stderr",
     "output_type": "stream",
     "text": [
      " 12%|█▏        | 359/3019 [01:28<27:13,  1.63it/s]"
     ]
    },
    {
     "name": "stdout",
     "output_type": "stream",
     "text": [
      "zero detection\n",
      "zero detection\n"
     ]
    },
    {
     "name": "stderr",
     "output_type": "stream",
     "text": [
      " 12%|█▏        | 370/3019 [01:30<15:31,  2.85it/s]"
     ]
    },
    {
     "name": "stdout",
     "output_type": "stream",
     "text": [
      "zero detection\n"
     ]
    },
    {
     "name": "stderr",
     "output_type": "stream",
     "text": [
      "\r",
      " 12%|█▏        | 373/3019 [01:31<11:19,  3.89it/s]"
     ]
    },
    {
     "name": "stdout",
     "output_type": "stream",
     "text": [
      "zero detection\n",
      "zero detection\n",
      "zero detection\n"
     ]
    },
    {
     "name": "stderr",
     "output_type": "stream",
     "text": [
      "\r",
      " 13%|█▎        | 382/3019 [01:31<08:12,  5.36it/s]"
     ]
    },
    {
     "name": "stdout",
     "output_type": "stream",
     "text": [
      "zero detection\n"
     ]
    },
    {
     "name": "stderr",
     "output_type": "stream",
     "text": [
      " 13%|█▎        | 391/3019 [01:31<04:56,  8.88it/s]"
     ]
    },
    {
     "name": "stdout",
     "output_type": "stream",
     "text": [
      "zero detection\n",
      "zero detection\n"
     ]
    },
    {
     "name": "stderr",
     "output_type": "stream",
     "text": [
      " 14%|█▍        | 423/3019 [01:38<06:14,  6.94it/s]"
     ]
    },
    {
     "name": "stdout",
     "output_type": "stream",
     "text": [
      "zero detection\n"
     ]
    },
    {
     "name": "stderr",
     "output_type": "stream",
     "text": [
      " 15%|█▍        | 452/3019 [01:44<04:31,  9.46it/s]"
     ]
    },
    {
     "name": "stdout",
     "output_type": "stream",
     "text": [
      "zero detection\n",
      "zero detection\n"
     ]
    },
    {
     "name": "stderr",
     "output_type": "stream",
     "text": [
      " 15%|█▌        | 458/3019 [01:46<09:59,  4.28it/s]"
     ]
    },
    {
     "name": "stdout",
     "output_type": "stream",
     "text": [
      "zero detection\n",
      "zero detection\n"
     ]
    },
    {
     "name": "stderr",
     "output_type": "stream",
     "text": [
      "\r",
      " 15%|█▌        | 463/3019 [01:47<07:35,  5.62it/s]"
     ]
    },
    {
     "name": "stdout",
     "output_type": "stream",
     "text": [
      "zero detection\n"
     ]
    },
    {
     "name": "stderr",
     "output_type": "stream",
     "text": [
      " 16%|█▌        | 471/3019 [01:51<19:53,  2.13it/s]"
     ]
    },
    {
     "name": "stdout",
     "output_type": "stream",
     "text": [
      "zero detection\n"
     ]
    },
    {
     "name": "stderr",
     "output_type": "stream",
     "text": [
      " 16%|█▌        | 475/3019 [01:52<14:38,  2.89it/s]"
     ]
    },
    {
     "name": "stdout",
     "output_type": "stream",
     "text": [
      "zero detection\n"
     ]
    },
    {
     "name": "stderr",
     "output_type": "stream",
     "text": [
      " 16%|█▌        | 483/3019 [01:53<12:07,  3.48it/s]"
     ]
    },
    {
     "name": "stdout",
     "output_type": "stream",
     "text": [
      "zero detection\n"
     ]
    },
    {
     "name": "stderr",
     "output_type": "stream",
     "text": [
      "\r",
      " 16%|█▌        | 485/3019 [01:54<16:11,  2.61it/s]"
     ]
    },
    {
     "name": "stdout",
     "output_type": "stream",
     "text": [
      "zero detection\n"
     ]
    },
    {
     "name": "stderr",
     "output_type": "stream",
     "text": [
      " 17%|█▋        | 504/3019 [01:56<10:55,  3.84it/s]"
     ]
    },
    {
     "name": "stdout",
     "output_type": "stream",
     "text": [
      "zero detection\n"
     ]
    },
    {
     "name": "stderr",
     "output_type": "stream",
     "text": [
      " 17%|█▋        | 512/3019 [02:02<47:22,  1.13s/it]"
     ]
    },
    {
     "name": "stdout",
     "output_type": "stream",
     "text": [
      "zero detection\n",
      "zero detection\n",
      "zero detection\n"
     ]
    },
    {
     "name": "stderr",
     "output_type": "stream",
     "text": [
      " 17%|█▋        | 523/3019 [02:03<18:26,  2.26it/s]"
     ]
    },
    {
     "name": "stdout",
     "output_type": "stream",
     "text": [
      "zero detection\n"
     ]
    },
    {
     "name": "stderr",
     "output_type": "stream",
     "text": [
      " 18%|█▊        | 531/3019 [02:04<13:39,  3.04it/s]"
     ]
    },
    {
     "name": "stdout",
     "output_type": "stream",
     "text": [
      "zero detection\n"
     ]
    },
    {
     "name": "stderr",
     "output_type": "stream",
     "text": [
      " 18%|█▊        | 543/3019 [02:08<10:45,  3.83it/s]"
     ]
    },
    {
     "name": "stdout",
     "output_type": "stream",
     "text": [
      "zero detection\n"
     ]
    },
    {
     "name": "stderr",
     "output_type": "stream",
     "text": [
      " 18%|█▊        | 551/3019 [02:10<13:39,  3.01it/s]"
     ]
    },
    {
     "name": "stdout",
     "output_type": "stream",
     "text": [
      "zero detection\n",
      "zero detection\n"
     ]
    },
    {
     "name": "stderr",
     "output_type": "stream",
     "text": [
      " 19%|█▉        | 584/3019 [02:17<11:48,  3.44it/s]"
     ]
    },
    {
     "name": "stdout",
     "output_type": "stream",
     "text": [
      "zero detection\n"
     ]
    },
    {
     "name": "stderr",
     "output_type": "stream",
     "text": [
      " 20%|█▉        | 597/3019 [02:18<06:54,  5.85it/s]"
     ]
    },
    {
     "name": "stdout",
     "output_type": "stream",
     "text": [
      "zero detection\n"
     ]
    },
    {
     "name": "stderr",
     "output_type": "stream",
     "text": [
      " 20%|█▉        | 602/3019 [02:20<08:33,  4.71it/s]"
     ]
    },
    {
     "name": "stdout",
     "output_type": "stream",
     "text": [
      "zero detection\n"
     ]
    },
    {
     "name": "stderr",
     "output_type": "stream",
     "text": [
      "\r",
      " 20%|██        | 606/3019 [02:21<09:18,  4.32it/s]"
     ]
    },
    {
     "name": "stdout",
     "output_type": "stream",
     "text": [
      "zero detection\n",
      "zero detection\n"
     ]
    },
    {
     "name": "stderr",
     "output_type": "stream",
     "text": [
      "\r",
      " 20%|██        | 614/3019 [02:22<07:05,  5.65it/s]"
     ]
    },
    {
     "name": "stdout",
     "output_type": "stream",
     "text": [
      "zero detection\n",
      "zero detection\n"
     ]
    },
    {
     "name": "stderr",
     "output_type": "stream",
     "text": [
      " 21%|██        | 639/3019 [02:23<03:15, 12.20it/s]"
     ]
    },
    {
     "name": "stdout",
     "output_type": "stream",
     "text": [
      "zero detection\n"
     ]
    },
    {
     "name": "stderr",
     "output_type": "stream",
     "text": [
      " 22%|██▏       | 652/3019 [02:25<07:40,  5.14it/s]"
     ]
    },
    {
     "name": "stdout",
     "output_type": "stream",
     "text": [
      "zero detection\n"
     ]
    },
    {
     "name": "stderr",
     "output_type": "stream",
     "text": [
      "\r",
      " 22%|██▏       | 657/3019 [02:25<06:02,  6.52it/s]"
     ]
    },
    {
     "name": "stdout",
     "output_type": "stream",
     "text": [
      "zero detection\n"
     ]
    },
    {
     "name": "stderr",
     "output_type": "stream",
     "text": [
      " 22%|██▏       | 669/3019 [02:26<04:12,  9.29it/s]"
     ]
    },
    {
     "name": "stdout",
     "output_type": "stream",
     "text": [
      "zero detection\n",
      "zero detection\n"
     ]
    },
    {
     "name": "stderr",
     "output_type": "stream",
     "text": [
      " 23%|██▎       | 684/3019 [02:28<04:38,  8.38it/s]"
     ]
    },
    {
     "name": "stdout",
     "output_type": "stream",
     "text": [
      "zero detection\n"
     ]
    },
    {
     "name": "stderr",
     "output_type": "stream",
     "text": [
      " 23%|██▎       | 701/3019 [02:32<07:30,  5.14it/s]"
     ]
    },
    {
     "name": "stdout",
     "output_type": "stream",
     "text": [
      "zero detection\n",
      "zero detection\n"
     ]
    },
    {
     "name": "stderr",
     "output_type": "stream",
     "text": [
      " 24%|██▎       | 712/3019 [02:32<03:29, 11.04it/s]"
     ]
    },
    {
     "name": "stdout",
     "output_type": "stream",
     "text": [
      "zero detection\n",
      "zero detection\n"
     ]
    },
    {
     "name": "stderr",
     "output_type": "stream",
     "text": [
      " 25%|██▍       | 751/3019 [02:38<05:25,  6.97it/s]"
     ]
    },
    {
     "name": "stdout",
     "output_type": "stream",
     "text": [
      "zero detection\n",
      "zero detection\n",
      "zero detection\n"
     ]
    },
    {
     "name": "stderr",
     "output_type": "stream",
     "text": [
      " 25%|██▌       | 766/3019 [02:40<04:17,  8.74it/s]"
     ]
    },
    {
     "name": "stdout",
     "output_type": "stream",
     "text": [
      "zero detection\n"
     ]
    },
    {
     "name": "stderr",
     "output_type": "stream",
     "text": [
      " 26%|██▌       | 781/3019 [02:42<05:38,  6.61it/s]"
     ]
    },
    {
     "name": "stdout",
     "output_type": "stream",
     "text": [
      "zero detection\n",
      "zero detection\n"
     ]
    },
    {
     "name": "stderr",
     "output_type": "stream",
     "text": [
      " 26%|██▋       | 797/3019 [02:51<36:34,  1.01it/s]"
     ]
    },
    {
     "name": "stdout",
     "output_type": "stream",
     "text": [
      "zero detection\n"
     ]
    },
    {
     "name": "stderr",
     "output_type": "stream",
     "text": [
      " 27%|██▋       | 810/3019 [02:53<09:46,  3.77it/s]"
     ]
    },
    {
     "name": "stdout",
     "output_type": "stream",
     "text": [
      "zero detection\n",
      "zero detection\n",
      "zero detection\n"
     ]
    },
    {
     "name": "stderr",
     "output_type": "stream",
     "text": [
      "\r",
      " 27%|██▋       | 814/3019 [02:54<09:43,  3.78it/s]"
     ]
    },
    {
     "name": "stdout",
     "output_type": "stream",
     "text": [
      "zero detection\n",
      "zero detection\n"
     ]
    },
    {
     "name": "stderr",
     "output_type": "stream",
     "text": [
      "\r",
      " 27%|██▋       | 818/3019 [02:55<08:25,  4.36it/s]"
     ]
    },
    {
     "name": "stdout",
     "output_type": "stream",
     "text": [
      "zero detection\n"
     ]
    },
    {
     "name": "stderr",
     "output_type": "stream",
     "text": [
      " 28%|██▊       | 832/3019 [02:56<05:46,  6.30it/s]"
     ]
    },
    {
     "name": "stdout",
     "output_type": "stream",
     "text": [
      "zero detection\n"
     ]
    },
    {
     "name": "stderr",
     "output_type": "stream",
     "text": [
      " 28%|██▊       | 837/3019 [02:58<10:00,  3.64it/s]"
     ]
    },
    {
     "name": "stdout",
     "output_type": "stream",
     "text": [
      "zero detection\n"
     ]
    },
    {
     "name": "stderr",
     "output_type": "stream",
     "text": [
      "\r",
      " 28%|██▊       | 844/3019 [03:00<10:13,  3.54it/s]"
     ]
    },
    {
     "name": "stdout",
     "output_type": "stream",
     "text": [
      "zero detection\n"
     ]
    },
    {
     "name": "stderr",
     "output_type": "stream",
     "text": [
      " 28%|██▊       | 853/3019 [03:01<05:36,  6.44it/s]"
     ]
    },
    {
     "name": "stdout",
     "output_type": "stream",
     "text": [
      "zero detection\n",
      "zero detection\n"
     ]
    },
    {
     "name": "stderr",
     "output_type": "stream",
     "text": [
      " 29%|██▉       | 873/3019 [03:11<34:37,  1.03it/s]"
     ]
    },
    {
     "name": "stdout",
     "output_type": "stream",
     "text": [
      "zero detection\n",
      "zero detection\n"
     ]
    },
    {
     "name": "stderr",
     "output_type": "stream",
     "text": [
      " 29%|██▉       | 885/3019 [03:13<17:57,  1.98it/s]"
     ]
    },
    {
     "name": "stdout",
     "output_type": "stream",
     "text": [
      "zero detection\n"
     ]
    },
    {
     "name": "stderr",
     "output_type": "stream",
     "text": [
      " 30%|██▉       | 896/3019 [03:15<08:50,  4.00it/s]"
     ]
    },
    {
     "name": "stdout",
     "output_type": "stream",
     "text": [
      "zero detection\n"
     ]
    },
    {
     "name": "stderr",
     "output_type": "stream",
     "text": [
      "\r",
      " 30%|██▉       | 899/3019 [03:16<10:27,  3.38it/s]"
     ]
    },
    {
     "name": "stdout",
     "output_type": "stream",
     "text": [
      "zero detection\n"
     ]
    },
    {
     "name": "stderr",
     "output_type": "stream",
     "text": [
      " 30%|███       | 917/3019 [03:27<21:39,  1.62it/s]"
     ]
    },
    {
     "name": "stdout",
     "output_type": "stream",
     "text": [
      "zero detection\n"
     ]
    },
    {
     "name": "stderr",
     "output_type": "stream",
     "text": [
      " 31%|███       | 923/3019 [03:28<11:38,  3.00it/s]"
     ]
    },
    {
     "name": "stdout",
     "output_type": "stream",
     "text": [
      "zero detection\n"
     ]
    },
    {
     "name": "stderr",
     "output_type": "stream",
     "text": [
      " 31%|███       | 935/3019 [03:30<10:25,  3.33it/s]"
     ]
    },
    {
     "name": "stdout",
     "output_type": "stream",
     "text": [
      "zero detection\n"
     ]
    },
    {
     "name": "stderr",
     "output_type": "stream",
     "text": [
      " 31%|███▏      | 944/3019 [03:31<07:11,  4.81it/s]"
     ]
    },
    {
     "name": "stdout",
     "output_type": "stream",
     "text": [
      "zero detection\n"
     ]
    },
    {
     "name": "stderr",
     "output_type": "stream",
     "text": [
      " 32%|███▏      | 968/3019 [03:33<03:28,  9.83it/s]"
     ]
    },
    {
     "name": "stdout",
     "output_type": "stream",
     "text": [
      "zero detection\n"
     ]
    },
    {
     "name": "stderr",
     "output_type": "stream",
     "text": [
      " 32%|███▏      | 974/3019 [03:35<05:42,  5.97it/s]"
     ]
    },
    {
     "name": "stdout",
     "output_type": "stream",
     "text": [
      "zero detection\n"
     ]
    },
    {
     "name": "stderr",
     "output_type": "stream",
     "text": [
      " 33%|███▎      | 989/3019 [03:36<02:35, 13.05it/s]"
     ]
    },
    {
     "name": "stdout",
     "output_type": "stream",
     "text": [
      "zero detection\n",
      "zero detection\n"
     ]
    },
    {
     "name": "stderr",
     "output_type": "stream",
     "text": [
      "\r",
      " 33%|███▎      | 992/3019 [03:38<08:34,  3.94it/s]"
     ]
    },
    {
     "name": "stdout",
     "output_type": "stream",
     "text": [
      "zero detection\n"
     ]
    },
    {
     "name": "stderr",
     "output_type": "stream",
     "text": [
      " 33%|███▎      | 1003/3019 [03:39<04:40,  7.18it/s]"
     ]
    },
    {
     "name": "stdout",
     "output_type": "stream",
     "text": [
      "zero detection\n"
     ]
    },
    {
     "name": "stderr",
     "output_type": "stream",
     "text": [
      " 33%|███▎      | 1009/3019 [03:40<06:39,  5.04it/s]"
     ]
    },
    {
     "name": "stdout",
     "output_type": "stream",
     "text": [
      "zero detection\n"
     ]
    },
    {
     "name": "stderr",
     "output_type": "stream",
     "text": [
      " 34%|███▍      | 1023/3019 [03:40<02:57, 11.23it/s]"
     ]
    },
    {
     "name": "stdout",
     "output_type": "stream",
     "text": [
      "zero detection\n"
     ]
    },
    {
     "name": "stderr",
     "output_type": "stream",
     "text": [
      " 34%|███▍      | 1039/3019 [03:45<07:34,  4.35it/s]"
     ]
    },
    {
     "name": "stdout",
     "output_type": "stream",
     "text": [
      "zero detection\n",
      "zero detection\n"
     ]
    },
    {
     "name": "stderr",
     "output_type": "stream",
     "text": [
      " 35%|███▍      | 1047/3019 [03:45<04:38,  7.09it/s]"
     ]
    },
    {
     "name": "stdout",
     "output_type": "stream",
     "text": [
      "zero detection\n"
     ]
    },
    {
     "name": "stderr",
     "output_type": "stream",
     "text": [
      " 35%|███▌      | 1065/3019 [03:50<09:18,  3.50it/s]"
     ]
    },
    {
     "name": "stdout",
     "output_type": "stream",
     "text": [
      "zero detection\n",
      "zero detection\n"
     ]
    },
    {
     "name": "stderr",
     "output_type": "stream",
     "text": [
      " 36%|███▌      | 1079/3019 [03:54<07:50,  4.12it/s]"
     ]
    },
    {
     "name": "stdout",
     "output_type": "stream",
     "text": [
      "zero detection\n",
      "zero detection\n"
     ]
    },
    {
     "name": "stderr",
     "output_type": "stream",
     "text": [
      " 36%|███▌      | 1091/3019 [03:56<04:51,  6.60it/s]"
     ]
    },
    {
     "name": "stdout",
     "output_type": "stream",
     "text": [
      "zero detection\n",
      "zero detection\n"
     ]
    },
    {
     "name": "stderr",
     "output_type": "stream",
     "text": [
      "\r",
      " 36%|███▌      | 1094/3019 [04:04<31:25,  1.02it/s]"
     ]
    },
    {
     "name": "stdout",
     "output_type": "stream",
     "text": [
      "zero detection\n"
     ]
    },
    {
     "name": "stderr",
     "output_type": "stream",
     "text": [
      " 37%|███▋      | 1111/3019 [04:05<08:59,  3.54it/s]"
     ]
    },
    {
     "name": "stdout",
     "output_type": "stream",
     "text": [
      "zero detection\n",
      "zero detection\n"
     ]
    },
    {
     "name": "stderr",
     "output_type": "stream",
     "text": [
      "\r",
      " 37%|███▋      | 1117/3019 [04:06<07:00,  4.52it/s]"
     ]
    },
    {
     "name": "stdout",
     "output_type": "stream",
     "text": [
      "zero detection\n"
     ]
    },
    {
     "name": "stderr",
     "output_type": "stream",
     "text": [
      " 38%|███▊      | 1137/3019 [04:10<05:17,  5.92it/s]"
     ]
    },
    {
     "name": "stdout",
     "output_type": "stream",
     "text": [
      "zero detection\n"
     ]
    },
    {
     "name": "stderr",
     "output_type": "stream",
     "text": [
      " 38%|███▊      | 1145/3019 [04:13<07:46,  4.02it/s]"
     ]
    },
    {
     "name": "stdout",
     "output_type": "stream",
     "text": [
      "zero detection\n",
      "zero detection\n"
     ]
    },
    {
     "name": "stderr",
     "output_type": "stream",
     "text": [
      " 38%|███▊      | 1156/3019 [04:16<06:09,  5.05it/s]"
     ]
    },
    {
     "name": "stdout",
     "output_type": "stream",
     "text": [
      "zero detection\n",
      "zero detection\n"
     ]
    },
    {
     "name": "stderr",
     "output_type": "stream",
     "text": [
      " 39%|███▊      | 1169/3019 [04:18<04:26,  6.93it/s]"
     ]
    },
    {
     "name": "stdout",
     "output_type": "stream",
     "text": [
      "zero detection\n"
     ]
    },
    {
     "name": "stderr",
     "output_type": "stream",
     "text": [
      " 39%|███▉      | 1176/3019 [04:19<04:02,  7.61it/s]"
     ]
    },
    {
     "name": "stdout",
     "output_type": "stream",
     "text": [
      "zero detection\n"
     ]
    },
    {
     "name": "stderr",
     "output_type": "stream",
     "text": [
      " 39%|███▉      | 1184/3019 [04:20<04:06,  7.44it/s]"
     ]
    },
    {
     "name": "stdout",
     "output_type": "stream",
     "text": [
      "zero detection\n"
     ]
    },
    {
     "name": "stderr",
     "output_type": "stream",
     "text": [
      " 39%|███▉      | 1189/3019 [04:21<04:03,  7.52it/s]"
     ]
    },
    {
     "name": "stdout",
     "output_type": "stream",
     "text": [
      "zero detection\n"
     ]
    },
    {
     "name": "stderr",
     "output_type": "stream",
     "text": [
      " 40%|███▉      | 1202/3019 [04:23<03:47,  8.00it/s]"
     ]
    },
    {
     "name": "stdout",
     "output_type": "stream",
     "text": [
      "zero detection\n"
     ]
    },
    {
     "name": "stderr",
     "output_type": "stream",
     "text": [
      "\r",
      " 40%|███▉      | 1207/3019 [04:23<04:03,  7.44it/s]"
     ]
    },
    {
     "name": "stdout",
     "output_type": "stream",
     "text": [
      "zero detection\n"
     ]
    },
    {
     "name": "stderr",
     "output_type": "stream",
     "text": [
      " 40%|████      | 1219/3019 [04:24<02:36, 11.48it/s]"
     ]
    },
    {
     "name": "stdout",
     "output_type": "stream",
     "text": [
      "zero detection\n",
      "zero detection\n",
      "zero detection\n",
      "zero detection\n"
     ]
    },
    {
     "name": "stderr",
     "output_type": "stream",
     "text": [
      "\r",
      " 41%|████      | 1223/3019 [04:25<03:34,  8.36it/s]"
     ]
    },
    {
     "name": "stdout",
     "output_type": "stream",
     "text": [
      "zero detection\n"
     ]
    },
    {
     "name": "stderr",
     "output_type": "stream",
     "text": [
      " 41%|████      | 1234/3019 [04:27<07:22,  4.04it/s]"
     ]
    },
    {
     "name": "stdout",
     "output_type": "stream",
     "text": [
      "zero detection\n",
      "zero detection\n"
     ]
    },
    {
     "name": "stderr",
     "output_type": "stream",
     "text": [
      " 41%|████      | 1244/3019 [04:28<04:16,  6.92it/s]"
     ]
    },
    {
     "name": "stdout",
     "output_type": "stream",
     "text": [
      "zero detection\n"
     ]
    },
    {
     "name": "stderr",
     "output_type": "stream",
     "text": [
      "\r",
      " 41%|████▏     | 1247/3019 [04:28<03:44,  7.90it/s]"
     ]
    },
    {
     "name": "stdout",
     "output_type": "stream",
     "text": [
      "zero detection\n"
     ]
    },
    {
     "name": "stderr",
     "output_type": "stream",
     "text": [
      " 42%|████▏     | 1257/3019 [04:28<02:17, 12.85it/s]"
     ]
    },
    {
     "name": "stdout",
     "output_type": "stream",
     "text": [
      "zero detection\n"
     ]
    },
    {
     "name": "stderr",
     "output_type": "stream",
     "text": [
      " 42%|████▏     | 1275/3019 [04:31<02:44, 10.59it/s]"
     ]
    },
    {
     "name": "stdout",
     "output_type": "stream",
     "text": [
      "zero detection\n"
     ]
    },
    {
     "name": "stderr",
     "output_type": "stream",
     "text": [
      " 43%|████▎     | 1290/3019 [04:35<08:00,  3.60it/s]"
     ]
    },
    {
     "name": "stdout",
     "output_type": "stream",
     "text": [
      "zero detection\n",
      "zero detection\n"
     ]
    },
    {
     "name": "stderr",
     "output_type": "stream",
     "text": [
      " 43%|████▎     | 1298/3019 [04:37<05:28,  5.24it/s]"
     ]
    },
    {
     "name": "stdout",
     "output_type": "stream",
     "text": [
      "zero detection\n"
     ]
    },
    {
     "name": "stderr",
     "output_type": "stream",
     "text": [
      " 44%|████▎     | 1317/3019 [04:39<02:58,  9.54it/s]"
     ]
    },
    {
     "name": "stdout",
     "output_type": "stream",
     "text": [
      "zero detection\n"
     ]
    },
    {
     "name": "stderr",
     "output_type": "stream",
     "text": [
      " 44%|████▍     | 1330/3019 [04:40<03:08,  8.96it/s]"
     ]
    },
    {
     "name": "stdout",
     "output_type": "stream",
     "text": [
      "zero detection\n"
     ]
    },
    {
     "name": "stderr",
     "output_type": "stream",
     "text": [
      " 44%|████▍     | 1343/3019 [04:41<02:51,  9.79it/s]"
     ]
    },
    {
     "name": "stdout",
     "output_type": "stream",
     "text": [
      "zero detection\n"
     ]
    },
    {
     "name": "stderr",
     "output_type": "stream",
     "text": [
      " 45%|████▌     | 1359/3019 [04:53<10:09,  2.72it/s]"
     ]
    },
    {
     "name": "stdout",
     "output_type": "stream",
     "text": [
      "zero detection\n"
     ]
    },
    {
     "name": "stderr",
     "output_type": "stream",
     "text": [
      "\r",
      " 45%|████▌     | 1361/3019 [04:53<07:36,  3.63it/s]"
     ]
    },
    {
     "name": "stdout",
     "output_type": "stream",
     "text": [
      "zero detection\n"
     ]
    },
    {
     "name": "stderr",
     "output_type": "stream",
     "text": [
      " 45%|████▌     | 1367/3019 [04:57<15:54,  1.73it/s]"
     ]
    },
    {
     "name": "stdout",
     "output_type": "stream",
     "text": [
      "zero detection\n"
     ]
    },
    {
     "name": "stderr",
     "output_type": "stream",
     "text": [
      " 46%|████▌     | 1383/3019 [04:58<07:04,  3.85it/s]"
     ]
    },
    {
     "name": "stdout",
     "output_type": "stream",
     "text": [
      "zero detection\n"
     ]
    },
    {
     "name": "stderr",
     "output_type": "stream",
     "text": [
      " 46%|████▌     | 1391/3019 [04:59<03:50,  7.05it/s]"
     ]
    },
    {
     "name": "stdout",
     "output_type": "stream",
     "text": [
      "zero detection\n"
     ]
    },
    {
     "name": "stderr",
     "output_type": "stream",
     "text": [
      "\r",
      " 46%|████▌     | 1394/3019 [04:59<03:02,  8.92it/s]"
     ]
    },
    {
     "name": "stdout",
     "output_type": "stream",
     "text": [
      "zero detection\n"
     ]
    },
    {
     "name": "stderr",
     "output_type": "stream",
     "text": [
      "\r",
      " 46%|████▋     | 1397/3019 [05:02<11:28,  2.36it/s]"
     ]
    },
    {
     "name": "stdout",
     "output_type": "stream",
     "text": [
      "zero detection\n"
     ]
    },
    {
     "name": "stderr",
     "output_type": "stream",
     "text": [
      " 47%|████▋     | 1416/3019 [05:07<07:26,  3.59it/s]"
     ]
    },
    {
     "name": "stdout",
     "output_type": "stream",
     "text": [
      "zero detection\n",
      "zero detection\n"
     ]
    },
    {
     "name": "stderr",
     "output_type": "stream",
     "text": [
      " 47%|████▋     | 1430/3019 [05:08<03:23,  7.80it/s]"
     ]
    },
    {
     "name": "stdout",
     "output_type": "stream",
     "text": [
      "zero detection\n"
     ]
    },
    {
     "name": "stderr",
     "output_type": "stream",
     "text": [
      " 48%|████▊     | 1446/3019 [05:10<02:44,  9.57it/s]"
     ]
    },
    {
     "name": "stdout",
     "output_type": "stream",
     "text": [
      "zero detection\n",
      "zero detection\n"
     ]
    },
    {
     "name": "stderr",
     "output_type": "stream",
     "text": [
      " 48%|████▊     | 1458/3019 [05:18<17:56,  1.45it/s]"
     ]
    },
    {
     "name": "stdout",
     "output_type": "stream",
     "text": [
      "zero detection\n"
     ]
    },
    {
     "name": "stderr",
     "output_type": "stream",
     "text": [
      "\r",
      " 48%|████▊     | 1461/3019 [05:23<25:03,  1.04it/s]"
     ]
    },
    {
     "name": "stdout",
     "output_type": "stream",
     "text": [
      "zero detection\n"
     ]
    },
    {
     "name": "stderr",
     "output_type": "stream",
     "text": [
      " 49%|████▉     | 1478/3019 [05:23<09:21,  2.75it/s]"
     ]
    },
    {
     "name": "stdout",
     "output_type": "stream",
     "text": [
      "zero detection\n",
      "zero detection\n"
     ]
    },
    {
     "name": "stderr",
     "output_type": "stream",
     "text": [
      " 49%|████▉     | 1487/3019 [05:24<04:51,  5.26it/s]"
     ]
    },
    {
     "name": "stdout",
     "output_type": "stream",
     "text": [
      "zero detection\n"
     ]
    },
    {
     "name": "stderr",
     "output_type": "stream",
     "text": [
      " 50%|████▉     | 1505/3019 [05:25<01:48, 13.97it/s]"
     ]
    },
    {
     "name": "stdout",
     "output_type": "stream",
     "text": [
      "zero detection\n"
     ]
    },
    {
     "name": "stderr",
     "output_type": "stream",
     "text": [
      " 50%|█████     | 1516/3019 [05:28<03:36,  6.93it/s]"
     ]
    },
    {
     "name": "stdout",
     "output_type": "stream",
     "text": [
      "zero detection\n"
     ]
    },
    {
     "name": "stderr",
     "output_type": "stream",
     "text": [
      "\r",
      " 50%|█████     | 1518/3019 [05:28<03:04,  8.12it/s]"
     ]
    },
    {
     "name": "stdout",
     "output_type": "stream",
     "text": [
      "zero detection\n",
      "zero detection\n",
      "zero detection\n"
     ]
    },
    {
     "name": "stderr",
     "output_type": "stream",
     "text": [
      " 51%|█████     | 1528/3019 [05:35<08:07,  3.06it/s]"
     ]
    },
    {
     "name": "stdout",
     "output_type": "stream",
     "text": [
      "zero detection\n"
     ]
    },
    {
     "name": "stderr",
     "output_type": "stream",
     "text": [
      " 51%|█████     | 1538/3019 [05:38<10:01,  2.46it/s]"
     ]
    },
    {
     "name": "stdout",
     "output_type": "stream",
     "text": [
      "zero detection\n",
      "zero detection\n"
     ]
    },
    {
     "name": "stderr",
     "output_type": "stream",
     "text": [
      " 51%|█████     | 1544/3019 [05:40<08:16,  2.97it/s]"
     ]
    },
    {
     "name": "stdout",
     "output_type": "stream",
     "text": [
      "zero detection\n",
      "zero detection\n"
     ]
    },
    {
     "name": "stderr",
     "output_type": "stream",
     "text": [
      " 51%|█████▏    | 1551/3019 [05:44<12:32,  1.95it/s]"
     ]
    },
    {
     "name": "stdout",
     "output_type": "stream",
     "text": [
      "zero detection\n"
     ]
    },
    {
     "name": "stderr",
     "output_type": "stream",
     "text": [
      " 52%|█████▏    | 1561/3019 [05:45<05:35,  4.35it/s]"
     ]
    },
    {
     "name": "stdout",
     "output_type": "stream",
     "text": [
      "zero detection\n"
     ]
    },
    {
     "name": "stderr",
     "output_type": "stream",
     "text": [
      " 52%|█████▏    | 1572/3019 [05:46<04:06,  5.86it/s]"
     ]
    },
    {
     "name": "stdout",
     "output_type": "stream",
     "text": [
      "zero detection\n",
      "zero detection\n",
      "zero detection\n"
     ]
    },
    {
     "name": "stderr",
     "output_type": "stream",
     "text": [
      " 53%|█████▎    | 1587/3019 [05:47<02:31,  9.43it/s]"
     ]
    },
    {
     "name": "stdout",
     "output_type": "stream",
     "text": [
      "zero detection\n"
     ]
    },
    {
     "name": "stderr",
     "output_type": "stream",
     "text": [
      " 53%|█████▎    | 1594/3019 [05:48<03:04,  7.73it/s]"
     ]
    },
    {
     "name": "stdout",
     "output_type": "stream",
     "text": [
      "zero detection\n"
     ]
    },
    {
     "name": "stderr",
     "output_type": "stream",
     "text": [
      " 53%|█████▎    | 1603/3019 [05:51<05:46,  4.09it/s]"
     ]
    },
    {
     "name": "stdout",
     "output_type": "stream",
     "text": [
      "zero detection\n",
      "zero detection\n"
     ]
    },
    {
     "name": "stderr",
     "output_type": "stream",
     "text": [
      " 53%|█████▎    | 1614/3019 [05:55<08:45,  2.67it/s]"
     ]
    },
    {
     "name": "stdout",
     "output_type": "stream",
     "text": [
      "zero detection\n",
      "zero detection\n"
     ]
    },
    {
     "name": "stderr",
     "output_type": "stream",
     "text": [
      " 54%|█████▍    | 1623/3019 [05:57<06:43,  3.46it/s]"
     ]
    },
    {
     "name": "stdout",
     "output_type": "stream",
     "text": [
      "zero detection\n",
      "zero detection\n"
     ]
    },
    {
     "name": "stderr",
     "output_type": "stream",
     "text": [
      "\r",
      " 54%|█████▍    | 1625/3019 [05:59<09:09,  2.54it/s]"
     ]
    },
    {
     "name": "stdout",
     "output_type": "stream",
     "text": [
      "zero detection\n",
      "zero detection\n",
      "zero detection\n"
     ]
    },
    {
     "name": "stderr",
     "output_type": "stream",
     "text": [
      "\r",
      " 54%|█████▍    | 1632/3019 [06:02<09:46,  2.36it/s]"
     ]
    },
    {
     "name": "stdout",
     "output_type": "stream",
     "text": [
      "zero detection\n"
     ]
    },
    {
     "name": "stderr",
     "output_type": "stream",
     "text": [
      " 54%|█████▍    | 1642/3019 [06:04<11:25,  2.01it/s]"
     ]
    },
    {
     "name": "stdout",
     "output_type": "stream",
     "text": [
      "zero detection\n"
     ]
    },
    {
     "name": "stderr",
     "output_type": "stream",
     "text": [
      " 55%|█████▍    | 1648/3019 [06:08<12:06,  1.89it/s]"
     ]
    },
    {
     "name": "stdout",
     "output_type": "stream",
     "text": [
      "zero detection\n"
     ]
    },
    {
     "name": "stderr",
     "output_type": "stream",
     "text": [
      " 56%|█████▌    | 1683/3019 [06:19<04:46,  4.67it/s]"
     ]
    },
    {
     "name": "stdout",
     "output_type": "stream",
     "text": [
      "zero detection\n"
     ]
    },
    {
     "name": "stderr",
     "output_type": "stream",
     "text": [
      " 56%|█████▌    | 1691/3019 [06:19<03:16,  6.77it/s]"
     ]
    },
    {
     "name": "stdout",
     "output_type": "stream",
     "text": [
      "zero detection\n"
     ]
    },
    {
     "name": "stderr",
     "output_type": "stream",
     "text": [
      " 56%|█████▋    | 1704/3019 [06:20<02:01, 10.85it/s]"
     ]
    },
    {
     "name": "stdout",
     "output_type": "stream",
     "text": [
      "zero detection\n",
      "zero detection\n",
      "zero detection\n",
      "zero detection\n"
     ]
    },
    {
     "name": "stderr",
     "output_type": "stream",
     "text": [
      " 57%|█████▋    | 1722/3019 [06:24<05:55,  3.65it/s]"
     ]
    },
    {
     "name": "stdout",
     "output_type": "stream",
     "text": [
      "zero detection\n"
     ]
    },
    {
     "name": "stderr",
     "output_type": "stream",
     "text": [
      " 58%|█████▊    | 1736/3019 [06:27<05:49,  3.67it/s]"
     ]
    },
    {
     "name": "stdout",
     "output_type": "stream",
     "text": [
      "zero detection\n",
      "zero detection\n"
     ]
    },
    {
     "name": "stderr",
     "output_type": "stream",
     "text": [
      " 58%|█████▊    | 1758/3019 [06:31<04:40,  4.49it/s]"
     ]
    },
    {
     "name": "stdout",
     "output_type": "stream",
     "text": [
      "zero detection\n",
      "zero detection\n"
     ]
    },
    {
     "name": "stderr",
     "output_type": "stream",
     "text": [
      " 59%|█████▊    | 1768/3019 [06:33<05:27,  3.82it/s]"
     ]
    },
    {
     "name": "stdout",
     "output_type": "stream",
     "text": [
      "zero detection\n",
      "zero detection\n"
     ]
    },
    {
     "name": "stderr",
     "output_type": "stream",
     "text": [
      " 59%|█████▉    | 1781/3019 [06:35<03:22,  6.12it/s]"
     ]
    },
    {
     "name": "stdout",
     "output_type": "stream",
     "text": [
      "zero detection\n"
     ]
    },
    {
     "name": "stderr",
     "output_type": "stream",
     "text": [
      " 59%|█████▉    | 1793/3019 [06:36<02:36,  7.82it/s]"
     ]
    },
    {
     "name": "stdout",
     "output_type": "stream",
     "text": [
      "zero detection\n"
     ]
    },
    {
     "name": "stderr",
     "output_type": "stream",
     "text": [
      " 60%|█████▉    | 1803/3019 [06:37<02:02,  9.94it/s]"
     ]
    },
    {
     "name": "stdout",
     "output_type": "stream",
     "text": [
      "zero detection\n"
     ]
    },
    {
     "name": "stderr",
     "output_type": "stream",
     "text": [
      " 60%|██████    | 1815/3019 [06:41<05:11,  3.87it/s]"
     ]
    },
    {
     "name": "stdout",
     "output_type": "stream",
     "text": [
      "zero detection\n",
      "zero detection\n",
      "zero detection\n"
     ]
    },
    {
     "name": "stderr",
     "output_type": "stream",
     "text": [
      " 62%|██████▏   | 1857/3019 [06:55<06:04,  3.19it/s]"
     ]
    },
    {
     "name": "stdout",
     "output_type": "stream",
     "text": [
      "zero detection\n"
     ]
    },
    {
     "name": "stderr",
     "output_type": "stream",
     "text": [
      " 62%|██████▏   | 1861/3019 [06:55<04:10,  4.61it/s]"
     ]
    },
    {
     "name": "stdout",
     "output_type": "stream",
     "text": [
      "zero detection\n"
     ]
    },
    {
     "name": "stderr",
     "output_type": "stream",
     "text": [
      " 62%|██████▏   | 1867/3019 [06:56<04:10,  4.60it/s]"
     ]
    },
    {
     "name": "stdout",
     "output_type": "stream",
     "text": [
      "zero detection\n"
     ]
    },
    {
     "name": "stderr",
     "output_type": "stream",
     "text": [
      " 62%|██████▏   | 1882/3019 [06:59<04:26,  4.27it/s]"
     ]
    },
    {
     "name": "stdout",
     "output_type": "stream",
     "text": [
      "zero detection\n"
     ]
    },
    {
     "name": "stderr",
     "output_type": "stream",
     "text": [
      " 63%|██████▎   | 1903/3019 [07:05<02:52,  6.49it/s]"
     ]
    },
    {
     "name": "stdout",
     "output_type": "stream",
     "text": [
      "zero detection\n"
     ]
    },
    {
     "name": "stderr",
     "output_type": "stream",
     "text": [
      " 63%|██████▎   | 1910/3019 [07:06<02:11,  8.41it/s]"
     ]
    },
    {
     "name": "stdout",
     "output_type": "stream",
     "text": [
      "zero detection\n"
     ]
    },
    {
     "name": "stderr",
     "output_type": "stream",
     "text": [
      "\r",
      " 63%|██████▎   | 1914/3019 [07:06<01:40, 10.96it/s]"
     ]
    },
    {
     "name": "stdout",
     "output_type": "stream",
     "text": [
      "zero detection\n"
     ]
    },
    {
     "name": "stderr",
     "output_type": "stream",
     "text": [
      " 64%|██████▎   | 1924/3019 [07:10<03:30,  5.21it/s]"
     ]
    },
    {
     "name": "stdout",
     "output_type": "stream",
     "text": [
      "zero detection\n",
      "zero detection\n",
      "zero detection\n"
     ]
    },
    {
     "name": "stderr",
     "output_type": "stream",
     "text": [
      " 64%|██████▍   | 1938/3019 [07:13<04:29,  4.02it/s]"
     ]
    },
    {
     "name": "stdout",
     "output_type": "stream",
     "text": [
      "zero detection\n"
     ]
    },
    {
     "name": "stderr",
     "output_type": "stream",
     "text": [
      " 65%|██████▍   | 1960/3019 [07:17<04:35,  3.84it/s]"
     ]
    },
    {
     "name": "stdout",
     "output_type": "stream",
     "text": [
      "zero detection\n",
      "zero detection\n",
      "zero detection\n"
     ]
    },
    {
     "name": "stderr",
     "output_type": "stream",
     "text": [
      " 65%|██████▌   | 1976/3019 [07:18<01:55,  9.01it/s]"
     ]
    },
    {
     "name": "stdout",
     "output_type": "stream",
     "text": [
      "zero detection\n"
     ]
    },
    {
     "name": "stderr",
     "output_type": "stream",
     "text": [
      " 66%|██████▌   | 1986/3019 [07:18<01:10, 14.68it/s]"
     ]
    },
    {
     "name": "stdout",
     "output_type": "stream",
     "text": [
      "zero detection\n",
      "zero detection\n"
     ]
    },
    {
     "name": "stderr",
     "output_type": "stream",
     "text": [
      " 66%|██████▌   | 1993/3019 [07:20<02:24,  7.08it/s]"
     ]
    },
    {
     "name": "stdout",
     "output_type": "stream",
     "text": [
      "zero detection\n"
     ]
    },
    {
     "name": "stderr",
     "output_type": "stream",
     "text": [
      "\r",
      " 66%|██████▌   | 1995/3019 [07:20<02:18,  7.39it/s]"
     ]
    },
    {
     "name": "stdout",
     "output_type": "stream",
     "text": [
      "zero detection\n"
     ]
    },
    {
     "name": "stderr",
     "output_type": "stream",
     "text": [
      "\r",
      " 66%|██████▌   | 1998/3019 [07:21<03:10,  5.36it/s]"
     ]
    },
    {
     "name": "stdout",
     "output_type": "stream",
     "text": [
      "zero detection\n"
     ]
    },
    {
     "name": "stderr",
     "output_type": "stream",
     "text": [
      " 66%|██████▋   | 2006/3019 [07:22<02:01,  8.35it/s]"
     ]
    },
    {
     "name": "stdout",
     "output_type": "stream",
     "text": [
      "zero detection\n"
     ]
    },
    {
     "name": "stderr",
     "output_type": "stream",
     "text": [
      " 67%|██████▋   | 2018/3019 [07:22<01:19, 12.61it/s]"
     ]
    },
    {
     "name": "stdout",
     "output_type": "stream",
     "text": [
      "zero detection\n",
      "zero detection\n",
      "zero detection\n",
      "zero detection\n",
      "zero detection\n",
      "zero detection\n"
     ]
    },
    {
     "name": "stderr",
     "output_type": "stream",
     "text": [
      " 67%|██████▋   | 2035/3019 [07:25<03:47,  4.33it/s]"
     ]
    },
    {
     "name": "stdout",
     "output_type": "stream",
     "text": [
      "zero detection\n"
     ]
    },
    {
     "name": "stderr",
     "output_type": "stream",
     "text": [
      " 68%|██████▊   | 2043/3019 [07:28<05:15,  3.09it/s]"
     ]
    },
    {
     "name": "stdout",
     "output_type": "stream",
     "text": [
      "zero detection\n"
     ]
    },
    {
     "name": "stderr",
     "output_type": "stream",
     "text": [
      " 68%|██████▊   | 2048/3019 [07:35<11:01,  1.47it/s]"
     ]
    },
    {
     "name": "stdout",
     "output_type": "stream",
     "text": [
      "zero detection\n",
      "zero detection\n"
     ]
    },
    {
     "name": "stderr",
     "output_type": "stream",
     "text": [
      "\r",
      " 68%|██████▊   | 2050/3019 [07:35<08:19,  1.94it/s]"
     ]
    },
    {
     "name": "stdout",
     "output_type": "stream",
     "text": [
      "zero detection\n",
      "zero detection\n"
     ]
    },
    {
     "name": "stderr",
     "output_type": "stream",
     "text": [
      "\r",
      " 68%|██████▊   | 2054/3019 [07:36<06:40,  2.41it/s]"
     ]
    },
    {
     "name": "stdout",
     "output_type": "stream",
     "text": [
      "zero detection\n"
     ]
    },
    {
     "name": "stderr",
     "output_type": "stream",
     "text": [
      " 68%|██████▊   | 2062/3019 [07:37<03:53,  4.10it/s]"
     ]
    },
    {
     "name": "stdout",
     "output_type": "stream",
     "text": [
      "zero detection\n"
     ]
    },
    {
     "name": "stderr",
     "output_type": "stream",
     "text": [
      " 69%|██████▉   | 2081/3019 [07:39<01:49,  8.59it/s]"
     ]
    },
    {
     "name": "stdout",
     "output_type": "stream",
     "text": [
      "zero detection\n"
     ]
    },
    {
     "name": "stderr",
     "output_type": "stream",
     "text": [
      " 69%|██████▉   | 2086/3019 [07:40<02:28,  6.29it/s]"
     ]
    },
    {
     "name": "stdout",
     "output_type": "stream",
     "text": [
      "zero detection\n"
     ]
    },
    {
     "name": "stderr",
     "output_type": "stream",
     "text": [
      " 70%|██████▉   | 2099/3019 [07:41<01:06, 13.81it/s]"
     ]
    },
    {
     "name": "stdout",
     "output_type": "stream",
     "text": [
      "zero detection\n",
      "zero detection\n"
     ]
    },
    {
     "name": "stderr",
     "output_type": "stream",
     "text": [
      " 70%|██████▉   | 2106/3019 [07:42<01:37,  9.40it/s]"
     ]
    },
    {
     "name": "stdout",
     "output_type": "stream",
     "text": [
      "zero detection\n"
     ]
    },
    {
     "name": "stderr",
     "output_type": "stream",
     "text": [
      "\r",
      " 70%|██████▉   | 2109/3019 [07:42<01:19, 11.46it/s]"
     ]
    },
    {
     "name": "stdout",
     "output_type": "stream",
     "text": [
      "zero detection\n",
      "zero detection\n"
     ]
    },
    {
     "name": "stderr",
     "output_type": "stream",
     "text": [
      " 70%|███████   | 2118/3019 [07:43<01:18, 11.51it/s]"
     ]
    },
    {
     "name": "stdout",
     "output_type": "stream",
     "text": [
      "zero detection\n",
      "zero detection\n",
      "zero detection\n",
      "zero detection\n"
     ]
    },
    {
     "name": "stderr",
     "output_type": "stream",
     "text": [
      "\r",
      " 70%|███████   | 2123/3019 [07:43<01:12, 12.35it/s]"
     ]
    },
    {
     "name": "stdout",
     "output_type": "stream",
     "text": [
      "zero detection\n"
     ]
    },
    {
     "name": "stderr",
     "output_type": "stream",
     "text": [
      " 71%|███████   | 2132/3019 [07:44<01:08, 12.87it/s]"
     ]
    },
    {
     "name": "stdout",
     "output_type": "stream",
     "text": [
      "zero detection\n"
     ]
    },
    {
     "name": "stderr",
     "output_type": "stream",
     "text": [
      " 71%|███████   | 2145/3019 [07:50<05:32,  2.63it/s]"
     ]
    },
    {
     "name": "stdout",
     "output_type": "stream",
     "text": [
      "zero detection\n",
      "zero detection\n"
     ]
    },
    {
     "name": "stderr",
     "output_type": "stream",
     "text": [
      " 71%|███████▏  | 2155/3019 [07:51<02:46,  5.19it/s]"
     ]
    },
    {
     "name": "stdout",
     "output_type": "stream",
     "text": [
      "zero detection\n"
     ]
    },
    {
     "name": "stderr",
     "output_type": "stream",
     "text": [
      "\r",
      " 71%|███████▏  | 2157/3019 [07:51<02:23,  6.01it/s]"
     ]
    },
    {
     "name": "stdout",
     "output_type": "stream",
     "text": [
      "zero detection\n",
      "zero detection\n"
     ]
    },
    {
     "name": "stderr",
     "output_type": "stream",
     "text": [
      " 72%|███████▏  | 2172/3019 [07:57<02:50,  4.96it/s]"
     ]
    },
    {
     "name": "stdout",
     "output_type": "stream",
     "text": [
      "zero detection\n",
      "zero detection\n",
      "zero detection\n"
     ]
    },
    {
     "name": "stderr",
     "output_type": "stream",
     "text": [
      " 73%|███████▎  | 2194/3019 [07:58<01:11, 11.52it/s]"
     ]
    },
    {
     "name": "stdout",
     "output_type": "stream",
     "text": [
      "zero detection\n"
     ]
    },
    {
     "name": "stderr",
     "output_type": "stream",
     "text": [
      " 73%|███████▎  | 2210/3019 [08:00<02:15,  5.98it/s]"
     ]
    },
    {
     "name": "stdout",
     "output_type": "stream",
     "text": [
      "zero detection\n"
     ]
    },
    {
     "name": "stderr",
     "output_type": "stream",
     "text": [
      " 74%|███████▎  | 2221/3019 [08:01<02:05,  6.36it/s]"
     ]
    },
    {
     "name": "stdout",
     "output_type": "stream",
     "text": [
      "zero detection\n",
      "zero detection\n"
     ]
    },
    {
     "name": "stderr",
     "output_type": "stream",
     "text": [
      " 74%|███████▍  | 2234/3019 [08:02<00:57, 13.64it/s]"
     ]
    },
    {
     "name": "stdout",
     "output_type": "stream",
     "text": [
      "zero detection\n"
     ]
    },
    {
     "name": "stderr",
     "output_type": "stream",
     "text": [
      " 74%|███████▍  | 2244/3019 [08:07<05:02,  2.56it/s]"
     ]
    },
    {
     "name": "stdout",
     "output_type": "stream",
     "text": [
      "zero detection\n"
     ]
    },
    {
     "name": "stderr",
     "output_type": "stream",
     "text": [
      " 75%|███████▍  | 2260/3019 [08:08<01:40,  7.55it/s]"
     ]
    },
    {
     "name": "stdout",
     "output_type": "stream",
     "text": [
      "zero detection\n",
      "zero detection\n",
      "zero detection\n"
     ]
    },
    {
     "name": "stderr",
     "output_type": "stream",
     "text": [
      " 75%|███████▌  | 2271/3019 [08:13<05:57,  2.09it/s]"
     ]
    },
    {
     "name": "stdout",
     "output_type": "stream",
     "text": [
      "zero detection\n",
      "zero detection\n"
     ]
    },
    {
     "name": "stderr",
     "output_type": "stream",
     "text": [
      "\r",
      " 75%|███████▌  | 2277/3019 [08:13<04:17,  2.88it/s]"
     ]
    },
    {
     "name": "stdout",
     "output_type": "stream",
     "text": [
      "zero detection\n"
     ]
    },
    {
     "name": "stderr",
     "output_type": "stream",
     "text": [
      " 76%|███████▌  | 2294/3019 [08:19<03:42,  3.26it/s]"
     ]
    },
    {
     "name": "stdout",
     "output_type": "stream",
     "text": [
      "zero detection\n"
     ]
    },
    {
     "name": "stderr",
     "output_type": "stream",
     "text": [
      " 77%|███████▋  | 2312/3019 [08:24<05:02,  2.34it/s]"
     ]
    },
    {
     "name": "stdout",
     "output_type": "stream",
     "text": [
      "zero detection\n"
     ]
    },
    {
     "name": "stderr",
     "output_type": "stream",
     "text": [
      " 77%|███████▋  | 2318/3019 [08:26<04:16,  2.73it/s]"
     ]
    },
    {
     "name": "stdout",
     "output_type": "stream",
     "text": [
      "zero detection\n",
      "zero detection\n",
      "zero detection\n",
      "zero detection\n"
     ]
    },
    {
     "name": "stderr",
     "output_type": "stream",
     "text": [
      " 77%|███████▋  | 2335/3019 [08:34<12:34,  1.10s/it]"
     ]
    },
    {
     "name": "stdout",
     "output_type": "stream",
     "text": [
      "zero detection\n",
      "zero detection\n"
     ]
    },
    {
     "name": "stderr",
     "output_type": "stream",
     "text": [
      " 78%|███████▊  | 2346/3019 [08:35<06:13,  1.80it/s]"
     ]
    },
    {
     "name": "stdout",
     "output_type": "stream",
     "text": [
      "zero detection\n"
     ]
    },
    {
     "name": "stderr",
     "output_type": "stream",
     "text": [
      " 78%|███████▊  | 2358/3019 [08:40<07:00,  1.57it/s]"
     ]
    },
    {
     "name": "stdout",
     "output_type": "stream",
     "text": [
      "zero detection\n"
     ]
    },
    {
     "name": "stderr",
     "output_type": "stream",
     "text": [
      " 78%|███████▊  | 2362/3019 [08:41<04:36,  2.38it/s]"
     ]
    },
    {
     "name": "stdout",
     "output_type": "stream",
     "text": [
      "zero detection\n"
     ]
    },
    {
     "name": "stderr",
     "output_type": "stream",
     "text": [
      "\r",
      " 78%|███████▊  | 2365/3019 [08:41<03:31,  3.10it/s]"
     ]
    },
    {
     "name": "stdout",
     "output_type": "stream",
     "text": [
      "zero detection\n",
      "zero detection\n"
     ]
    },
    {
     "name": "stderr",
     "output_type": "stream",
     "text": [
      " 79%|███████▊  | 2372/3019 [08:42<02:57,  3.64it/s]"
     ]
    },
    {
     "name": "stdout",
     "output_type": "stream",
     "text": [
      "zero detection\n"
     ]
    },
    {
     "name": "stderr",
     "output_type": "stream",
     "text": [
      " 79%|███████▉  | 2390/3019 [08:50<04:47,  2.18it/s]"
     ]
    },
    {
     "name": "stdout",
     "output_type": "stream",
     "text": [
      "zero detection\n"
     ]
    },
    {
     "name": "stderr",
     "output_type": "stream",
     "text": [
      " 79%|███████▉  | 2399/3019 [08:53<03:45,  2.75it/s]"
     ]
    },
    {
     "name": "stdout",
     "output_type": "stream",
     "text": [
      "zero detection\n"
     ]
    },
    {
     "name": "stderr",
     "output_type": "stream",
     "text": [
      " 80%|███████▉  | 2406/3019 [08:53<02:02,  5.02it/s]"
     ]
    },
    {
     "name": "stdout",
     "output_type": "stream",
     "text": [
      "zero detection\n",
      "zero detection\n"
     ]
    },
    {
     "name": "stderr",
     "output_type": "stream",
     "text": [
      " 80%|████████  | 2422/3019 [08:56<01:59,  4.99it/s]"
     ]
    },
    {
     "name": "stdout",
     "output_type": "stream",
     "text": [
      "zero detection\n",
      "zero detection\n"
     ]
    },
    {
     "name": "stderr",
     "output_type": "stream",
     "text": [
      " 80%|████████  | 2427/3019 [09:01<06:44,  1.46it/s]"
     ]
    },
    {
     "name": "stdout",
     "output_type": "stream",
     "text": [
      "zero detection\n",
      "zero detection\n",
      "zero detection\n",
      "zero detection\n"
     ]
    },
    {
     "name": "stderr",
     "output_type": "stream",
     "text": [
      " 81%|████████  | 2442/3019 [09:02<02:55,  3.28it/s]"
     ]
    },
    {
     "name": "stdout",
     "output_type": "stream",
     "text": [
      "zero detection\n",
      "zero detection\n",
      "zero detection\n"
     ]
    },
    {
     "name": "stderr",
     "output_type": "stream",
     "text": [
      "\r",
      " 81%|████████  | 2444/3019 [09:04<03:55,  2.44it/s]"
     ]
    },
    {
     "name": "stdout",
     "output_type": "stream",
     "text": [
      "zero detection\n"
     ]
    },
    {
     "name": "stderr",
     "output_type": "stream",
     "text": [
      "\r",
      " 81%|████████  | 2446/3019 [09:05<04:18,  2.22it/s]"
     ]
    },
    {
     "name": "stdout",
     "output_type": "stream",
     "text": [
      "zero detection\n"
     ]
    },
    {
     "name": "stderr",
     "output_type": "stream",
     "text": [
      "\r",
      " 81%|████████  | 2451/3019 [09:06<03:51,  2.45it/s]"
     ]
    },
    {
     "name": "stdout",
     "output_type": "stream",
     "text": [
      "zero detection\n"
     ]
    },
    {
     "name": "stderr",
     "output_type": "stream",
     "text": [
      "\r",
      " 81%|████████▏ | 2453/3019 [09:08<04:47,  1.97it/s]"
     ]
    },
    {
     "name": "stdout",
     "output_type": "stream",
     "text": [
      "zero detection\n",
      "zero detection\n"
     ]
    },
    {
     "name": "stderr",
     "output_type": "stream",
     "text": [
      " 82%|████████▏ | 2470/3019 [09:08<01:32,  5.96it/s]"
     ]
    },
    {
     "name": "stdout",
     "output_type": "stream",
     "text": [
      "zero detection\n"
     ]
    },
    {
     "name": "stderr",
     "output_type": "stream",
     "text": [
      " 82%|████████▏ | 2487/3019 [09:10<00:58,  9.16it/s]"
     ]
    },
    {
     "name": "stdout",
     "output_type": "stream",
     "text": [
      "zero detection\n",
      "zero detection\n"
     ]
    },
    {
     "name": "stderr",
     "output_type": "stream",
     "text": [
      " 83%|████████▎ | 2494/3019 [09:13<02:49,  3.09it/s]"
     ]
    },
    {
     "name": "stdout",
     "output_type": "stream",
     "text": [
      "zero detection\n"
     ]
    },
    {
     "name": "stderr",
     "output_type": "stream",
     "text": [
      " 83%|████████▎ | 2511/3019 [09:15<01:24,  5.99it/s]"
     ]
    },
    {
     "name": "stdout",
     "output_type": "stream",
     "text": [
      "zero detection\n"
     ]
    },
    {
     "name": "stderr",
     "output_type": "stream",
     "text": [
      " 84%|████████▎ | 2525/3019 [09:17<01:28,  5.58it/s]"
     ]
    },
    {
     "name": "stdout",
     "output_type": "stream",
     "text": [
      "zero detection\n",
      "zero detection\n"
     ]
    },
    {
     "name": "stderr",
     "output_type": "stream",
     "text": [
      " 84%|████████▍ | 2536/3019 [09:19<01:05,  7.35it/s]"
     ]
    },
    {
     "name": "stdout",
     "output_type": "stream",
     "text": [
      "zero detection\n"
     ]
    },
    {
     "name": "stderr",
     "output_type": "stream",
     "text": [
      " 85%|████████▍ | 2555/3019 [09:22<01:58,  3.93it/s]"
     ]
    },
    {
     "name": "stdout",
     "output_type": "stream",
     "text": [
      "zero detection\n"
     ]
    },
    {
     "name": "stderr",
     "output_type": "stream",
     "text": [
      " 85%|████████▌ | 2569/3019 [09:23<00:52,  8.54it/s]"
     ]
    },
    {
     "name": "stdout",
     "output_type": "stream",
     "text": [
      "zero detection\n",
      "zero detection\n"
     ]
    },
    {
     "name": "stderr",
     "output_type": "stream",
     "text": [
      " 85%|████████▌ | 2576/3019 [09:25<01:11,  6.21it/s]"
     ]
    },
    {
     "name": "stdout",
     "output_type": "stream",
     "text": [
      "zero detection\n"
     ]
    },
    {
     "name": "stderr",
     "output_type": "stream",
     "text": [
      " 86%|████████▌ | 2585/3019 [09:27<01:26,  5.03it/s]"
     ]
    },
    {
     "name": "stdout",
     "output_type": "stream",
     "text": [
      "zero detection\n"
     ]
    },
    {
     "name": "stderr",
     "output_type": "stream",
     "text": [
      " 86%|████████▌ | 2592/3019 [09:28<01:18,  5.41it/s]"
     ]
    },
    {
     "name": "stdout",
     "output_type": "stream",
     "text": [
      "zero detection\n"
     ]
    },
    {
     "name": "stderr",
     "output_type": "stream",
     "text": [
      " 86%|████████▌ | 2599/3019 [09:30<01:24,  4.98it/s]"
     ]
    },
    {
     "name": "stdout",
     "output_type": "stream",
     "text": [
      "zero detection\n",
      "zero detection\n",
      "zero detection\n"
     ]
    },
    {
     "name": "stderr",
     "output_type": "stream",
     "text": [
      " 87%|████████▋ | 2627/3019 [09:33<00:32, 11.90it/s]"
     ]
    },
    {
     "name": "stdout",
     "output_type": "stream",
     "text": [
      "zero detection\n",
      "zero detection\n",
      "zero detection\n",
      "zero detection\n"
     ]
    },
    {
     "name": "stderr",
     "output_type": "stream",
     "text": [
      " 89%|████████▊ | 2672/3019 [09:39<01:16,  4.57it/s]"
     ]
    },
    {
     "name": "stdout",
     "output_type": "stream",
     "text": [
      "zero detection\n",
      "zero detection\n",
      "zero detection\n",
      "zero detection\n"
     ]
    },
    {
     "name": "stderr",
     "output_type": "stream",
     "text": [
      "\r",
      " 89%|████████▊ | 2676/3019 [09:39<00:57,  5.95it/s]"
     ]
    },
    {
     "name": "stdout",
     "output_type": "stream",
     "text": [
      "zero detection\n"
     ]
    },
    {
     "name": "stderr",
     "output_type": "stream",
     "text": [
      " 89%|████████▉ | 2689/3019 [09:44<01:57,  2.81it/s]"
     ]
    },
    {
     "name": "stdout",
     "output_type": "stream",
     "text": [
      "zero detection\n",
      "zero detection\n"
     ]
    },
    {
     "name": "stderr",
     "output_type": "stream",
     "text": [
      " 90%|████████▉ | 2708/3019 [09:45<00:43,  7.12it/s]"
     ]
    },
    {
     "name": "stdout",
     "output_type": "stream",
     "text": [
      "zero detection\n",
      "zero detection\n"
     ]
    },
    {
     "name": "stderr",
     "output_type": "stream",
     "text": [
      " 90%|█████████ | 2720/3019 [09:47<00:33,  8.81it/s]"
     ]
    },
    {
     "name": "stdout",
     "output_type": "stream",
     "text": [
      "zero detection\n"
     ]
    },
    {
     "name": "stderr",
     "output_type": "stream",
     "text": [
      " 90%|█████████ | 2726/3019 [09:47<00:23, 12.73it/s]"
     ]
    },
    {
     "name": "stdout",
     "output_type": "stream",
     "text": [
      "zero detection\n"
     ]
    },
    {
     "name": "stderr",
     "output_type": "stream",
     "text": [
      " 91%|█████████ | 2741/3019 [09:52<01:20,  3.45it/s]"
     ]
    },
    {
     "name": "stdout",
     "output_type": "stream",
     "text": [
      "zero detection\n"
     ]
    },
    {
     "name": "stderr",
     "output_type": "stream",
     "text": [
      " 91%|█████████ | 2754/3019 [09:56<01:14,  3.55it/s]"
     ]
    },
    {
     "name": "stdout",
     "output_type": "stream",
     "text": [
      "zero detection\n"
     ]
    },
    {
     "name": "stderr",
     "output_type": "stream",
     "text": [
      " 92%|█████████▏| 2764/3019 [09:57<00:39,  6.38it/s]"
     ]
    },
    {
     "name": "stdout",
     "output_type": "stream",
     "text": [
      "zero detection\n"
     ]
    },
    {
     "name": "stderr",
     "output_type": "stream",
     "text": [
      " 92%|█████████▏| 2776/3019 [09:58<00:25,  9.66it/s]"
     ]
    },
    {
     "name": "stdout",
     "output_type": "stream",
     "text": [
      "zero detection\n"
     ]
    },
    {
     "name": "stderr",
     "output_type": "stream",
     "text": [
      " 93%|█████████▎| 2794/3019 [09:58<00:13, 16.94it/s]"
     ]
    },
    {
     "name": "stdout",
     "output_type": "stream",
     "text": [
      "zero detection\n"
     ]
    },
    {
     "name": "stderr",
     "output_type": "stream",
     "text": [
      "\r",
      " 93%|█████████▎| 2798/3019 [09:59<00:12, 17.35it/s]"
     ]
    },
    {
     "name": "stdout",
     "output_type": "stream",
     "text": [
      "zero detection\n",
      "zero detection\n"
     ]
    },
    {
     "name": "stderr",
     "output_type": "stream",
     "text": [
      " 93%|█████████▎| 2807/3019 [10:00<00:19, 10.83it/s]"
     ]
    },
    {
     "name": "stdout",
     "output_type": "stream",
     "text": [
      "zero detection\n"
     ]
    },
    {
     "name": "stderr",
     "output_type": "stream",
     "text": [
      "\r",
      " 93%|█████████▎| 2809/3019 [10:00<00:16, 12.44it/s]"
     ]
    },
    {
     "name": "stdout",
     "output_type": "stream",
     "text": [
      "zero detection\n",
      "zero detection\n"
     ]
    },
    {
     "name": "stderr",
     "output_type": "stream",
     "text": [
      " 94%|█████████▎| 2827/3019 [10:04<00:46,  4.14it/s]"
     ]
    },
    {
     "name": "stdout",
     "output_type": "stream",
     "text": [
      "zero detection\n"
     ]
    },
    {
     "name": "stderr",
     "output_type": "stream",
     "text": [
      "\r",
      " 94%|█████████▍| 2831/3019 [10:04<00:37,  4.98it/s]"
     ]
    },
    {
     "name": "stdout",
     "output_type": "stream",
     "text": [
      "zero detection\n",
      "zero detection\n"
     ]
    },
    {
     "name": "stderr",
     "output_type": "stream",
     "text": [
      " 94%|█████████▍| 2842/3019 [10:05<00:20,  8.64it/s]"
     ]
    },
    {
     "name": "stdout",
     "output_type": "stream",
     "text": [
      "zero detection\n"
     ]
    },
    {
     "name": "stderr",
     "output_type": "stream",
     "text": [
      " 95%|█████████▍| 2854/3019 [10:07<00:25,  6.35it/s]"
     ]
    },
    {
     "name": "stdout",
     "output_type": "stream",
     "text": [
      "zero detection\n"
     ]
    },
    {
     "name": "stderr",
     "output_type": "stream",
     "text": [
      " 95%|█████████▌| 2872/3019 [10:11<00:26,  5.49it/s]"
     ]
    },
    {
     "name": "stdout",
     "output_type": "stream",
     "text": [
      "zero detection\n"
     ]
    },
    {
     "name": "stderr",
     "output_type": "stream",
     "text": [
      "\r",
      " 95%|█████████▌| 2874/3019 [10:11<00:23,  6.22it/s]"
     ]
    },
    {
     "name": "stdout",
     "output_type": "stream",
     "text": [
      "zero detection\n",
      "zero detection\n"
     ]
    },
    {
     "name": "stderr",
     "output_type": "stream",
     "text": [
      " 96%|█████████▌| 2897/3019 [10:13<00:10, 11.14it/s]"
     ]
    },
    {
     "name": "stdout",
     "output_type": "stream",
     "text": [
      "zero detection\n",
      "zero detection\n",
      "zero detection\n",
      "zero detection\n"
     ]
    },
    {
     "name": "stderr",
     "output_type": "stream",
     "text": [
      " 96%|█████████▋| 2907/3019 [10:15<00:12,  8.62it/s]"
     ]
    },
    {
     "name": "stdout",
     "output_type": "stream",
     "text": [
      "zero detection\n",
      "zero detection\n",
      "zero detection\n",
      "zero detection\n"
     ]
    },
    {
     "name": "stderr",
     "output_type": "stream",
     "text": [
      "\r",
      " 96%|█████████▋| 2913/3019 [10:15<00:09, 11.57it/s]"
     ]
    },
    {
     "name": "stdout",
     "output_type": "stream",
     "text": [
      "zero detection\n",
      "zero detection\n",
      "zero detection\n"
     ]
    },
    {
     "name": "stderr",
     "output_type": "stream",
     "text": [
      " 97%|█████████▋| 2942/3019 [10:25<00:24,  3.10it/s]"
     ]
    },
    {
     "name": "stdout",
     "output_type": "stream",
     "text": [
      "zero detection\n",
      "zero detection\n"
     ]
    },
    {
     "name": "stderr",
     "output_type": "stream",
     "text": [
      " 98%|█████████▊| 2951/3019 [10:25<00:09,  7.15it/s]"
     ]
    },
    {
     "name": "stdout",
     "output_type": "stream",
     "text": [
      "zero detection\n"
     ]
    },
    {
     "name": "stderr",
     "output_type": "stream",
     "text": [
      " 98%|█████████▊| 2960/3019 [10:26<00:04, 12.37it/s]"
     ]
    },
    {
     "name": "stdout",
     "output_type": "stream",
     "text": [
      "zero detection\n"
     ]
    },
    {
     "name": "stderr",
     "output_type": "stream",
     "text": [
      " 98%|█████████▊| 2964/3019 [10:27<00:14,  3.81it/s]"
     ]
    },
    {
     "name": "stdout",
     "output_type": "stream",
     "text": [
      "zero detection\n"
     ]
    },
    {
     "name": "stderr",
     "output_type": "stream",
     "text": [
      "\r",
      " 98%|█████████▊| 2966/3019 [10:28<00:17,  2.99it/s]"
     ]
    },
    {
     "name": "stdout",
     "output_type": "stream",
     "text": [
      "zero detection\n"
     ]
    },
    {
     "name": "stderr",
     "output_type": "stream",
     "text": [
      " 98%|█████████▊| 2971/3019 [10:29<00:13,  3.57it/s]"
     ]
    },
    {
     "name": "stdout",
     "output_type": "stream",
     "text": [
      "zero detection\n"
     ]
    },
    {
     "name": "stderr",
     "output_type": "stream",
     "text": [
      " 99%|█████████▊| 2978/3019 [10:31<00:08,  4.71it/s]"
     ]
    },
    {
     "name": "stdout",
     "output_type": "stream",
     "text": [
      "zero detection\n"
     ]
    },
    {
     "name": "stderr",
     "output_type": "stream",
     "text": [
      " 99%|█████████▉| 2985/3019 [10:35<00:27,  1.23it/s]"
     ]
    },
    {
     "name": "stdout",
     "output_type": "stream",
     "text": [
      "zero detection\n"
     ]
    },
    {
     "name": "stderr",
     "output_type": "stream",
     "text": [
      "\r",
      " 99%|█████████▉| 2993/3019 [10:36<00:15,  1.71it/s]"
     ]
    },
    {
     "name": "stdout",
     "output_type": "stream",
     "text": [
      "zero detection\n"
     ]
    },
    {
     "name": "stderr",
     "output_type": "stream",
     "text": [
      " 99%|█████████▉| 2998/3019 [10:38<00:12,  1.70it/s]"
     ]
    },
    {
     "name": "stdout",
     "output_type": "stream",
     "text": [
      "zero detection\n"
     ]
    },
    {
     "name": "stderr",
     "output_type": "stream",
     "text": [
      "100%|█████████▉| 3004/3019 [10:39<00:06,  2.43it/s]"
     ]
    },
    {
     "name": "stdout",
     "output_type": "stream",
     "text": [
      "zero detection\n"
     ]
    },
    {
     "name": "stderr",
     "output_type": "stream",
     "text": [
      "100%|█████████▉| 3017/3019 [10:42<00:00,  3.25it/s]"
     ]
    },
    {
     "name": "stdout",
     "output_type": "stream",
     "text": [
      "zero detection\n",
      "zero detection\n"
     ]
    },
    {
     "name": "stderr",
     "output_type": "stream",
     "text": [
      "100%|██████████| 3019/3019 [10:42<00:00,  4.70it/s]\n"
     ]
    }
   ],
   "source": [
    "new_test_ids = []\n",
    "rles = []\n",
    "for id, raw_pred in tqdm(zip(final_ids, raw_predictions),total=len(final_ids)):\n",
    "    ids, rle = numpy2encoding_no_overlap(raw_pred[0], id, raw_pred[1])\n",
    "    new_test_ids += ids\n",
    "    rles += rle"
   ]
  },
  {
   "cell_type": "code",
   "execution_count": 158,
   "metadata": {
    "collapsed": true
   },
   "outputs": [],
   "source": [
    "df = pd.DataFrame({ 'ImageId' : new_test_ids , 'EncodedPixels' : rles})\n",
    "df.to_csv('./416_final_model64v2.csv', index=False, columns=['ImageId', 'EncodedPixels'])"
   ]
  },
  {
   "cell_type": "code",
   "execution_count": 29,
   "metadata": {
    "collapsed": true
   },
   "outputs": [],
   "source": [
    "import skimage.morphology as sm\n",
    "\n",
    "def clean_up(x,i,mode = 0):\n",
    "    #x =  sm.binary_dilation((x),sm.disk(2))\n",
    "    if mode == 0:\n",
    "        return sm.binary_dilation((x),sm.disk(i))\n",
    "    else :\n",
    "        return sm.binary_dilation(sm.binary_erosion((x),sm.disk(i)),sm.disk(i))"
   ]
  },
  {
   "cell_type": "markdown",
   "metadata": {},
   "source": [
    "# testtime border augment"
   ]
  },
  {
   "cell_type": "code",
   "execution_count": null,
   "metadata": {
    "collapsed": true,
    "scrolled": true
   },
   "outputs": [],
   "source": [
    "test_image1 = dataset_test.load_image(51, 0)\n",
    "plt.imshow(test_image1)"
   ]
  },
  {
   "cell_type": "code",
   "execution_count": null,
   "metadata": {
    "collapsed": true
   },
   "outputs": [],
   "source": [
    "board_wid = 40\n",
    "content_image =cv2.copyMakeBorder(test_image1,board_wid , board_wid ,board_wid , board_wid , cv2.BORDER_REFLECT)\n",
    "pred = model.detect([content_image], verbose=0)\n",
    "r = pred[0]\n",
    "visualize.display_instances(content_image, r['rois'], r['masks'], r['class_ids'], \n",
    "                            dataset_val.class_names, r['scores'], ax=get_ax())"
   ]
  },
  {
   "cell_type": "code",
   "execution_count": null,
   "metadata": {
    "collapsed": true
   },
   "outputs": [],
   "source": [
    "def de_board(mask,image = None,board_width=None):\n",
    "\n",
    "    H,W = mask.shape[:2]\n",
    "    if image is not None:\n",
    "        image = image[board_width:H-board_width, board_width:W-board_width]\n",
    "    mask = mask[board_width:H-board_width, board_width:W-board_width]\n",
    "    if image is not None:\n",
    "        return image, mask\n",
    "    return mask"
   ]
  },
  {
   "cell_type": "code",
   "execution_count": null,
   "metadata": {
    "collapsed": true,
    "scrolled": false
   },
   "outputs": [],
   "source": [
    "deiamge ,de_mask = de_board(r['masks'],content_image, board_wid)\n",
    "de_roi = r['rois'] + np.array([-board_wid,-board_wid,-board_wid,-board_wid])\n",
    "visualize.display_instances(deiamge, de_roi, de_mask, r['class_ids'], \n",
    "                            dataset_val.class_names, r['scores'], ax=get_ax())"
   ]
  },
  {
   "cell_type": "code",
   "execution_count": null,
   "metadata": {
    "collapsed": true
   },
   "outputs": [],
   "source": [
    "raw_predictions = []\n",
    "for test_id in dataset_test.image_ids:\n",
    "    test_image1 = dataset_test.load_image(test_id, 0)\n",
    "    board_wid = 40\n",
    "    content_image =cv2.copyMakeBorder(test_image1,board_wid , board_wid, board_wid , board_wid , cv2.BORDER_REFLECT)\n",
    "    pred = model.detect([content_image], verbose=0)\n",
    "    \n",
    "    pred = pred[0]\n",
    "    sc = pred['scores']\n",
    "    pred = pred['masks']\n",
    "\n",
    "    pred = de_board(pred,board_width=board_wid)\n",
    "    \n",
    "    #celan empty mask\n",
    "    _idx = np.sum(pred, axis=(0, 1)) > 0\n",
    "    pred = pred[:, :, _idx]\n",
    "    raw_predictions.append((pred, sc))"
   ]
  },
  {
   "cell_type": "code",
   "execution_count": null,
   "metadata": {
    "collapsed": true
   },
   "outputs": [],
   "source": [
    "new_test_ids = []\n",
    "rles = []\n",
    "for id, raw_pred in zip(test_ids, raw_predictions):\n",
    "    ids, rle = numpy2encoding_no_overlap(raw_pred[0], id, raw_pred[1])\n",
    "    new_test_ids += ids\n",
    "    rles += rle"
   ]
  },
  {
   "cell_type": "code",
   "execution_count": null,
   "metadata": {
    "collapsed": true
   },
   "outputs": [],
   "source": [
    "df = pd.DataFrame({ 'ImageId' : new_test_ids , 'EncodedPixels' : rles})\n",
    "df.to_csv('./sub_408v1_test.csv', index=False, columns=['ImageId', 'EncodedPixels'])"
   ]
  },
  {
   "cell_type": "code",
   "execution_count": null,
   "metadata": {
    "collapsed": true
   },
   "outputs": [],
   "source": [
    "image_ids = None"
   ]
  },
  {
   "cell_type": "markdown",
   "metadata": {},
   "source": [
    "# compute mAP"
   ]
  },
  {
   "cell_type": "code",
   "execution_count": 30,
   "metadata": {
    "scrolled": true
   },
   "outputs": [
    {
     "name": "stdout",
     "output_type": "stream",
     "text": [
      "=================\n",
      "processing image id 0\n",
      "this picture's: [1.0, 1.0, 1.0, 1.0, 1.0, 1.0, 1.0, 1.0, 1.0, 0.0]\n",
      "true metric:  0.9\n",
      "GT nuclei:  5 Total detect:  5\n",
      "=================\n",
      "processing image id 1\n",
      "this picture's: [1.0, 1.0, 1.0, 1.0, 1.0, 0.7600000143051148, 0.7600000143051148, 0.6000000238418579, 0.06666666766007741, 0.0]\n",
      "true metric:  0.7186666720112165\n",
      "GT nuclei:  5 Total detect:  8\n",
      "=================\n",
      "processing image id 2\n",
      "this picture's: [0.7321428571428571, 0.7321428571428571, 0.7321428571428571, 0.7321428571428571, 0.7321428571428571, 0.7321428571428571, 0.7321428571428571, 0.5892857142857143, 0.125, 0.0]\n",
      "true metric:  0.5839285714285714\n",
      "GT nuclei:  8 Total detect:  12\n",
      "=================\n",
      "processing image id 3\n",
      "this picture's: [0.8325892857142858, 0.7865021008403361, 0.6140880694383015, 0.5319811477222468, 0.45508255933952524, 0.3121572313135781, 0.22751409774436093, 0.08619791666666667, 0.03125, 0.0]\n",
      "true metric:  0.38773624087793007\n",
      "GT nuclei:  32 Total detect:  29\n",
      "=================\n",
      "processing image id 4\n",
      "this picture's: [0.46212122589349747, 0.46212122589349747, 0.46212122589349747, 0.16136364117264748, 0.12727273106575013, 0.09090909361839294, 0.0, 0.0, 0.0, 0.0]\n",
      "true metric:  0.1765909143537283\n",
      "GT nuclei:  11 Total detect:  10\n",
      "=================\n",
      "processing image id 5\n",
      "this picture's: [0.7484620747526296, 0.6943267387969263, 0.6943267387969263, 0.6943267387969263, 0.5662406579111561, 0.42159864226622246, 0.1666666716337204, 0.015262515546801763, 0.007936508084336916, 0.0]\n",
      "true metric:  0.40091472865856465\n",
      "GT nuclei:  21 Total detect:  19\n",
      "=================\n",
      "processing image id 6\n",
      "this picture's: [1.0, 1.0, 1.0, 1.0, 1.0, 1.0, 0.8842975443059748, 0.47272728681564335, 0.28636364489793775, 0.0]\n",
      "true metric:  0.7643388476019556\n",
      "GT nuclei:  11 Total detect:  13\n",
      "=================\n",
      "processing image id 7\n",
      "this picture's: [0.3892887135434604, 0.1937799030228665, 0.06044657277433496, 0.04848484992980957, 0.0, 0.0, 0.0, 0.0, 0.0, 0.0]\n",
      "true metric:  0.06920000392704714\n",
      "GT nuclei:  22 Total detect:  24\n",
      "=================\n",
      "processing image id 8\n",
      "this picture's: [0.6749999895691872, 0.6749999895691872, 0.6749999895691872, 0.6749999895691872, 0.6749999895691872, 0.6749999895691872, 0.37500000186264515, 0.10000000149011612, 0.0, 0.0]\n",
      "true metric:  0.4524999940767884\n",
      "GT nuclei:  10 Total detect:  9\n",
      "=================\n",
      "processing image id 9\n",
      "this picture's: [1.0, 1.0, 1.0, 1.0, 1.0, 1.0, 0.8765432172351413, 0.3333333432674408, 0.0555555559694767, 0.0]\n",
      "true metric:  0.7265432116472059\n",
      "GT nuclei:  9 Total detect:  10\n",
      "=================\n",
      "processing image id 10\n",
      "this picture's: [1.0, 1.0, 0.6666666865348816, 0.6666666865348816, 0.6666666865348816, 0.1666666716337204, 0.1666666716337204, 0.0, 0.0, 0.0]\n",
      "true metric:  0.43333334028720855\n",
      "GT nuclei:  3 Total detect:  3\n",
      "=================\n",
      "processing image id 11\n",
      "this picture's: [1.0, 1.0, 1.0, 1.0, 1.0, 1.0, 1.0, 1.0, 1.0, 0.0]\n",
      "true metric:  0.9\n",
      "GT nuclei:  1 Total detect:  1\n",
      "=================\n",
      "processing image id 12\n",
      "this picture's: [0.8571428656578064, 0.8571428656578064, 0.42857144773006434, 0.42857144773006434, 0.3238095293442408, 0.20000000894069672, 0.20000000894069672, 0.20000000894069672, 0.028571429848670962, 0.0]\n",
      "true metric:  0.35238096127907437\n",
      "GT nuclei:  7 Total detect:  6\n",
      "=================\n",
      "processing image id 13\n",
      "this picture's: [0.9473684430122375, 0.9473684430122375, 0.9473684430122375, 0.8947368264198303, 0.8947368264198303, 0.8049535663688885, 0.8049535663688885, 0.4171826600590173, 0.3301194214207284, 0.0037593985242503026]\n",
      "true metric:  0.6992547594618146\n",
      "GT nuclei:  19 Total detect:  19\n",
      "=================\n",
      "processing image id 14\n",
      "this picture's: [0.875, 0.6785714285714285, 0.5625, 0.5625, 0.5625, 0.37499999999999994, 0.08333333333333333, 0.0, 0.0, 0.0]\n",
      "true metric:  0.3699404761904762\n",
      "GT nuclei:  8 Total detect:  10\n",
      "=================\n",
      "processing image id 15\n",
      "this picture's: [0.8118874674762532, 0.7604700973400703, 0.7264180265523337, 0.6500582524668642, 0.6500582524668642, 0.6500582524668642, 0.4297031985772923, 0.07958089802087398, 0.04142300255204502, 0.0]\n",
      "true metric:  0.47996574479194604\n",
      "GT nuclei:  36 Total detect:  34\n",
      "=================\n",
      "processing image id 16\n",
      "this picture's: [1.0, 1.0, 1.0, 1.0, 1.0, 0.8299999788403511, 0.8299999788403511, 0.6400000095367433, 0.6400000095367433, 0.0]\n",
      "true metric:  0.7939999976754188\n",
      "GT nuclei:  10 Total detect:  13\n",
      "=================\n",
      "processing image id 17\n",
      "this picture's: [0.6827777658899625, 0.6212744457878204, 0.47965922221514357, 0.39134101312735986, 0.2975636152272252, 0.2123489586470087, 0.15222222556670506, 0.1222222273548444, 0.0, 0.0]\n",
      "true metric:  0.295940947381607\n",
      "GT nuclei:  30 Total detect:  30\n",
      "=================\n",
      "processing image id 18\n",
      "this picture's: [1.0, 1.0, 1.0, 0.0, 0.0, 0.0, 0.0, 0.0, 0.0, 0.0]\n",
      "true metric:  0.3\n",
      "GT nuclei:  1 Total detect:  4\n",
      "=================\n",
      "processing image id 19\n",
      "this picture's: [1.0, 1.0, 0.8888888955116272, 0.8888888955116272, 0.8888888955116272, 0.8888888955116272, 0.8888888955116272, 0.7777777910232544, 0.5555555820465088, 0.0]\n",
      "true metric:  0.7777777850627899\n",
      "GT nuclei:  9 Total detect:  10\n",
      "=================\n",
      "processing image id 20\n",
      "this picture's: [1.0, 1.0, 1.0, 1.0, 0.9155555605888366, 0.6771428704261779, 0.4434920835353079, 0.14666667282581328, 0.022222223381201424, 0.0]\n",
      "true metric:  0.6205079410757338\n",
      "GT nuclei:  15 Total detect:  16\n",
      "=================\n",
      "processing image id 21\n",
      "this picture's: [1.0, 1.0, 1.0, 1.0, 0.8611111293236415, 0.6624396301104106, 0.5669191764724074, 0.4646464641008413, 0.2708333395421505, 0.0026041667442768812]\n",
      "true metric:  0.6828553906293728\n",
      "GT nuclei:  24 Total detect:  24\n",
      "=================\n",
      "processing image id 22\n",
      "this picture's: [0.444444457689921, 0.444444457689921, 0.444444457689921, 0.444444457689921, 0.444444457689921, 0.1666666716337204, 0.1666666716337204, 0.1666666716337204, 0.0, 0.0]\n",
      "true metric:  0.27222223033507664\n",
      "GT nuclei:  3 Total detect:  4\n",
      "=================\n",
      "processing image id 23\n",
      "this picture's: [0.9444444179534912, 0.9444444179534912, 0.9444444179534912, 0.9444444179534912, 0.8856209200971267, 0.6977207876168765, 0.6977207876168765, 0.5972222164273262, 0.13518518656492234, 0.0]\n",
      "true metric:  0.6791247570137093\n",
      "GT nuclei:  18 Total detect:  17\n",
      "=================\n",
      "processing image id 24\n",
      "this picture's: [0.6190476343035698, 0.6190476343035698, 0.6190476343035698, 0.6190476343035698, 0.48571430742740634, 0.3571428619325161, 0.3571428619325161, 0.1428571492433548, 0.0, 0.0]\n",
      "true metric:  0.38190477177500726\n",
      "GT nuclei:  7 Total detect:  7\n",
      "=================\n",
      "processing image id 25\n",
      "this picture's: [0.6856995647152265, 0.6856995647152265, 0.6136831312819764, 0.5616775029344582, 0.38518518904844923, 0.1947272488226493, 0.06134259421378374, 0.03009259281679988, 0.0, 0.0]\n",
      "true metric:  0.321810738854857\n",
      "GT nuclei:  36 Total detect:  28\n",
      "=================\n",
      "processing image id 26\n",
      "this picture's: [0.8571428656578064, 0.8571428656578064, 0.8571428656578064, 0.8571428656578064, 0.8571428656578064, 0.8571428656578064, 0.8571428656578064, 0.7142857313156128, 0.542857164144516, 0.0]\n",
      "true metric:  0.7257142955064774\n",
      "GT nuclei:  7 Total detect:  9\n",
      "=================\n",
      "processing image id 27\n",
      "this picture's: [0.9387755393981934, 0.9387755393981934, 0.9387755393981934, 0.9387755393981934, 0.9387755393981934, 0.8071002932032288, 0.6130692058542111, 0.3276195269965976, 0.04180338789824567, 0.0]\n",
      "true metric:  0.648347011094325\n",
      "GT nuclei:  49 Total detect:  46\n",
      "=================\n",
      "processing image id 29\n",
      "this picture's: [1.0, 1.0, 1.0, 1.0, 1.0, 1.0, 1.0, 0.6800000101327897, 0.05000000074505806, 0.0]\n",
      "true metric:  0.7730000010877848\n",
      "GT nuclei:  5 Total detect:  5\n",
      "=================\n",
      "processing image id 30\n",
      "this picture's: [0.9150583145766891, 0.8854697689425204, 0.8380749361331263, 0.7270257977545578, 0.7270257977545578, 0.6428882245428966, 0.3982207753359191, 0.11473578331515756, 0.012086777219718153, 0.0]\n",
      "true metric:  0.5260586175575142\n",
      "GT nuclei:  44 Total detect:  43\n",
      "=================\n",
      "processing image id 31\n",
      "this picture's: [0.9117646813392639, 0.9117646813392639, 0.8776091144930932, 0.8776091144930932, 0.8375711381050847, 0.8375711381050847, 0.6657894636246197, 0.2729946537451311, 0.028711484745144844, 0.0]\n",
      "true metric:  0.622138546998978\n",
      "GT nuclei:  34 Total detect:  31\n"
     ]
    },
    {
     "name": "stdout",
     "output_type": "stream",
     "text": [
      "=================\n",
      "processing image id 32\n",
      "this picture's: [1.0, 1.0, 1.0, 1.0, 1.0, 1.0, 1.0, 1.0, 0.6734694072178432, 0.0]\n",
      "true metric:  0.8673469407217842\n",
      "GT nuclei:  7 Total detect:  7\n",
      "=================\n",
      "processing image id 33\n",
      "this picture's: [1.0, 1.0, 1.0, 1.0, 0.8614958305107919, 0.8128655023045009, 0.7647059068960301, 0.46330314061858435, 0.0, 0.0]\n",
      "true metric:  0.6902370380329907\n",
      "GT nuclei:  19 Total detect:  21\n",
      "=================\n",
      "processing image id 34\n",
      "this picture's: [1.0, 0.8888888955116272, 0.8888888955116272, 0.8888888955116272, 0.8888888955116272, 0.8888888955116272, 0.8888888955116272, 0.8888888955116272, 0.7222222350537777, 0.0]\n",
      "true metric:  0.7944444503635169\n",
      "GT nuclei:  9 Total detect:  9\n",
      "=================\n",
      "processing image id 35\n",
      "this picture's: [1.0, 1.0, 1.0, 1.0, 1.0, 1.0, 1.0, 1.0, 0.7142857313156128, 0.0]\n",
      "true metric:  0.8714285731315613\n",
      "GT nuclei:  7 Total detect:  8\n",
      "=================\n",
      "processing image id 36\n",
      "this picture's: [0.4166666679084301, 0.4166666679084301, 0.4166666679084301, 0.4166666679084301, 0.4166666679084301, 0.4166666679084301, 0.4166666679084301, 0.1666666716337204, 0.1666666716337204, 0.0]\n",
      "true metric:  0.32500000186264516\n",
      "GT nuclei:  6 Total detect:  4\n",
      "=================\n",
      "processing image id 37\n",
      "this picture's: [1.0, 1.0, 1.0, 1.0, 1.0, 1.0, 0.8055555423100789, 0.5833333134651184, 0.2291666679084301, 0.0]\n",
      "true metric:  0.7618055523683627\n",
      "GT nuclei:  12 Total detect:  13\n",
      "=================\n",
      "processing image id 38\n",
      "this picture's: [0.9909090887416493, 0.9909090887416493, 0.9909090887416493, 0.9909090887416493, 0.8999999761581421, 0.8999999761581421, 0.7222222329841719, 0.5888888798654079, 0.1944444477558136, 0.0]\n",
      "true metric:  0.7269191867888274\n",
      "GT nuclei:  10 Total detect:  11\n",
      "=================\n",
      "processing image id 39\n",
      "this picture's: [1.0, 1.0, 1.0, 0.75, 0.75, 0.75, 0.75, 0.75, 0.5, 0.0]\n",
      "true metric:  0.725\n",
      "GT nuclei:  4 Total detect:  6\n",
      "=================\n",
      "processing image id 40\n",
      "this picture's: [0.930795851875754, 0.8715109649826498, 0.6518346829617995, 0.5350571168729892, 0.47231202028118646, 0.47231202028118646, 0.23497091642079446, 0.20329670901768482, 0.05882352963089943, 0.0]\n",
      "true metric:  0.44309138123249436\n",
      "GT nuclei:  17 Total detect:  19\n",
      "=================\n",
      "processing image id 41\n",
      "this picture's: [1.0, 1.0, 1.0, 1.0, 1.0, 1.0, 1.0, 1.0, 1.0, 0.0]\n",
      "true metric:  0.9\n",
      "GT nuclei:  1 Total detect:  1\n",
      "=================\n",
      "processing image id 42\n",
      "this picture's: [0.5406162689129512, 0.45588237419724464, 0.45588237419724464, 0.45588237419724464, 0.3988795535905021, 0.3988795535905021, 0.2679738634162479, 0.23529411852359772, 0.07843137284119923, 0.0]\n",
      "true metric:  0.32877218534667346\n",
      "GT nuclei:  17 Total detect:  14\n",
      "=================\n",
      "processing image id 43\n",
      "this picture's: [1.0, 1.0, 1.0, 1.0, 1.0, 1.0, 1.0, 1.0, 0.44718616604804995, 0.0]\n",
      "true metric:  0.8447186166048051\n",
      "GT nuclei:  14 Total detect:  15\n",
      "=================\n",
      "processing image id 44\n",
      "this picture's: [0.7647058963775635, 0.7647058963775635, 0.7647058963775635, 0.7647058963775635, 0.7647058963775635, 0.7647058963775635, 0.38521870490577487, 0.16176470927894115, 0.0, 0.0]\n",
      "true metric:  0.5135218792450097\n",
      "GT nuclei:  17 Total detect:  15\n",
      "=================\n",
      "processing image id 45\n",
      "this picture's: [1.0, 1.0, 1.0, 1.0, 1.0, 1.0, 1.0, 1.0, 0.2761904795964559, 0.0]\n",
      "true metric:  0.8276190479596457\n",
      "GT nuclei:  7 Total detect:  7\n",
      "=================\n",
      "processing image id 46\n",
      "this picture's: [0.6951469788690666, 0.6951469788690666, 0.6542882246671273, 0.6542882246671273, 0.6092743898957703, 0.44038126644548053, 0.3169856518507004, 0.06591478735208511, 0.035087719559669495, 0.0]\n",
      "true metric:  0.41665142221760937\n",
      "GT nuclei:  19 Total detect:  20\n",
      "=================\n",
      "processing image id 47\n",
      "this picture's: [1.0, 1.0, 1.0, 1.0, 1.0, 1.0, 0.9166666865348816, 0.9166666865348816, 0.7163299677347896, 0.0]\n",
      "true metric:  0.8549663340804553\n",
      "GT nuclei:  12 Total detect:  12\n",
      "=================\n",
      "processing image id 48\n",
      "this picture's: [1.0, 1.0, 1.0, 1.0, 1.0, 1.0, 0.8999999761581421, 0.7666666772630479, 0.41142857223749163, 0.0]\n",
      "true metric:  0.8078095225658682\n",
      "GT nuclei:  10 Total detect:  10\n",
      "=================\n",
      "processing image id 49\n",
      "this picture's: [0.4682539822090239, 0.4682539822090239, 0.4682539822090239, 0.4682539822090239, 0.4682539822090239, 0.34920635322729743, 0.21428572067192622, 0.0, 0.0, 0.0]\n",
      "true metric:  0.29047619849443435\n",
      "GT nuclei:  6 Total detect:  7\n",
      "=================\n",
      "processing image id 50\n",
      "this picture's: [1.0, 1.0, 1.0, 1.0, 1.0, 1.0, 0.8765432172351413, 0.7777777910232544, 0.5555555820465088, 0.0]\n",
      "true metric:  0.8209876590304905\n",
      "GT nuclei:  9 Total detect:  11\n",
      "=================\n",
      "processing image id 51\n",
      "this picture's: [0.9836065769195557, 0.9836065769195557, 0.9836065769195557, 0.9836065769195557, 0.9836065769195557, 0.9661201983690262, 0.9661201983690262, 0.8580860544335389, 0.6182948370414637, 0.03134228417134666]\n",
      "true metric:  0.835799645698218\n",
      "GT nuclei:  61 Total detect:  60\n",
      "=================\n",
      "processing image id 52\n",
      "this picture's: [0.997150997320811, 0.9558404286702474, 0.9558404286702474, 0.9558404286702474, 0.9558404286702474, 0.8634550872455075, 0.8634550872455075, 0.6860646488873856, 0.3257259687867718, 0.0]\n",
      "true metric:  0.7559213504166973\n",
      "GT nuclei:  26 Total detect:  27\n",
      "=================\n",
      "processing image id 53\n",
      "this picture's: [1.0, 1.0, 1.0, 1.0, 1.0, 0.8269230872392654, 0.5367133078080687, 0.2788461595773697, 0.11538461968302727, 0.0]\n",
      "true metric:  0.6757867174307731\n",
      "GT nuclei:  13 Total detect:  13\n",
      "=================\n",
      "processing image id 54\n",
      "this picture's: [1.0, 1.0, 1.0, 1.0, 1.0, 1.0, 1.0, 1.0, 0.0, 0.0]\n",
      "true metric:  0.8\n",
      "GT nuclei:  2 Total detect:  3\n",
      "=================\n",
      "processing image id 55\n",
      "this picture's: [0.6406158179044723, 0.6406158179044723, 0.5837732256963999, 0.5070055471827285, 0.3732486040604235, 0.35125446981853903, 0.30286737448639345, 0.06831119341008804, 0.002016128972172737, 0.0]\n",
      "true metric:  0.346970817943569\n",
      "GT nuclei:  31 Total detect:  23\n",
      "=================\n",
      "processing image id 56\n",
      "this picture's: [0.8125, 0.8125, 0.8125, 0.5817307692307693, 0.4807692307692308, 0.421875, 0.13020833333333334, 0.02291666666666667, 0.0, 0.0]\n",
      "true metric:  0.40750000000000003\n",
      "GT nuclei:  16 Total detect:  16\n",
      "=================\n",
      "processing image id 57\n",
      "this picture's: [1.0, 1.0, 1.0, 1.0, 0.8571428656578064, 0.6666666815678278, 0.1904761989911397, 0.1428571492433548, 0.0, 0.0]\n",
      "true metric:  0.5857142895460129\n",
      "GT nuclei:  7 Total detect:  7\n",
      "mAP @ IoU=50:  0.5974594089425372\n"
     ]
    }
   ],
   "source": [
    "# Compute VOC-style Average Precision\n",
    "IOUs=[0.5,0.55,0.6,0.65,0.7,0.75,0.8,0.85,0.9,0.95]\n",
    "def compute_batch_ap(dataset,image_ids,verbose = 0):\n",
    "    APs = []\n",
    "    counts = []\n",
    "    #print(type(image_ids))\n",
    "    for image_id in image_ids:\n",
    "        # Load image\n",
    "        image, image_meta, gt_class_id, gt_bbox, gt_mask =\\\n",
    "            modellib.load_image_gt(dataset, config,\n",
    "                                   image_id, use_mini_mask=False)\n",
    "        # Run object detection\n",
    "        if image_id == 28:\n",
    "            continue\n",
    "        results = model.detect([image], verbose=0)\n",
    "        # Compute AP\n",
    "        r = results[0]\n",
    "            \n",
    "        for i in range(r[\"masks\"].shape[2]):\n",
    "            r[\"masks\"][:,:,i] = clean_up(r[\"masks\"][:,:,i],1,mode = 1)\n",
    "    \n",
    "        single_aps = []\n",
    "        for thre in IOUs:\n",
    "            single_ap, precisions, recalls, overlaps =\\\n",
    "            utils.compute_ap(gt_bbox, gt_class_id, gt_mask,\n",
    "                              r['rois'], r['class_ids'], r['scores'], r['masks'],iou_threshold = thre)\n",
    "            single_aps.append(single_ap)\n",
    "        \n",
    "        AP = np.sum(single_aps)/10\n",
    "        count = r['rois'].shape[0]\n",
    "        #counts.append(count)\n",
    "        APs.append(AP)\n",
    "        if verbose == 1:\n",
    "            print(\"=================\")\n",
    "            print(\"processing image id\",image_id)\n",
    "            print(\"this picture's:\",single_aps)\n",
    "            print(\"true metric: \",AP)\n",
    "            print(\"GT nuclei: \",gt_bbox.shape[0],\"Total detect: \",count)\n",
    "        #print(AP,count)\n",
    "    return APs,counts\n",
    "\n",
    "# Pick a set of random images\n",
    "\n",
    "APs,counts = compute_batch_ap(dataset_val,list(dataset_val.image_ids),verbose = 1)\n",
    "print(\"mAP @ IoU=50: \", np.mean(APs))\n",
    "#print(\"mAP @ IoU=50: \",np.sum([i*j for i,j in zip(APs,counts)])/np.sum(counts))"
   ]
  },
  {
   "cell_type": "code",
   "execution_count": null,
   "metadata": {
    "collapsed": true
   },
   "outputs": [],
   "source": [
    "type(list(dataset_val.image_ids))"
   ]
  },
  {
   "cell_type": "code",
   "execution_count": null,
   "metadata": {
    "collapsed": true
   },
   "outputs": [],
   "source": [
    "print(\"mAP @ IoU=50: \",np.sum([i*j for i,j in zip(APs,counts)])/np.sum(counts))"
   ]
  },
  {
   "cell_type": "code",
   "execution_count": null,
   "metadata": {
    "collapsed": true
   },
   "outputs": [],
   "source": [
    "for model path in "
   ]
  },
  {
   "cell_type": "code",
   "execution_count": null,
   "metadata": {
    "collapsed": true
   },
   "outputs": [],
   "source": [
    "model = modellib.MaskRCNN(mode=\"inference\", \n",
    "                          config=inference_config,\n",
    "                          model_dir=MODEL_DIR)"
   ]
  },
  {
   "cell_type": "code",
   "execution_count": null,
   "metadata": {
    "collapsed": true
   },
   "outputs": [],
   "source": [
    "models = model.find_last()[0][1][::-1]\n",
    "base = model.find_last()[0][0]"
   ]
  },
  {
   "cell_type": "code",
   "execution_count": null,
   "metadata": {
    "collapsed": true
   },
   "outputs": [],
   "source": [
    "base"
   ]
  },
  {
   "cell_type": "code",
   "execution_count": null,
   "metadata": {
    "collapsed": true,
    "scrolled": false
   },
   "outputs": [],
   "source": [
    "write_path =  os.path.join(base,\"val_info.txt\")\n",
    "with open(write_path,'a+') as f:\n",
    "    for model_name in models:\n",
    "        model_path = os.path.join(base,model_name)\n",
    "        model.load_weights(model_path, by_name=True)\n",
    "        APs,counts = compute_batch_ap(dataset_val,dataset_val.image_ids)\n",
    "        print(\"=================================================\")\n",
    "        print(model_name)\n",
    "        print(\"mAP @ multiple IoU: \", np.mean(APs))\n",
    "    #print(\"mAP @ IoU=50: \",np.sum([i*j for i,j in zip(APs,counts)])/np.sum(counts))\n",
    "        print(\"total nuclei find:\",np.sum(counts))\n",
    "        line = model_name+\"'s true metric is \"+str(np.mean(APs))\n",
    "        f.write(line)\n",
    "    \n",
    "    "
   ]
  },
  {
   "cell_type": "code",
   "execution_count": null,
   "metadata": {
    "collapsed": true
   },
   "outputs": [],
   "source": [
    "with open(write_path,'a+') as f:\n",
    "    f.write(line)"
   ]
  },
  {
   "cell_type": "code",
   "execution_count": null,
   "metadata": {
    "collapsed": true
   },
   "outputs": [],
   "source": [
    "dataset_val.image_ids"
   ]
  },
  {
   "cell_type": "code",
   "execution_count": 48,
   "metadata": {
    "collapsed": true,
    "scrolled": true
   },
   "outputs": [],
   "source": [
    "reload(modellib)\n",
    "image_id =702"
   ]
  },
  {
   "cell_type": "code",
   "execution_count": 49,
   "metadata": {
    "collapsed": true
   },
   "outputs": [],
   "source": [
    "original_image, image_meta, gt_class_id, gt_bbox, gt_mask = modellib.load_image_gt(dataset_train, config, \n",
    "                           image_id, use_mini_mask=False,augment=True)"
   ]
  },
  {
   "cell_type": "code",
   "execution_count": 50,
   "metadata": {},
   "outputs": [
    {
     "data": {
      "text/plain": [
       "<matplotlib.image.AxesImage at 0x7f8645b7cc18>"
      ]
     },
     "execution_count": 50,
     "metadata": {},
     "output_type": "execute_result"
    },
    {
     "data": {
      "image/png": "[encoded data removed]",
      "text/plain": [
       "<Figure size 432x288 with 1 Axes>"
      ]
     },
     "metadata": {},
     "output_type": "display_data"
    }
   ],
   "source": [
    "plt.imshow(original_image)"
   ]
  },
  {
   "cell_type": "code",
   "execution_count": null,
   "metadata": {
    "collapsed": true
   },
   "outputs": [],
   "source": [
    "np.mean(np.mean(original_image,axis=0),axis=0)"
   ]
  },
  {
   "cell_type": "markdown",
   "metadata": {},
   "source": [
    "# output scale estimate and tensity"
   ]
  },
  {
   "cell_type": "code",
   "execution_count": null,
   "metadata": {
    "collapsed": true
   },
   "outputs": [],
   "source": [
    "\"7b38c9173ebe69b4c6ba7e703c0c27f39305d9b2910f46405993d2ea7a963b80\" in train_ids"
   ]
  },
  {
   "cell_type": "code",
   "execution_count": null,
   "metadata": {
    "collapsed": true
   },
   "outputs": [],
   "source": [
    "raw_predictions = []\n",
    "for test_id in dataset_test.image_ids:\n",
    "    test_image1 = dataset_test.load_image(test_id, 0)\n",
    "    pred = model.detect([test_image1], verbose=0)\n",
    "    pred = pred[0]\n",
    "\n",
    "    pred = pred\n",
    "    raw_predictions.append(pred)"
   ]
  },
  {
   "cell_type": "code",
   "execution_count": null,
   "metadata": {
    "collapsed": true
   },
   "outputs": [],
   "source": [
    "train_ids = os.listdir(\"./stage1_train\")\n",
    "dataset_train = DsbDataset()\n",
    "dataset_train.load_dataset(train_ids)\n",
    "\n",
    "\n",
    "dataset_train.prepare()"
   ]
  },
  {
   "cell_type": "code",
   "execution_count": null,
   "metadata": {
    "collapsed": true
   },
   "outputs": [],
   "source": [
    "train_predictions = []\n",
    "for train_id in dataset_train.image_ids:\n",
    "    train_image1 = dataset_train.load_image(train_id, 0)\n",
    "    pred = model.detect([train_image1], verbose=0)\n",
    "    pred = pred[0]\n",
    "\n",
    "    pred = pred\n",
    "    train_predictions.append(pred)"
   ]
  },
  {
   "cell_type": "markdown",
   "metadata": {},
   "source": [
    "test_image1 = dataset_test.load_image(1, 0)\n",
    "pred = model.detect([test_image1], verbose=0)"
   ]
  },
  {
   "cell_type": "code",
   "execution_count": null,
   "metadata": {
    "collapsed": true
   },
   "outputs": [],
   "source": [
    "counts = []\n",
    "scales = []\n",
    "for id, raw_pred in zip(test_ids, raw_predictions):\n",
    "    rois = raw_pred[\"rois\"]\n",
    "    sum_len = 0\n",
    "    count = len(rois)\n",
    "    for roi in rois:\n",
    "        sum_len += roi[2]+roi[3]-roi[1]-roi[0]\n",
    "    scale = sum_len/count\n",
    "    \n",
    "    counts.append(count)\n",
    "    scales.append(scale)"
   ]
  },
  {
   "cell_type": "code",
   "execution_count": null,
   "metadata": {
    "collapsed": true
   },
   "outputs": [],
   "source": [
    "train_counts = []\n",
    "train_scales = []\n",
    "for id, train_pred in zip(train_ids, train_predictions):\n",
    "    rois = train_pred[\"rois\"]\n",
    "    sum_len = 0\n",
    "    count = len(rois)\n",
    "    for roi in rois:\n",
    "        sum_len += roi[2]+roi[3]-roi[1]-roi[0]\n",
    "    scale = sum_len/count\n",
    "    \n",
    "    train_counts.append(count)\n",
    "    train_scales.append(scale)"
   ]
  },
  {
   "cell_type": "code",
   "execution_count": null,
   "metadata": {
    "collapsed": true,
    "scrolled": true
   },
   "outputs": [],
   "source": [
    "df_test = pd.DataFrame({ 'ImageId' : test_ids , 'estimate_scale' : scales,'estimate_count':counts})\n",
    "df_test.to_csv('./raw_test_es.csv', index=False, columns=['ImageId', 'estimate_scale','estimate_count'])"
   ]
  },
  {
   "cell_type": "code",
   "execution_count": null,
   "metadata": {
    "collapsed": true
   },
   "outputs": [],
   "source": [
    "df_test"
   ]
  },
  {
   "cell_type": "code",
   "execution_count": null,
   "metadata": {
    "collapsed": true
   },
   "outputs": [],
   "source": [
    "df_train = pd.DataFrame({ 'ImageId' : train_ids , 'estimate_scale' : train_scales,'estimate_count':train_counts})\n",
    "df_train.to_csv('./raw_train_es.csv', index=False, columns=['ImageId', 'estimate_scale','estimate_count'])"
   ]
  },
  {
   "cell_type": "code",
   "execution_count": null,
   "metadata": {
    "collapsed": true
   },
   "outputs": [],
   "source": [
    "df_train"
   ]
  },
  {
   "cell_type": "code",
   "execution_count": null,
   "metadata": {
    "collapsed": true
   },
   "outputs": [],
   "source": [
    "df_train.estimate_scale.describe()"
   ]
  },
  {
   "cell_type": "code",
   "execution_count": null,
   "metadata": {
    "collapsed": true
   },
   "outputs": [],
   "source": [
    "df_train.estimate_scale.sort_values()"
   ]
  },
  {
   "cell_type": "code",
   "execution_count": null,
   "metadata": {
    "collapsed": true
   },
   "outputs": [],
   "source": [
    "df_train.ImageId[266]"
   ]
  },
  {
   "cell_type": "code",
   "execution_count": null,
   "metadata": {
    "collapsed": true
   },
   "outputs": [],
   "source": [
    "df_train.ImageId[234]"
   ]
  },
  {
   "cell_type": "code",
   "execution_count": null,
   "metadata": {
    "collapsed": true
   },
   "outputs": [],
   "source": []
  }
 ],
 "metadata": {
  "kernelspec": {
   "display_name": "Python 3",
   "language": "python",
   "name": "python3"
  },
  "language_info": {
   "codemirror_mode": {
    "name": "ipython",
    "version": 3
   },
   "file_extension": ".py",
   "mimetype": "text/x-python",
   "name": "python",
   "nbconvert_exporter": "python",
   "pygments_lexer": "ipython3",
   "version": "3.6.1"
  }
 },
 "nbformat": 4,
 "nbformat_minor": 2
}
