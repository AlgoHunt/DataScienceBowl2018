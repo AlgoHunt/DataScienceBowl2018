{
 "cells": [
  {
   "cell_type": "markdown",
   "metadata": {},
   "source": [
    "# Import dependencies"
   ]
  },
  {
   "cell_type": "code",
   "execution_count": 2,
   "metadata": {
    "collapsed": true
   },
   "outputs": [],
   "source": [
    "import sys\n",
    "sys.path.append('/input/Mask_RCNN')"
   ]
  },
  {
   "cell_type": "code",
   "execution_count": 3,
   "metadata": {},
   "outputs": [
    {
     "name": "stderr",
     "output_type": "stream",
     "text": [
      "/Users/lilingzhi/anaconda/lib/python3.6/site-packages/h5py/__init__.py:34: FutureWarning: Conversion of the second argument of issubdtype from `float` to `np.floating` is deprecated. In future, it will be treated as `np.float64 == np.dtype(float).type`.\n",
      "  from ._conv import register_converters as _register_converters\n",
      "Using TensorFlow backend.\n"
     ]
    }
   ],
   "source": [
    "import os\n",
    "import sys\n",
    "import random\n",
    "import math\n",
    "import re\n",
    "import time\n",
    "import cv2\n",
    "import tensorflow as tf\n",
    "import numpy as np\n",
    "import pandas as pd\n",
    "import matplotlib\n",
    "import matplotlib.pyplot as plt\n",
    "import csv\n",
    "import imageio\n",
    "import skimage\n",
    "from config import Config\n",
    "from skimage.morphology import label\n",
    "from skimage.feature import canny\n",
    "from skimage import exposure\n",
    "from keras.callbacks import Callback\n",
    "from skimage.morphology import binary_closing, binary_opening, disk, binary_dilation\n",
    "from scipy.ndimage.morphology import binary_fill_holes\n",
    "from sklearn.externals import joblib\n",
    "from skimage.transform import PiecewiseAffineTransform, warp\n",
    "from skimage.morphology import watershed\n",
    "from skimage.filters import sobel\n",
    "from imp import reload\n",
    "import utils\n",
    "import model_sep_roi_LH as modellib\n",
    "import visualize\n",
    "from model_sep_roi_LH import log\n",
    "import divide\n",
    "#import model_raw_Taugment_test_only as infer_modellib\n",
    "#from deepsense import neptune\n",
    "#ctx = neptune.Context()"
   ]
  },
  {
   "cell_type": "code",
   "execution_count": null,
   "metadata": {
    "collapsed": true
   },
   "outputs": [],
   "source": []
  },
  {
   "cell_type": "code",
   "execution_count": 4,
   "metadata": {
    "collapsed": true
   },
   "outputs": [],
   "source": [
    "# tf.set_random_seed(127)"
   ]
  },
  {
   "cell_type": "markdown",
   "metadata": {},
   "source": [
    "Let's download the mask_rcnn trained on COCO dataset to initialize the model."
   ]
  },
  {
   "cell_type": "code",
   "execution_count": 5,
   "metadata": {
    "collapsed": true
   },
   "outputs": [],
   "source": [
    "# Root directory of the project\n",
    "ROOT_DIR = os.getcwd()\n",
    "\n",
    "# Directory to save logs and trained model\n",
    "MODEL_DIR = os.path.join(ROOT_DIR, \"logs\")\n",
    "\n",
    "# Local path to trained weights file\n",
    "COCO_MODEL_PATH = os.path.join(ROOT_DIR, \"mask_rcnn_coco.h5\")\n",
    "# Download COCO trained weights from Releases if needed\n",
    "if not os.path.exists(COCO_MODEL_PATH):\n",
    "    utils.download_trained_weights(COCO_MODEL_PATH)"
   ]
  },
  {
   "cell_type": "markdown",
   "metadata": {},
   "source": [
    "We will now define the monitor that will help keep track on the training process.\n",
    "With this you will be able to see your charts in the `charts` tab"
   ]
  },
  {
   "cell_type": "code",
   "execution_count": 6,
   "metadata": {
    "collapsed": true
   },
   "outputs": [],
   "source": [
    "class LossHistory(Callback):  \n",
    "    def on_train_begin(self, logs={}):\n",
    "        self.batch_id = 0\n",
    "        self.epoch_id = 0\n",
    "\n",
    "    def on_batch_end(self, batch, logs={}):\n",
    "        self.batch_id += 1\n",
    "        print('loss', self.batch_id, float(logs.get('loss')))\n",
    "        print('rpn_class_loss', self.batch_id, float(logs.get('rpn_class_loss')))\n",
    "        print('rpn_bbox_loss', self.batch_id, float(logs.get('rpn_bbox_loss')))\n",
    "        print('mrcnn_class_loss', self.batch_id, float(logs.get('mrcnn_class_loss')))\n",
    "        print('mrcnn_bbox_loss', self.batch_id, float(logs.get('mrcnn_bbox_loss')))\n",
    "        print('mrcnn_mask_loss', self.batch_id, float(logs.get('mrcnn_mask_loss')))\n",
    "    \n",
    "    def on_epoch_end(self, batch, logs={}):\n",
    "        self.epoch_id += 1\n",
    "        print('val_loss', self.epoch_id, float(logs.get('val_loss')))\n",
    "        print('val_rpn_class_loss', self.epoch_id, float(logs.get('val_rpn_class_loss')))\n",
    "        print('val_rpn_bbox_loss', self.epoch_id, float(logs.get('val_rpn_bbox_loss')))\n",
    "        print('val_mrcnn_class_loss', self.epoch_id, float(logs.get('val_mrcnn_class_loss')))\n",
    "        print('val_mrcnn_bbox_loss', self.epoch_id, float(logs.get('val_mrcnn_bbox_loss')))\n",
    "        print('val_mrcnn_mask_loss', self.epoch_id, float(logs.get('val_mrcnn_mask_loss')))"
   ]
  },
  {
   "cell_type": "markdown",
   "metadata": {},
   "source": [
    "Now we will load the metadata and divide them in train and valid splits"
   ]
  },
  {
   "cell_type": "code",
   "execution_count": 7,
   "metadata": {
    "collapsed": true
   },
   "outputs": [],
   "source": [
    "def train_valid_split(meta, validation_size, valid_category_ids=None):\n",
    "    meta_train = meta[meta['is_train'] == 1]\n",
    "    meta_train_split, meta_valid_split = split_on_column(meta_train,\n",
    "                                                         column='vgg_features_clusters',\n",
    "                                                         test_size=validation_size,\n",
    "                                                         random_state=1234,\n",
    "                                                         valid_category_ids=valid_category_ids\n",
    "                                                         )\n",
    "    return meta_train_split, meta_valid_split\n",
    "\n",
    "\n",
    "def split_on_column(meta, column, test_size, random_state=1, valid_category_ids=None):\n",
    "    if valid_category_ids is None:\n",
    "        categories = meta[column].unique()\n",
    "        np.random.seed(random_state)\n",
    "        valid_category_ids = np.random.choice(categories,\n",
    "                                              int(test_size * len(categories)))\n",
    "    valid = meta[meta[column].isin(valid_category_ids)].sample(frac=1, random_state=random_state)\n",
    "    train = meta[~(meta[column].isin(valid_category_ids))].sample(frac=1, random_state=random_state)\n",
    "    return train, valid\n",
    "\n",
    "meta = pd.read_csv('./stage1_metadata.csv')\n",
    "\n",
    "meta_ts = meta[meta['is_train']==0]\n",
    "meta_train, meta_valid = train_valid_split( meta[meta['is_train']==1],0.2,[0])"
   ]
  },
  {
   "cell_type": "markdown",
   "metadata": {
    "collapsed": true
   },
   "source": [
    "# Mask-RCNN configuration\n",
    "We will now define parameters for our mask-rcnn. \n",
    "Tweak them to get better results!"
   ]
  },
  {
   "cell_type": "code",
   "execution_count": 8,
   "metadata": {
    "scrolled": false
   },
   "outputs": [
    {
     "name": "stdout",
     "output_type": "stream",
     "text": [
      "\n",
      "Configurations:\n",
      "BACKBONE                       resnet101\n",
      "BACKBONE_SHAPES                [[192 192]\n",
      " [ 96  96]\n",
      " [ 48  48]\n",
      " [ 24  24]\n",
      " [ 12  12]]\n",
      "BACKBONE_SHAPES_LIST           [array([[192, 192],\n",
      "       [ 96,  96],\n",
      "       [ 48,  48],\n",
      "       [ 24,  24],\n",
      "       [ 12,  12]])]\n",
      "BACKBONE_STRIDES               [4, 8, 16, 32, 64]\n",
      "BATCH_SIZE                     1\n",
      "BBOX_STD_DEV                   [0.1 0.1 0.2 0.2]\n",
      "DETECTION_MAX_INSTANCES        400\n",
      "DETECTION_MIN_CONFIDENCE       0.7\n",
      "DETECTION_NMS_THRESHOLD        0.3\n",
      "GPU_COUNT                      1\n",
      "GRADIENT_CLIP_NORM             0.5\n",
      "IMAGES_PER_GPU                 1\n",
      "IMAGE_MAX_DIM                  768\n",
      "IMAGE_MIN_DIM                  768\n",
      "IMAGE_PADDING                  True\n",
      "IMAGE_SHAPE                    [768 768   3]\n",
      "LEARNING_MOMENTUM              0.9\n",
      "LEARNING_RATE                  0.01\n",
      "MAIN_SCALE                     0\n",
      "MASK_POOL_SIZE                 14\n",
      "MASK_SHAPE                     [28, 28]\n",
      "MAX_GT_INSTANCES               256\n",
      "MEAN_PIXEL                     [123.7 116.8 103.9]\n",
      "MINI_MASK_SHAPE                (28, 28)\n",
      "NAME                           res101\n",
      "NUM_CLASSES                    2\n",
      "POOL_SIZE                      7\n",
      "POST_NMS_ROIS_INFERENCE        2000\n",
      "POST_NMS_ROIS_TRAINING         2000\n",
      "ROI_POSITIVE_RATIO             0.33\n",
      "RPN_ANCHOR_RATIOS              [0.5, 1, 2]\n",
      "RPN_ANCHOR_SCALES              (8, 16, 32, 64, 128)\n",
      "RPN_ANCHOR_STRIDE              1\n",
      "RPN_BBOX_STD_DEV               [0.1 0.1 0.2 0.2]\n",
      "RPN_NMS_THRESHOLD              0.7\n",
      "RPN_TRAIN_ANCHORS_PER_IMAGE    320\n",
      "SCALES                         [768]\n",
      "STEPS_PER_EPOCH                606\n",
      "TRAIN_ROIS_PER_IMAGE           512\n",
      "USE_MINI_MASK                  True\n",
      "USE_RPN_ROIS                   True\n",
      "VALIDATION_STEPS               58\n",
      "WEIGHT_DECAY                   0.0001\n",
      "\n",
      "\n"
     ]
    }
   ],
   "source": [
    "class DsbConfig(Config):\n",
    "\n",
    "    # Give the configuration a recognizable name\n",
    "    NAME = \"res101\"\n",
    "      \n",
    "    LEARNING_RATE = 1e-2\n",
    "    \n",
    "    # If enabled, resizes instance masks to a smaller size to reduce\n",
    "    # memory load. Recommended when using high-resolution image\n",
    "    USE_MINI_MASK = True\n",
    "    MINI_MASK_SHAPE = (28, 28)  # (height, width) of the mini-mask\n",
    "    \n",
    "    # Train on 1 GPU and 8 images per GPU. Batch size is GPUs * images/GPU.\n",
    "    GPU_COUNT = 1\n",
    "    IMAGES_PER_GPU = 1\n",
    "    # Total number of steps (batches of samples) to yield from generator before declaring one epoch finished and starting the next epoch.\n",
    "    # typically be equal to the number of samples of your dataset divided by the batch size\n",
    "    STEPS_PER_EPOCH = 606\n",
    "    VALIDATION_STEPS = 58\n",
    "\n",
    "    # Number of classes (including background)\n",
    "    NUM_CLASSES = 1 + 1  # background + nucleis\n",
    "    IMAGE_MIN_DIM = 768\n",
    "    IMAGE_MAX_DIM = 768\n",
    "    IMAGE_PADDING = True  # currently, the False option is not supported\n",
    "    RPN_ANCHOR_SCALES = (8, 16, 32, 64, 128)  # anchor side in pixels, maybe add a 256?\n",
    "    # The strides of each layer of the FPN Pyramid. These values\n",
    "    # are based on a Resnet101 backbone.\n",
    "    BACKBONE_STRIDES = [4, 8, 16, 32, 64]\n",
    "    # How many anchors per image to use for RPN training\n",
    "    RPN_TRAIN_ANCHORS_PER_IMAGE = 320 #300\n",
    "    \n",
    "    # ROIs kept after non-maximum supression (training and inference)\n",
    "    POST_NMS_ROIS_TRAINING = 2000\n",
    "    POST_NMS_ROIS_INFERENCE = 2000\n",
    "    POOL_SIZE = 7\n",
    "    MASK_POOL_SIZE = 14\n",
    "    MASK_SHAPE = [28, 28]\n",
    "    TRAIN_ROIS_PER_IMAGE = 512\n",
    "    RPN_NMS_THRESHOLD = 0.7\n",
    "    MAX_GT_INSTANCES = 256\n",
    "    DETECTION_MAX_INSTANCES = 400 \n",
    "    # Minimum probability value to accept a detected instance\n",
    "    # ROIs below this threshold are skipped\n",
    "    DETECTION_MIN_CONFIDENCE = 0.7 # may be smaller?\n",
    "    # Non-maximum suppression threshold for detection\n",
    "    DETECTION_NMS_THRESHOLD = 0.3 # 0.3\n",
    "    \n",
    "    #MEAN_PIXEL = np.array([56.02,54.02,54.26])\n",
    "    MEAN_PIXEL = np.array([123.7,116.8,103.9])\n",
    "    #MEAN_PIXEL = np.array([.0,.0,.0])\n",
    "    # Weight decay regularization\n",
    "    WEIGHT_DECAY = 0.0001\n",
    "    SCALES = [768]\n",
    "    MAIN_SCALE = 0\n",
    "    BACKBONE = \"resnet101\"\n",
    "    GRADIENT_CLIP_NORM = 0.5\n",
    "    \n",
    "config = DsbConfig()\n",
    "config.display()"
   ]
  },
  {
   "cell_type": "code",
   "execution_count": 9,
   "metadata": {
    "collapsed": true
   },
   "outputs": [],
   "source": [
    "class InferenceConfig(DsbConfig):\n",
    "    GPU_COUNT = 1\n",
    "    IMAGES_PER_GPU = 1\n",
    "    # MEAN_PIXEL = np.array([56.02288505, 54.02376286, 54.26675248])\n",
    "inference_config = InferenceConfig()"
   ]
  },
  {
   "cell_type": "code",
   "execution_count": 10,
   "metadata": {
    "collapsed": true
   },
   "outputs": [],
   "source": [
    "class InferenceConfig(DsbConfig):\n",
    "    GPU_COUNT = 1\n",
    "    IMAGES_PER_GPU = 1\n",
    "    SCALES = [384]\n",
    "    MAIN_SCALE = 0\n",
    "\n",
    "    # MEAN_PIXEL = np.array([56.02288505, 54.02376286, 54.26675248])\n",
    "inference_config_small = InferenceConfig()"
   ]
  },
  {
   "cell_type": "code",
   "execution_count": 11,
   "metadata": {
    "collapsed": true
   },
   "outputs": [],
   "source": [
    "class InferenceConfig(DsbConfig):\n",
    "    GPU_COUNT = 1\n",
    "    IMAGES_PER_GPU = 1\n",
    "    SCALES = [768]\n",
    "    MAIN_SCALE = 0\n",
    "    # MEAN_PIXEL = np.array([56.02288505, 54.02376286, 54.26675248])\n",
    "inference_config_big = InferenceConfig()"
   ]
  },
  {
   "cell_type": "code",
   "execution_count": 12,
   "metadata": {
    "collapsed": true
   },
   "outputs": [],
   "source": [
    "config_list = [inference_config_small,inference_config,inference_config_big]\n"
   ]
  },
  {
   "cell_type": "code",
   "execution_count": 13,
   "metadata": {
    "collapsed": true
   },
   "outputs": [],
   "source": [
    "config_list = []\n",
    "for scale in [256,384,512,768,1024]:\n",
    "    class InferenceConfig(DsbConfig):\n",
    "        GPU_COUNT = 1\n",
    "        IMAGES_PER_GPU = 1\n",
    "        SCALES = [scale]\n",
    "        MAIN_SCALE = 0\n",
    "    # MEAN_PIXEL = np.array([56.02288505, 54.02376286, 54.26675248])\n",
    "        one_config = InferenceConfig()\n",
    "        config_list.append(one_config)"
   ]
  },
  {
   "cell_type": "markdown",
   "metadata": {},
   "source": [
    "# Dataset definition\n",
    "\n",
    "We need to define our datasets for the data science bowl competition"
   ]
  },
  {
   "cell_type": "code",
   "execution_count": 14,
   "metadata": {
    "collapsed": true
   },
   "outputs": [],
   "source": [
    "class DsbDataset(utils.Dataset):\n",
    "\n",
    "    def load_dataset(self, ids, train_mode='train',final=False):\n",
    "        self.add_class(\"dsb\", 1, \"nuclei\")\n",
    "        if train_mode:\n",
    "            directory = dsb_dir\n",
    "        else:\n",
    "            directory = test_dir\n",
    "        if final:\n",
    "            directory = final_dir\n",
    "        for i, id in enumerate(ids):\n",
    "            image_dir = os.path.join(directory, id)\n",
    "            self.add_image(\"dsb\", image_id=i, path=image_dir)\n",
    "            \n",
    "\n",
    "    def load_image(self, image_id, non_zero=None):\n",
    "        info = self.image_info[image_id]\n",
    "        path = info['path']\n",
    "        image_name = os.listdir(os.path.join(path, 'images'))\n",
    "        image_path = os.path.join(path, 'images', image_name[0])\n",
    "        image = imageio.imread(image_path)\n",
    "        \n",
    "        if len(image.shape)==2:\n",
    "            img = skimage.color.gray2rgb(image)\n",
    "            image = img*255.\n",
    "        if image.shape[2] >3:\n",
    "            image = image[:,:,:3]\n",
    "\n",
    "        #image = self.preprocess(image)\n",
    "        image = image\n",
    "        return image\n",
    "\n",
    "    def image_reference(self, image_id):\n",
    "        info = self.image_info[image_id]\n",
    "        if info[\"source\"] == \"shapes\":\n",
    "            return info[\"shapes\"]\n",
    "        else:\n",
    "            super(self.__class__).image_reference(self, image_id)\n",
    "\n",
    "    def load_mask(self, image_id):\n",
    "        info = self.image_info[image_id]\n",
    "        path = info['path']\n",
    "        mask_dir = os.path.join(path, 'masks')\n",
    "        mask_names = os.listdir(mask_dir)\n",
    "        count = len(mask_names)\n",
    "        mask = []\n",
    "        for i, el in enumerate(mask_names):\n",
    "            msk_path = os.path.join(mask_dir, el)\n",
    "            msk = imageio.imread(msk_path)\n",
    "            if np.sum(msk) == 0:\n",
    "                print('invalid mask')\n",
    "                continue\n",
    "            msk = msk.astype('float32')/255.\n",
    "            if len(msk.shape) == 3:\n",
    "                msk = msk[:,:,0]\n",
    "            mask.append(msk)\n",
    "        mask = np.asarray(mask)\n",
    "        mask[mask > 0.] = 1.\n",
    "        mask = np.transpose(mask, (1,2,0))\n",
    "        occlusion = np.logical_not(mask[:, :, -1]).astype(np.uint8)\n",
    "        count = mask.shape[2]\n",
    "        for i in range(count-2, -1, -1):\n",
    "            mask[:, :, i] = mask[:, :, i] * occlusion\n",
    "            occlusion = np.logical_and(occlusion, np.logical_not(mask[:, :, i]))\n",
    "        class_ids = [self.class_names.index('nuclei') for s in range(count)]\n",
    "        class_ids = np.asarray(class_ids)\n",
    "        return mask, class_ids.astype(np.int32)\n",
    "    \n",
    "    def preprocess(self, img):\n",
    "        gray = skimage.color.rgb2gray(img.astype('uint8'))\n",
    "        img = skimage.color.gray2rgb(gray)\n",
    "        img *= 255.\n",
    "        return img"
   ]
  },
  {
   "cell_type": "code",
   "execution_count": 15,
   "metadata": {
    "collapsed": true
   },
   "outputs": [],
   "source": [
    "color_ids = [i.strip() for i in list(pd.read_csv(\"color.csv\").color_id)]"
   ]
  },
  {
   "cell_type": "code",
   "execution_count": null,
   "metadata": {
    "collapsed": true
   },
   "outputs": [],
   "source": []
  },
  {
   "cell_type": "markdown",
   "metadata": {},
   "source": [
    "# Training dataset\n",
    "dataset_train = DsbDataset()\n",
    "dataset_train.load_dataset(train_ids)\n",
    "dataset_train.load_dataset(color_ids)\n",
    "dataset_train.load_dataset(color_ids)\n",
    "\n",
    "dataset_train.prepare()\n",
    "\n",
    "# Validation dataset\n",
    "dataset_val = DsbDataset()\n",
    "dataset_val.load_dataset(train_ids)\n",
    "dataset_val.prepare()\n",
    "\n",
    "# Test dataset\n",
    "dataset_test = DsbDataset()\n",
    "dataset_test.load_dataset(test_ids, train_mode=False)\n",
    "dataset_test.prepare()"
   ]
  },
  {
   "cell_type": "code",
   "execution_count": 16,
   "metadata": {},
   "outputs": [
    {
     "data": {
      "text/plain": [
       "\"\\nfinal_dir = './stage2_test_final'\\nfinal_ids = os.listdir(final_dir)\\n\""
      ]
     },
     "execution_count": 16,
     "metadata": {},
     "output_type": "execute_result"
    }
   ],
   "source": [
    "dsb_dir = './stage1_train'\n",
    "train_ids = os.listdir(dsb_dir)\n",
    "test_dir = './stage1_test'\n",
    "test_ids = os.listdir(test_dir)\n",
    "\"\"\"\n",
    "final_dir = './stage2_test_final'\n",
    "final_ids = os.listdir(final_dir)\n",
    "\"\"\""
   ]
  },
  {
   "cell_type": "code",
   "execution_count": 17,
   "metadata": {
    "collapsed": true
   },
   "outputs": [],
   "source": [
    "total_ids = os.listdir('./stage1_train')\n",
    "train_ids = list(meta_train.ImageId.values)\n",
    "for tid in train_ids :\n",
    "    if tid not in total_ids :\n",
    "        train_ids.remove(tid)\n",
    "val_ids = list(meta_valid.ImageId.values)\n",
    "for tid in val_ids :\n",
    "    if tid not in total_ids :\n",
    "        train_ids.remove(tid)\n",
    "for tid in color_ids:\n",
    "    if tid not in total_ids :\n",
    "        color_ids.remove(tid)\n",
    "dsb_dir = './stage1_train'\n",
    "test_dir = './stage1_test'\n",
    "test_ids = os.listdir(test_dir)"
   ]
  },
  {
   "cell_type": "code",
   "execution_count": 18,
   "metadata": {},
   "outputs": [
    {
     "data": {
      "text/plain": [
       "'\\ndataset_final = DsbDataset()\\ndataset_final.load_dataset(final_ids, train_mode=False,final = True)\\ndataset_final.prepare()\\n'"
      ]
     },
     "execution_count": 18,
     "metadata": {},
     "output_type": "execute_result"
    }
   ],
   "source": [
    "# Training dataset\n",
    "dataset_train = DsbDataset()\n",
    "dataset_train.load_dataset(train_ids)\n",
    "dataset_train.load_dataset(color_ids)\n",
    "\n",
    "\n",
    "dataset_train.prepare()\n",
    "\n",
    "# Validation dataset\n",
    "dataset_val = DsbDataset()\n",
    "dataset_val.load_dataset(val_ids)\n",
    "dataset_val.prepare()\n",
    "\n",
    "# Test dataset\n",
    "dataset_test = DsbDataset()\n",
    "dataset_test.load_dataset(test_ids, train_mode=False)\n",
    "dataset_test.prepare()\n",
    "\"\"\"\n",
    "dataset_final = DsbDataset()\n",
    "dataset_final.load_dataset(final_ids, train_mode=False,final = True)\n",
    "dataset_final.prepare()\n",
    "\"\"\""
   ]
  },
  {
   "cell_type": "code",
   "execution_count": 19,
   "metadata": {
    "collapsed": true
   },
   "outputs": [],
   "source": [
    "dataset_color = DsbDataset()"
   ]
  },
  {
   "cell_type": "code",
   "execution_count": 20,
   "metadata": {
    "collapsed": true
   },
   "outputs": [],
   "source": [
    "dataset_color.load_dataset(color_ids)"
   ]
  },
  {
   "cell_type": "code",
   "execution_count": 21,
   "metadata": {},
   "outputs": [
    {
     "data": {
      "text/plain": [
       "1"
      ]
     },
     "execution_count": 21,
     "metadata": {},
     "output_type": "execute_result"
    }
   ],
   "source": [
    "len(set(color_ids)&set(meta_valid.ImageId))"
   ]
  },
  {
   "cell_type": "code",
   "execution_count": 22,
   "metadata": {},
   "outputs": [
    {
     "data": {
      "text/plain": [
       "108"
      ]
     },
     "execution_count": 22,
     "metadata": {},
     "output_type": "execute_result"
    }
   ],
   "source": [
    "len(color_ids)"
   ]
  },
  {
   "cell_type": "markdown",
   "metadata": {},
   "source": [
    "for i in range(670):\n",
    "    masks,_ = dataset_train.load_mask(5)\n",
    "    masks.shape"
   ]
  },
  {
   "cell_type": "markdown",
   "metadata": {},
   "source": [
    "image_ids = np.random.choice(dataset_train.image_ids, 10)\n",
    "for image_id in image_ids:\n",
    "    image = dataset_train.load_image(image_id)\n",
    "    mask, class_ids = dataset_train.load_mask(image_id)\n",
    "    visualize.display_top_masks(image, mask, class_ids, dataset_train.class_names,limit = 2)"
   ]
  },
  {
   "cell_type": "markdown",
   "metadata": {},
   "source": [
    "Let's take a look at some images"
   ]
  },
  {
   "cell_type": "markdown",
   "metadata": {},
   "source": [
    "# Model Training\n",
    "\n",
    "OK! \n",
    "\n",
    "I think we are ready to do some training!\n",
    "We will instantiate the model and initialize it with COCO weights"
   ]
  },
  {
   "cell_type": "code",
   "execution_count": null,
   "metadata": {
    "collapsed": true
   },
   "outputs": [],
   "source": [
    "\n",
    "reload(modellib)"
   ]
  },
  {
   "cell_type": "code",
   "execution_count": null,
   "metadata": {
    "collapsed": true,
    "scrolled": true
   },
   "outputs": [],
   "source": [
    "model = modellib.MaskRCNN(mode=\"training\", config=config,\n",
    "                          model_dir=MODEL_DIR)"
   ]
  },
  {
   "cell_type": "code",
   "execution_count": null,
   "metadata": {
    "collapsed": true
   },
   "outputs": [],
   "source": [
    "init_with = \"last\" # imagenet, coco, or last\n",
    "\n",
    "if init_with == \"imagenet\":\n",
    "    model.load_weights(\"./resnet50_weights_tf_dim_ordering_tf_kernels.h5\", by_name=True)\n",
    "elif init_with == \"coco\":\n",
    "    # Load weights trained on MS COCO, but skip layers that\n",
    "    # are different due to the different number of classes\n",
    "    # See README for instructions to download the COCO weights\n",
    "    model.load_weights(COCO_MODEL_PATH, by_name=True,\n",
    "                       exclude=[\"mrcnn_class_logits\", \"mrcnn_bbox_fc\", \n",
    "                                \"mrcnn_bbox\", \"mrcnn_mask\"])\n",
    "elif init_with == \"last\":\n",
    "    # Load the last model you trained and continue training\n",
    "    model.load_weights(model.find_last()[1], by_name=True)"
   ]
  },
  {
   "cell_type": "markdown",
   "metadata": {},
   "source": [
    "Let's train and investigate the learning curves for all the mask-rcnn losses in the `charts` and `channels`"
   ]
  },
  {
   "cell_type": "code",
   "execution_count": null,
   "metadata": {
    "collapsed": true,
    "scrolled": false
   },
   "outputs": [],
   "source": [
    "\n",
    "model.train(dataset_train, dataset_train, \n",
    "                learning_rate=config.LEARNING_RATE,\n",
    "                epochs=30, \n",
    "                layers=\"heads\",)\n",
    "                #clbcks=[LossHistory()])\n",
    "\n",
    "model.train(dataset_train, dataset_train, \n",
    "                learning_rate=config.LEARNING_RATE,\n",
    "                epochs=60, \n",
    "                layers=\"all\",)\n",
    "\n",
    "\n",
    "model.train(dataset_train, dataset_train, \n",
    "                learning_rate=config.LEARNING_RATE/10,\n",
    "                epochs=100, \n",
    "                layers=\"all\",)\n",
    "\"\"\" \n",
    "model.train(dataset_train, dataset_train, \n",
    "                learning_rate=config.LEARNING_RATE/100,\n",
    "                epochs=120, \n",
    "                layers=\"all\",)\n",
    "\n",
    "model.train(dataset_train, dataset_train, \n",
    "                learning_rate=config.LEARNING_RATE/100,\n",
    "                epochs=100, \n",
    "                layers=\"all\",)\n",
    "\"\"\"   "
   ]
  },
  {
   "cell_type": "code",
   "execution_count": null,
   "metadata": {
    "collapsed": true
   },
   "outputs": [],
   "source": [
    "model.keras_model.summary()"
   ]
  },
  {
   "cell_type": "code",
   "execution_count": null,
   "metadata": {
    "collapsed": true,
    "scrolled": false
   },
   "outputs": [],
   "source": [
    "for i in range(11,30):\n",
    "    dims = np.random.choice([256,320,384,448,512,576,640])\n",
    "\n",
    "    class newconfig(DsbConfig):\n",
    "        IMAGE_MIN_DIM = dims\n",
    "        IMAGE_MAX_DIM = dims\n",
    "    config = newconfig()\n",
    "    model = modellib.MaskRCNN(mode=\"training\", config=config,\n",
    "                          model_dir=MODEL_DIR)\n",
    "    model.load_weights(model.find_last()[1], by_name=True)\n",
    "    \n",
    "    model.train(dataset_train, dataset_train, \n",
    "                learning_rate=config.LEARNING_RATE,\n",
    "                epochs= i, \n",
    "                layers=\"heads\",)"
   ]
  },
  {
   "cell_type": "code",
   "execution_count": null,
   "metadata": {
    "collapsed": true,
    "scrolled": false
   },
   "outputs": [],
   "source": [
    "model.train(dataset_train, dataset_train, \n",
    "                learning_rate=config.LEARNING_RATE/100,\n",
    "                epochs=30, \n",
    "                layers=\"all\")"
   ]
  },
  {
   "cell_type": "markdown",
   "metadata": {},
   "source": [
    "# Evaluate\n",
    "I think we are ready to see how our model does on the validation!"
   ]
  },
  {
   "cell_type": "code",
   "execution_count": 23,
   "metadata": {},
   "outputs": [
    {
     "data": {
      "text/plain": [
       "<module 'model_sep_roi_LH' from '/Users/lilingzhi/Documents/GitHub/DSB2018/dsb/model_sep_roi_LH.py'>"
      ]
     },
     "execution_count": 23,
     "metadata": {},
     "output_type": "execute_result"
    }
   ],
   "source": [
    "reload(modellib)"
   ]
  },
  {
   "cell_type": "code",
   "execution_count": 24,
   "metadata": {},
   "outputs": [
    {
     "name": "stdout",
     "output_type": "stream",
     "text": [
      "WARNING:tensorflow:From /Users/lilingzhi/anaconda/lib/python3.6/site-packages/keras/backend/tensorflow_backend.py:1154: calling reduce_max (from tensorflow.python.ops.math_ops) with keep_dims is deprecated and will be removed in a future version.\n",
      "Instructions for updating:\n",
      "keep_dims is deprecated, use keepdims instead\n",
      "WARNING:tensorflow:From /Users/lilingzhi/anaconda/lib/python3.6/site-packages/keras/backend/tensorflow_backend.py:1188: calling reduce_sum (from tensorflow.python.ops.math_ops) with keep_dims is deprecated and will be removed in a future version.\n",
      "Instructions for updating:\n",
      "keep_dims is deprecated, use keepdims instead\n",
      "Loading weights from  /Users/lilingzhi/Documents/GitHub/DSB2018/dsb/logs/res10120180405T2118/mask_rcnn_res101_0062.h5\n"
     ]
    }
   ],
   "source": [
    "model = modellib.MaskRCNN(mode=\"inference\", \n",
    "                          config=inference_config,\n",
    "                          model_dir=MODEL_DIR)\n",
    "\n",
    "# Get path to saved weights\n",
    "# Either set a specific path or find last trained weights\n",
    "# model_path = os.path.join(ROOT_DIR, \".h5 file name here\")\n",
    "model_path = model.find_last()[1]\n",
    "\n",
    "# Load trained weights (fill in path to trained weights here)\n",
    "assert model_path != \"\", \"Provide path to trained weights\"\n",
    "print(\"Loading weights from \", model_path)\n",
    "model.load_weights(model_path, by_name=True)"
   ]
  },
  {
   "cell_type": "code",
   "execution_count": null,
   "metadata": {
    "collapsed": true
   },
   "outputs": [],
   "source": []
  },
  {
   "cell_type": "markdown",
   "metadata": {},
   "source": [
    "model_list = []\n",
    "for part_a_config in config_list:\n",
    "    print(part_a_config.SCALES)\n",
    "    part_a_model = modellib.MaskRCNN(mode=\"inference\", \n",
    "                          config=part_a_config,\n",
    "                          model_dir=MODEL_DIR)\n",
    "    part_a_model_path = model.find_last()[1]\n",
    "    print(\"Loading weights from \", model_path)\n",
    "    part_a_model.load_weights(model_path, by_name=True)  \n",
    "    model_list.append(part_a_model)"
   ]
  },
  {
   "cell_type": "code",
   "execution_count": 25,
   "metadata": {
    "collapsed": true
   },
   "outputs": [],
   "source": [
    "def get_ax(rows=1, cols=1, size=8):\n",
    "    \"\"\"Return a Matplotlib Axes array to be used in\n",
    "    all visualizations in the notebook. Provide a\n",
    "    central point to control graph sizes.\n",
    "    \n",
    "    Change the default size attribute to control the size\n",
    "    of rendered images\n",
    "    \"\"\"\n",
    "    _, ax = plt.subplots(rows, cols, figsize=(size*cols, size*rows))\n",
    "    return ax"
   ]
  },
  {
   "cell_type": "code",
   "execution_count": 26,
   "metadata": {
    "scrolled": false
   },
   "outputs": [
    {
     "name": "stdout",
     "output_type": "stream",
     "text": [
      "original_image           shape: (768, 768, 3)         min:    0.00000  max:  105.00000\n",
      "image_meta               shape: (10,)                 min:    0.00000  max: 1272.00000\n",
      "gt_class_id              shape: (68,)                 min:    1.00000  max:    1.00000\n",
      "gt_bbox                  shape: (68, 4)               min:  160.00000  max:  458.00000\n",
      "gt_mask                  shape: (768, 768, 68)        min:    0.00000  max:    1.00000\n",
      "total nuclei count:  68\n"
     ]
    },
    {
     "data": {
      "image/png": "[encoded data removed]",
      "text/plain": [
       "<matplotlib.figure.Figure at 0x126c2f940>"
      ]
     },
     "metadata": {},
     "output_type": "display_data"
    }
   ],
   "source": [
    "image_id = random.choice(dataset_val.image_ids)\n",
    "#image_id = 51\n",
    "image_id=28\n",
    "original_image, image_meta, gt_class_id, gt_bbox, gt_mask =\\\n",
    "    modellib.load_image_gt(dataset_val, inference_config, \n",
    "                           image_id, use_mini_mask=False,augment=False)\n",
    "\n",
    "log(\"original_image\", original_image)\n",
    "log(\"image_meta\", image_meta)\n",
    "log(\"gt_class_id\", gt_class_id)\n",
    "log(\"gt_bbox\", gt_bbox)\n",
    "log(\"gt_mask\", gt_mask)\n",
    "\n",
    "print(\"total nuclei count: \",gt_bbox.shape[0])\n",
    "visualize.display_instances(original_image, gt_bbox, gt_mask, gt_class_id, \n",
    "                            dataset_val.class_names, figsize=(8, 8))"
   ]
  },
  {
   "cell_type": "code",
   "execution_count": null,
   "metadata": {
    "collapsed": true
   },
   "outputs": [],
   "source": [
    "original_image.shape"
   ]
  },
  {
   "cell_type": "code",
   "execution_count": null,
   "metadata": {
    "collapsed": true,
    "scrolled": false
   },
   "outputs": [],
   "source": [
    "results = model.detect([original_image], verbose=1)\n",
    "\n",
    "r = results[0]\n",
    "\n",
    "print(\"total nuclei detected: \",r['masks'].shape[2])\n",
    "visualize.display_instances(original_image, r['rois'], r['masks'], r['class_ids'], \n",
    "                            dataset_val.class_names, r['scores'], ax=get_ax())"
   ]
  },
  {
   "cell_type": "code",
   "execution_count": null,
   "metadata": {
    "collapsed": true,
    "scrolled": true
   },
   "outputs": [],
   "source": [
    "box_list = []\n",
    "scores_list = []\n",
    "for part_a_model,part_a_config in zip(model_list,config_list):\n",
    "    \n",
    "    original_image, image_meta, gt_class_id, gt_bbox, gt_mask =\\\n",
    "    modellib.load_image_gt(dataset_val, part_a_config, \n",
    "                           image_id, use_mini_mask=False,augment=False)\n",
    "    \n",
    "    results = part_a_model.detect([original_image], verbose=1)\n",
    "    r = results[0]\n",
    "    box_list.append(r[\"non_supress_box\"])\n",
    "    scores_list.append(r[\"non_supress_score\"])"
   ]
  },
  {
   "cell_type": "code",
   "execution_count": null,
   "metadata": {
    "collapsed": true
   },
   "outputs": [],
   "source": [
    "non_supress_box = np.concatenate(box_list,axis=1)\n",
    "non_supress_score = np.concatenate(scores_list,axis=1)"
   ]
  },
  {
   "cell_type": "code",
   "execution_count": null,
   "metadata": {
    "collapsed": true
   },
   "outputs": [],
   "source": [
    "infer_model = infer_modellib.MaskRCNN(mode=\"inference\", \n",
    "                          config=inference_config,\n",
    "                          model_dir=MODEL_DIR)\n",
    "model_path = infer_model.find_last()[1]\n",
    "\n",
    "# Load trained weights (fill in path to trained weights here)\n",
    "assert model_path != \"\", \"Provide path to trained weights\"\n",
    "print(\"Loading weights from \", model_path)\n",
    "infer_model .load_weights(model_path, by_name=True)"
   ]
  },
  {
   "cell_type": "code",
   "execution_count": null,
   "metadata": {
    "collapsed": true
   },
   "outputs": [],
   "source": [
    "results = infer_model.detect([original_image],non_supress_box,non_supress_score)\n",
    "\n",
    "r = results[0]\n",
    "\n",
    "print(\"total nuclei detected: \",r['masks'].shape[2])\n",
    "visualize.display_instances(original_image, r['rois'], r['masks'], r['class_ids'], \n",
    "                            dataset_val.class_names, r['scores'], ax=get_ax())"
   ]
  },
  {
   "cell_type": "code",
   "execution_count": null,
   "metadata": {
    "collapsed": true
   },
   "outputs": [],
   "source": [
    "def predict(test_image):\n",
    "    box_list = []\n",
    "    scores_list = []\n",
    "    for (i,part_a_model) in enumerate(model_list):\n",
    "        results = part_a_model.detect([test_image], verbose=1)\n",
    "        r = results[0]\n",
    "        box_list.append(r[\"non_supress_box\"])\n",
    "        scores_list.append(r[\"non_supress_score\"])\n",
    "    non_supress_box = np.concatenate(box_list,axis=1)\n",
    "    non_supress_score = np.concatenate(scores_list,axis=1)\n",
    "    results = infer_model.detect([test_image],non_supress_box,non_supress_score)\n",
    "    return results"
   ]
  },
  {
   "cell_type": "markdown",
   "metadata": {},
   "source": [
    "# Create Submission\n",
    "It is looking good on the validation.\n",
    "Let's see how will it do on the public LB."
   ]
  },
  {
   "cell_type": "code",
   "execution_count": null,
   "metadata": {
    "collapsed": true,
    "scrolled": true
   },
   "outputs": [],
   "source": [
    "reload(divide)\n",
    "reload(modellib)\n",
    "reload(utils)"
   ]
  },
  {
   "cell_type": "code",
   "execution_count": null,
   "metadata": {
    "collapsed": true
   },
   "outputs": [],
   "source": [
    "from tqdm import tqdm "
   ]
  },
  {
   "cell_type": "code",
   "execution_count": null,
   "metadata": {
    "collapsed": true,
    "scrolled": false
   },
   "outputs": [],
   "source": [
    "raw_predictions = []\n",
    "for test_id in tqdm(dataset_final.image_ids):\n",
    "    test_image1 = dataset_final.load_image(test_id, 0)\n",
    "    pred = model.detect([test_image1],return_mode = \"thres\", verbose=0)\n",
    "    #pred = predict(test_image1)\n",
    "    pred = pred[0]\n",
    "    sc = pred['scores']\n",
    "    pred = pred['masks']\n",
    "    if pred.shape[2]>1000:\n",
    "        print(\"find intese target\",pred.shape)\n",
    "        edge = max(pred.shape[0],pred.shape[1])\n",
    "        pred,sc =  divide.divide_recursive_detect(model,test_image1,inter_width=20,\n",
    "                                          max_edge = edge-10,combine_threshold=50,return_mode=\"raw\",verbose =0)\n",
    "        print(pred.dtype)\n",
    "        print(\"after divide\",pred.shape)\n",
    "        pred = np.where(pred>0.6,1,0).astype(np.uint8)\n",
    "\n",
    "    raw_predictions.append((pred, sc))"
   ]
  },
  {
   "cell_type": "code",
   "execution_count": null,
   "metadata": {
    "collapsed": true
   },
   "outputs": [],
   "source": [
    "def rle_encoding(x):\n",
    "    '''\n",
    "    x: numpy array of shape (height, width), 1 - mask, 0 - background\n",
    "    Returns run lengt\n",
    "    h as list\n",
    "    '''\n",
    "    dots = np.where(x.T.flatten()==1)[0] # .T sets Fortran order down-then-right\n",
    "    run_lengths = []\n",
    "    prev = -2\n",
    "    for b in dots:\n",
    "        if (b>prev+1): run_lengths.extend((b+1, 0))\n",
    "        run_lengths[-1] += 1\n",
    "        prev = b\n",
    "    return run_lengths"
   ]
  },
  {
   "cell_type": "code",
   "execution_count": null,
   "metadata": {
    "collapsed": true
   },
   "outputs": [],
   "source": [
    "def numpy2encoding_no_overlap(predicts, img_name, scores):\n",
    "    \n",
    "    \n",
    "    for i in range(predicts.shape[2]-1):\n",
    "        predicts[:,:,i] = clean_up(predicts[:,:,i],1)\n",
    "    \n",
    "    sum_predicts = np.sum(predicts, axis=2)\n",
    "    rows, cols = np.where(sum_predicts>=2)\n",
    "    \n",
    "    for i in zip(rows, cols):\n",
    "        instance_indicies = np.where(np.any(predicts[i[0],i[1],:]))[0]\n",
    "        highest = instance_indicies[0]\n",
    "        predicts[i[0],i[1],:] = predicts[i[0],i[1],:]*0\n",
    "        predicts[i[0],i[1],highest] = 1\n",
    "    \n",
    "    ImageId = []\n",
    "    EncodedPixels = []\n",
    "    #rint(predicts.shape)\n",
    "    if predicts.shape[0] == 0:\n",
    "        print(\"zero detection\")\n",
    "        return [img_name],[\"\"]\n",
    "    for i in range(predicts.shape[2]): \n",
    "        rle = rle_encoding(predicts[:,:,i])\n",
    "        if len(rle)>0:\n",
    "            ImageId.append(img_name)\n",
    "            EncodedPixels.append(rle)    \n",
    "    return ImageId, EncodedPixels"
   ]
  },
  {
   "cell_type": "code",
   "execution_count": null,
   "metadata": {
    "collapsed": true
   },
   "outputs": [],
   "source": [
    "len(raw_predictions)"
   ]
  },
  {
   "cell_type": "code",
   "execution_count": null,
   "metadata": {
    "collapsed": true,
    "scrolled": true
   },
   "outputs": [],
   "source": [
    "new_test_ids = []\n",
    "rles = []\n",
    "for id, raw_pred in tqdm(zip(final_ids, raw_predictions),total=len(final_ids)):\n",
    "    ids, rle = numpy2encoding_no_overlap(raw_pred[0], id, raw_pred[1])\n",
    "    new_test_ids += ids\n",
    "    rles += rle"
   ]
  },
  {
   "cell_type": "code",
   "execution_count": null,
   "metadata": {
    "collapsed": true
   },
   "outputs": [],
   "source": [
    "df = pd.DataFrame({ 'ImageId' : new_test_ids , 'EncodedPixels' : rles})\n",
    "df.to_csv('./416_final_model64v2.csv', index=False, columns=['ImageId', 'EncodedPixels'])"
   ]
  },
  {
   "cell_type": "code",
   "execution_count": null,
   "metadata": {
    "collapsed": true
   },
   "outputs": [],
   "source": [
    "import skimage.morphology as sm\n",
    "\n",
    "def clean_up(x,i,mode = 0):\n",
    "    #x =  sm.binary_dilation((x),sm.disk(2))\n",
    "    if mode == 0:\n",
    "        return sm.binary_dilation((x),sm.disk(i))\n",
    "    else :\n",
    "        return sm.binary_dilation(sm.binary_erosion((x),sm.disk(i)),sm.disk(i))"
   ]
  },
  {
   "cell_type": "markdown",
   "metadata": {},
   "source": [
    "# divide and conquer"
   ]
  },
  {
   "cell_type": "code",
   "execution_count": 51,
   "metadata": {
    "collapsed": true
   },
   "outputs": [],
   "source": [
    "def detect_and_disply(model,img,return_mode=\"thres\",verbose = 1):\n",
    "    results = model.detect([img],return_mode=return_mode)\n",
    "    \n",
    "    r = results\n",
    "    r = r[0]\n",
    "    print(r['rois'].shape)\n",
    "    if  r['rois'].shape[0]==0:\n",
    "        print(\"No instance has been detect\")\n",
    "        return None,None\n",
    "    #else:\n",
    "    #    r = r[0]\n",
    "    if verbose == 1:\n",
    "        print(\"total nuclei detected: \",r['masks'].shape[2])\n",
    "        visualize.display_instances(img, r['rois'], r['masks'], r['class_ids'], \n",
    "                            dataset_val.class_names, r['scores'], ax=get_ax())\n",
    "    #print(r['masks'].dtype)\n",
    "    return r['masks'],r['scores']\n",
    "\n",
    "\n",
    "def find_match(l_ind,r_ind,l_mask,r_mask,threshold = 20):\n",
    "    match = []\n",
    "    for l in  l_ind:\n",
    "        for r in r_ind:\n",
    "            new = l_mask[:,:,l] + r_mask[:,:,r]\n",
    "            if np.count_nonzero(new>1)>threshold:\n",
    "                match.append((l,r))\n",
    "                #r_ind.remove(r)\n",
    "                break\n",
    "    return match   \n",
    "\n",
    "def expand_unmatch(a,a_score,ind,raw_shape,mode=\"lr\"):\n",
    "    a = a[:,:,ind]\n",
    "    a_score = a_score[ind]\n",
    "    assert mode in {\"ud\",\"du\",\"lr\",\"rl\"}\n",
    "    height = a.shape[0]\n",
    "    raw_height = raw_shape[0]\n",
    "    width = a.shape[1]\n",
    "    raw_width =raw_shape[1]\n",
    "    num = a.shape[2]\n",
    "    if mode == \"ud\":\n",
    "        new_mask = np.zeros((raw_height,raw_width,num))\n",
    "        new_mask[:height,:,:] +=  a[:,:,:]\n",
    "    elif mode == \"du\":\n",
    "        new_mask = np.zeros((raw_height,raw_width,num))\n",
    "        new_mask[raw_height-height:,:,:] +=  a[:,:,:]\n",
    "    elif mode == \"lr\":\n",
    "        new_mask = np.zeros((raw_height,raw_width,num))\n",
    "        new_mask[:,:width,:] +=  a[:,:,:]\n",
    "    elif mode == \"rl\":\n",
    "\n",
    "        new_mask = np.zeros((raw_height,raw_width,num))\n",
    "        new_mask[:,raw_width-width:,:] +=  a[:,:,:]\n",
    "    return new_mask,a_score\n",
    "\n",
    "def combine_mask(a,b,score_a,score_b,match,raw_shape,mode=\"lr\",binary=True):\n",
    "    re_masks = []\n",
    "    re_scores = []\n",
    "    a_width = a.shape[1]\n",
    "    b_width = b.shape[1]\n",
    "    \n",
    "    raw_height = raw_shape[0]\n",
    "    raw_width =raw_shape[1]\n",
    "    \n",
    "    for single in match:\n",
    "    \n",
    "        l = single[0]\n",
    "        r = single[1]\n",
    "        new_mask = np.zeros((raw_height,raw_width))\n",
    "        new_mask[:,:a_width] +=  a[:,:,l]\n",
    "        new_mask[:,raw_width-b_width:] += b[:,:,r]\n",
    "\n",
    "        if binary:\n",
    "            new_mask[np.where(new_mask == 2.0)] = 1.0\n",
    "        else :\n",
    "            new_mask[:,raw_width-b_width:a_width] = new_mask[:,raw_width-b_width:a_width]/2\n",
    "            \n",
    "        \"\"\"\n",
    "        plt.imshow(a[:,:,l])\n",
    "        \n",
    "        plt.show()\n",
    "        plt.imshow(b[:,:,r])\n",
    "        plt.show()\n",
    "        plt.imshow(new_mask)\n",
    "        plt.show()\n",
    "        \"\"\"\n",
    "\n",
    "        \n",
    "        #print(score_a.shape)\n",
    "        #print(score_b.shape)\n",
    "        re_scores.append((score_a[l]+score_b[r])/2)\n",
    "        re_masks.append(new_mask)\n",
    "    #print(\"re_scores: \" ,re_scores)\n",
    "    #print(\"np re_scores: \",np.array(re_scores))\n",
    "    #print(\"re_scores: \" ,len(re_scores),re_scores[0].shape)\n",
    "    #print(\"re_masks: \" ,len(re_masks),re_masks[0].shape)    \n",
    "    re_scores = np.array(re_scores)\n",
    "    re_masks = np.transpose(np.array(re_masks),[1,2,0])\n",
    "    #print(\"re_scores: \" ,re_scores.shape)\n",
    "    #print(\"re_masks: \" ,re_masks.shape)\n",
    "    return re_masks , re_scores\n",
    "\n",
    "def divide_recursive_detect(model,img,inter_width,max_edge,combine_threshold,return_mode,verbose = 0):\n",
    "    miss_a_flag = 0\n",
    "    miss_b_flag = 0\n",
    "    a_match = []\n",
    "    b_match = []\n",
    "    match = []\n",
    "    raw_shape = img.shape\n",
    "    \n",
    "    if raw_shape[0] <= max_edge and raw_shape[1] <= max_edge:\n",
    "        return detect_and_disply(model,img,return_mode,verbose = verbose)\n",
    "    \n",
    "    elif raw_shape[1] > max_edge:\n",
    "\n",
    "        cscore = np.zeros((1))\n",
    "        expa_score = np.zeros((1))\n",
    "        expb_score = np.zeros((1))\n",
    "        \n",
    "        cmask = np.zeros((raw_shape[0],raw_shape[1],1))\n",
    "        expb = np.zeros((raw_shape[0],raw_shape[1],1))\n",
    "        expa =  np.zeros((raw_shape[0],raw_shape[1],1))\n",
    "    \n",
    "        a_width = int(raw_shape[1]/2)\n",
    "        b_width = raw_shape[1] - a_width +inter_width\n",
    "        if verbose:\n",
    "            print(\"the width is\",raw_shape[1])\n",
    "            print(\"divding in to \",a_width,\"and \",b_width)\n",
    "            \n",
    "\n",
    "        left = img[:,:a_width,:]\n",
    "        right = img[:,raw_shape[1]-b_width:,:]\n",
    "        \n",
    "        if None:\n",
    "            plt.imshow(left)\n",
    "            plt.show()\n",
    "            plt.imshow(right)\n",
    "            plt.show()\n",
    "        a,sa = divide_recursive_detect(model,left,inter_width,max_edge,combine_threshold,return_mode,verbose)\n",
    "        if a is not None:\n",
    "            #print(\"1\",type(a))\n",
    "            inter_a = a[:,a_width-inter_width:a_width,:]\n",
    "            mask_height = np.sum(np.any(inter_a, axis=0), axis=0)\n",
    "            mask_width = np.sum(np.any(inter_a, axis=1), axis=0)\n",
    "            flag = (mask_height > 2) * (mask_width > 2) \n",
    "            #print(\"2\",flag)\n",
    "    \n",
    "            inter_ind_l =  list(np.argwhere(flag == True).squeeze(1))\n",
    "            empty_ind_l =  list(np.argwhere(flag == False).squeeze(1))\n",
    "\n",
    "\n",
    "\n",
    "        else :\n",
    "            miss_a_flag +=1\n",
    "        \n",
    "\n",
    "        b,sb = divide_recursive_detect(model,right,inter_width,max_edge,combine_threshold,return_mode,verbose)\n",
    "        if b is not None:\n",
    "\n",
    "            inter_b  = b[:,:inter_width,:]\n",
    "            mask_height = np.sum(np.any(inter_b, axis=0), axis=0)\n",
    "            mask_width = np.sum(np.any(inter_b, axis=1), axis=0)\n",
    "            flag = (mask_height > 2) * (mask_width > 2) \n",
    "    \n",
    "            inter_ind_r =  list(np.argwhere(flag == True).squeeze(1))\n",
    "            empty_ind_r =  list(np.argwhere(flag == False).squeeze(1))\n",
    "\n",
    "\n",
    "        else:\n",
    "            miss_b_flag +=1\n",
    "            \n",
    "            \n",
    "        if miss_a_flag+miss_b_flag == 2:\n",
    "            return None,None\n",
    "        \n",
    "        if  miss_a_flag+miss_b_flag == 0 :\n",
    "            \n",
    "            match = find_match(inter_ind_l,inter_ind_r,inter_a,inter_b,combine_threshold)\n",
    "            #cmask= combine_mask(a,b,match,img.shape[0:2],mode=\"lr\")\n",
    "            #print(\"find \",len(match), \" match!!!!\")\n",
    "            if len(match) != 0:\n",
    "                #print(\"start combining\")\n",
    "                if return_mode == \"thres\":\n",
    "                    binary = True\n",
    "                else:\n",
    "                    return_mode == \"raw\"\n",
    "                    binary = False\n",
    "                cmask,cscore= combine_mask(a,b,sa,sb,match,raw_shape,mode=\"lr\",binary=binary)\n",
    "                #print(\"combining mask shape\",cmask.shape,cscore.shape)\n",
    "                #print(\"combine mask\",cmask.sum())\n",
    "                a_match = list(zip(*match))[0]\n",
    "                b_match = list(zip(*match))[1]\n",
    "\n",
    "\n",
    "            \n",
    "        if miss_a_flag == 0:\n",
    "            \n",
    "            a_unmatch = set(empty_ind_l)|set(inter_ind_l) - set(a_match)\n",
    "            expa,expa_score = expand_unmatch(a,sa,list(a_unmatch),raw_shape[0:2],mode=\"lr\")\n",
    "            \n",
    "\n",
    "        if miss_b_flag == 0 :\n",
    "            \n",
    "            b_unmatch = set(empty_ind_r)|set(inter_ind_r) - set(b_match)\n",
    "            #print(b.dtype)\n",
    "            expb,expb_score = expand_unmatch(b,sb,list(b_unmatch),raw_shape[0:2],mode=\"rl\")\n",
    "        \"\"\"\n",
    "        print(expa.dtype)\n",
    "        print(expb.dtype)\n",
    "        print(cmask.dtype)\n",
    "        \"\"\"\n",
    "        if return_mode == \"thres\":\n",
    "            return np.concatenate((expa,expb,cmask),axis=2).astype(np.uint8), np.concatenate((expa_score,expb_score,cscore),axis=0).astype(np.uint8)\n",
    "        elif return_mode == \"raw\":\n",
    "            return np.concatenate((expa,expb,cmask),axis=2).astype(np.float32), np.concatenate((expa_score,expb_score,cscore),axis=0).astype(np.float32)\n",
    "    elif raw_shape[0] > max_edge:\n",
    "        img = np.transpose(img,[1,0,2])\n",
    "        ret_mask,ret_score = divide_recursive_detect(model,img,inter_width,max_edge,combine_threshold,return_mode,verbose)\n",
    "        if ret_mask is not None:\n",
    "            return np.transpose(ret_mask,[1,0,2]),ret_score\n",
    "        else:\n",
    "            return None,None\n"
   ]
  },
  {
   "cell_type": "code",
   "execution_count": 52,
   "metadata": {
    "scrolled": true
   },
   "outputs": [
    {
     "name": "stdout",
     "output_type": "stream",
     "text": [
      "the width is 768\n",
      "divding in to  384 and  404\n",
      "the width is 768\n",
      "divding in to  384 and  404\n",
      "(10, 4)\n",
      "total nuclei detected:  10\n"
     ]
    },
    {
     "data": {
      "image/png": "[encoded data removed]",
      "text/plain": [
       "<matplotlib.figure.Figure at 0x12fdc2080>"
      ]
     },
     "metadata": {},
     "output_type": "display_data"
    },
    {
     "name": "stdout",
     "output_type": "stream",
     "text": [
      "(33, 4)\n",
      "total nuclei detected:  33\n"
     ]
    },
    {
     "data": {
      "image/png": "[encoded data removed]",
      "text/plain": [
       "<matplotlib.figure.Figure at 0x1301c2080>"
      ]
     },
     "metadata": {},
     "output_type": "display_data"
    },
    {
     "name": "stdout",
     "output_type": "stream",
     "text": [
      "the width is 768\n",
      "divding in to  384 and  404\n",
      "(0, 4)\n",
      "No instance has been detect\n",
      "(0, 4)\n",
      "No instance has been detect\n"
     ]
    }
   ],
   "source": [
    "\n",
    "pred,sc = divide_recursive_detect(model,original_image,inter_width=20,\n",
    "                                          max_edge = 758,combine_threshold=50,return_mode=\"thres\",verbose =1)"
   ]
  },
  {
   "cell_type": "code",
   "execution_count": 59,
   "metadata": {
    "collapsed": true
   },
   "outputs": [],
   "source": [
    "import utils\n",
    "bbox = utils.extract_bboxes(pred)"
   ]
  },
  {
   "cell_type": "code",
   "execution_count": 61,
   "metadata": {},
   "outputs": [
    {
     "data": {
      "text/plain": [
       "(768, 768, 42)"
      ]
     },
     "execution_count": 61,
     "metadata": {},
     "output_type": "execute_result"
    }
   ],
   "source": [
    "pred.shape"
   ]
  },
  {
   "cell_type": "code",
   "execution_count": 62,
   "metadata": {
    "collapsed": true
   },
   "outputs": [],
   "source": [
    "class_ids = np.array([1]*42)"
   ]
  },
  {
   "cell_type": "code",
   "execution_count": 63,
   "metadata": {},
   "outputs": [
    {
     "data": {
      "text/plain": [
       "array([1, 1, 1, 1, 1, 1, 1, 1, 1, 1, 1, 1, 1, 1, 1, 1, 1, 1, 1, 1, 1, 1,\n",
       "       1, 1, 1, 1, 1, 1, 1, 1, 1, 1, 1, 1, 1, 1, 1, 1, 1, 1, 1, 1])"
      ]
     },
     "execution_count": 63,
     "metadata": {},
     "output_type": "execute_result"
    }
   ],
   "source": [
    "class_ids "
   ]
  },
  {
   "cell_type": "code",
   "execution_count": 64,
   "metadata": {},
   "outputs": [
    {
     "data": {
      "image/png": "[encoded data removed]",
      "text/plain": [
       "<matplotlib.figure.Figure at 0x1311f73c8>"
      ]
     },
     "metadata": {},
     "output_type": "display_data"
    }
   ],
   "source": [
    "visualize.display_instances(original_image, bbox, pred, class_ids , \n",
    "                            dataset_val.class_names, sc, ax=get_ax())"
   ]
  },
  {
   "cell_type": "code",
   "execution_count": 30,
   "metadata": {
    "collapsed": true
   },
   "outputs": [],
   "source": [
    "from divide import divide_recursive_detect"
   ]
  },
  {
   "cell_type": "code",
   "execution_count": 41,
   "metadata": {},
   "outputs": [
    {
     "data": {
      "text/plain": [
       "<module 'divide' from '/Users/lilingzhi/Documents/GitHub/DSB2018/dsb/divide.py'>"
      ]
     },
     "execution_count": 41,
     "metadata": {},
     "output_type": "execute_result"
    }
   ],
   "source": [
    "\n",
    "reload(divide)\n"
   ]
  },
  {
   "cell_type": "code",
   "execution_count": 42,
   "metadata": {},
   "outputs": [
    {
     "name": "stdout",
     "output_type": "stream",
     "text": [
      "the width is 768\n",
      "divding in to  384 and  404\n"
     ]
    },
    {
     "data": {
      "image/png": "[encoded data removed]",
      "text/plain": [
       "<matplotlib.figure.Figure at 0x12c636898>"
      ]
     },
     "metadata": {},
     "output_type": "display_data"
    },
    {
     "data": {
      "image/png": "[encoded data removed]",
      "text/plain": [
       "<matplotlib.figure.Figure at 0x12c761f60>"
      ]
     },
     "metadata": {},
     "output_type": "display_data"
    },
    {
     "name": "stdout",
     "output_type": "stream",
     "text": [
      "the width is 768\n",
      "divding in to  384 and  404\n"
     ]
    },
    {
     "data": {
      "image/png": "[encoded data removed]",
      "text/plain": [
       "<matplotlib.figure.Figure at 0x12cd5d7f0>"
      ]
     },
     "metadata": {},
     "output_type": "display_data"
    },
    {
     "data": {
      "image/png": "[encoded data removed]",
      "text/plain": [
       "<matplotlib.figure.Figure at 0x12c6ec208>"
      ]
     },
     "metadata": {},
     "output_type": "display_data"
    },
    {
     "name": "stdout",
     "output_type": "stream",
     "text": [
      "total nuclei detected:  10\n",
      "total nuclei detected:  33\n",
      "the width is 768\n",
      "divding in to  384 and  404\n"
     ]
    },
    {
     "data": {
      "image/png": "[encoded data removed]",
      "text/plain": [
       "<matplotlib.figure.Figure at 0x12d27d240>"
      ]
     },
     "metadata": {},
     "output_type": "display_data"
    },
    {
     "data": {
      "image/png": "[encoded data removed]",
      "text/plain": [
       "<matplotlib.figure.Figure at 0x12d10ac18>"
      ]
     },
     "metadata": {},
     "output_type": "display_data"
    },
    {
     "name": "stdout",
     "output_type": "stream",
     "text": [
      "total nuclei detected:  28\n",
      "total nuclei detected:  28\n"
     ]
    },
    {
     "ename": "IndexError",
     "evalue": "index 0 is out of bounds for axis 1 with size 0",
     "output_type": "error",
     "traceback": [
      "\u001b[0;31m---------------------------------------------------------------------------\u001b[0m",
      "\u001b[0;31mIndexError\u001b[0m                                Traceback (most recent call last)",
      "\u001b[0;32m<ipython-input-42-98c5385802d7>\u001b[0m in \u001b[0;36m<module>\u001b[0;34m()\u001b[0m\n\u001b[1;32m      1\u001b[0m pred,sc = divide.divide_recursive_detect(model,original_image,inter_width=20,\n\u001b[0;32m----> 2\u001b[0;31m                                           max_edge = 758,combine_threshold=50,return_mode=\"thres\",verbose =1)\n\u001b[0m",
      "\u001b[0;32m/Users/lilingzhi/Documents/GitHub/DSB2018/dsb/divide.py\u001b[0m in \u001b[0;36mdivide_recursive_detect\u001b[0;34m(model, img, inter_width, max_edge, combine_threshold, return_mode, verbose)\u001b[0m\n\u001b[1;32m    155\u001b[0m \u001b[0;34m\u001b[0m\u001b[0m\n\u001b[1;32m    156\u001b[0m \u001b[0;34m\u001b[0m\u001b[0m\n\u001b[0;32m--> 157\u001b[0;31m         \u001b[0mb\u001b[0m\u001b[0;34m,\u001b[0m\u001b[0msb\u001b[0m \u001b[0;34m=\u001b[0m \u001b[0mdivide_recursive_detect\u001b[0m\u001b[0;34m(\u001b[0m\u001b[0mmodel\u001b[0m\u001b[0;34m,\u001b[0m\u001b[0mright\u001b[0m\u001b[0;34m,\u001b[0m\u001b[0minter_width\u001b[0m\u001b[0;34m,\u001b[0m\u001b[0mmax_edge\u001b[0m\u001b[0;34m,\u001b[0m\u001b[0mcombine_threshold\u001b[0m\u001b[0;34m,\u001b[0m\u001b[0mreturn_mode\u001b[0m\u001b[0;34m,\u001b[0m\u001b[0mverbose\u001b[0m\u001b[0;34m)\u001b[0m\u001b[0;34m\u001b[0m\u001b[0m\n\u001b[0m\u001b[1;32m    158\u001b[0m         \u001b[0;32mif\u001b[0m \u001b[0mb\u001b[0m \u001b[0;32mis\u001b[0m \u001b[0;32mnot\u001b[0m \u001b[0;32mNone\u001b[0m\u001b[0;34m:\u001b[0m\u001b[0;34m\u001b[0m\u001b[0m\n\u001b[1;32m    159\u001b[0m \u001b[0;34m\u001b[0m\u001b[0m\n",
      "\u001b[0;32m/Users/lilingzhi/Documents/GitHub/DSB2018/dsb/divide.py\u001b[0m in \u001b[0;36mdivide_recursive_detect\u001b[0;34m(model, img, inter_width, max_edge, combine_threshold, return_mode, verbose)\u001b[0m\n\u001b[1;32m    216\u001b[0m     \u001b[0;32melif\u001b[0m \u001b[0mraw_shape\u001b[0m\u001b[0;34m[\u001b[0m\u001b[0;36m0\u001b[0m\u001b[0;34m]\u001b[0m \u001b[0;34m>\u001b[0m \u001b[0mmax_edge\u001b[0m\u001b[0;34m:\u001b[0m\u001b[0;34m\u001b[0m\u001b[0m\n\u001b[1;32m    217\u001b[0m         \u001b[0mimg\u001b[0m \u001b[0;34m=\u001b[0m \u001b[0mnp\u001b[0m\u001b[0;34m.\u001b[0m\u001b[0mtranspose\u001b[0m\u001b[0;34m(\u001b[0m\u001b[0mimg\u001b[0m\u001b[0;34m,\u001b[0m\u001b[0;34m[\u001b[0m\u001b[0;36m1\u001b[0m\u001b[0;34m,\u001b[0m\u001b[0;36m0\u001b[0m\u001b[0;34m,\u001b[0m\u001b[0;36m2\u001b[0m\u001b[0;34m]\u001b[0m\u001b[0;34m)\u001b[0m\u001b[0;34m\u001b[0m\u001b[0m\n\u001b[0;32m--> 218\u001b[0;31m         \u001b[0mret_mask\u001b[0m\u001b[0;34m,\u001b[0m\u001b[0mret_score\u001b[0m \u001b[0;34m=\u001b[0m \u001b[0mdivide_recursive_detect\u001b[0m\u001b[0;34m(\u001b[0m\u001b[0mmodel\u001b[0m\u001b[0;34m,\u001b[0m\u001b[0mimg\u001b[0m\u001b[0;34m,\u001b[0m\u001b[0minter_width\u001b[0m\u001b[0;34m,\u001b[0m\u001b[0mmax_edge\u001b[0m\u001b[0;34m,\u001b[0m\u001b[0mcombine_threshold\u001b[0m\u001b[0;34m,\u001b[0m\u001b[0mreturn_mode\u001b[0m\u001b[0;34m,\u001b[0m\u001b[0mverbose\u001b[0m\u001b[0;34m)\u001b[0m\u001b[0;34m\u001b[0m\u001b[0m\n\u001b[0m\u001b[1;32m    219\u001b[0m         \u001b[0;32mif\u001b[0m \u001b[0mret_mask\u001b[0m \u001b[0;32mis\u001b[0m \u001b[0;32mnot\u001b[0m \u001b[0;32mNone\u001b[0m\u001b[0;34m:\u001b[0m\u001b[0;34m\u001b[0m\u001b[0m\n\u001b[1;32m    220\u001b[0m             \u001b[0;32mreturn\u001b[0m \u001b[0mnp\u001b[0m\u001b[0;34m.\u001b[0m\u001b[0mtranspose\u001b[0m\u001b[0;34m(\u001b[0m\u001b[0mret_mask\u001b[0m\u001b[0;34m,\u001b[0m\u001b[0;34m[\u001b[0m\u001b[0;36m1\u001b[0m\u001b[0;34m,\u001b[0m\u001b[0;36m0\u001b[0m\u001b[0;34m,\u001b[0m\u001b[0;36m2\u001b[0m\u001b[0;34m]\u001b[0m\u001b[0;34m)\u001b[0m\u001b[0;34m,\u001b[0m\u001b[0mret_score\u001b[0m\u001b[0;34m\u001b[0m\u001b[0m\n",
      "\u001b[0;32m/Users/lilingzhi/Documents/GitHub/DSB2018/dsb/divide.py\u001b[0m in \u001b[0;36mdivide_recursive_detect\u001b[0;34m(model, img, inter_width, max_edge, combine_threshold, return_mode, verbose)\u001b[0m\n\u001b[1;32m    197\u001b[0m \u001b[0;34m\u001b[0m\u001b[0m\n\u001b[1;32m    198\u001b[0m             \u001b[0ma_unmatch\u001b[0m \u001b[0;34m=\u001b[0m \u001b[0mset\u001b[0m\u001b[0;34m(\u001b[0m\u001b[0mempty_ind_l\u001b[0m\u001b[0;34m)\u001b[0m\u001b[0;34m|\u001b[0m\u001b[0mset\u001b[0m\u001b[0;34m(\u001b[0m\u001b[0minter_ind_l\u001b[0m\u001b[0;34m)\u001b[0m \u001b[0;34m-\u001b[0m \u001b[0mset\u001b[0m\u001b[0;34m(\u001b[0m\u001b[0ma_match\u001b[0m\u001b[0;34m)\u001b[0m\u001b[0;34m\u001b[0m\u001b[0m\n\u001b[0;32m--> 199\u001b[0;31m             \u001b[0mexpa\u001b[0m\u001b[0;34m,\u001b[0m\u001b[0mexpa_score\u001b[0m \u001b[0;34m=\u001b[0m \u001b[0mexpand_unmatch\u001b[0m\u001b[0;34m(\u001b[0m\u001b[0ma\u001b[0m\u001b[0;34m,\u001b[0m\u001b[0msa\u001b[0m\u001b[0;34m,\u001b[0m\u001b[0mlist\u001b[0m\u001b[0;34m(\u001b[0m\u001b[0ma_unmatch\u001b[0m\u001b[0;34m)\u001b[0m\u001b[0;34m,\u001b[0m\u001b[0mraw_shape\u001b[0m\u001b[0;34m[\u001b[0m\u001b[0;36m0\u001b[0m\u001b[0;34m:\u001b[0m\u001b[0;36m2\u001b[0m\u001b[0;34m]\u001b[0m\u001b[0;34m,\u001b[0m\u001b[0mmode\u001b[0m\u001b[0;34m=\u001b[0m\u001b[0;34m\"lr\"\u001b[0m\u001b[0;34m)\u001b[0m\u001b[0;34m\u001b[0m\u001b[0m\n\u001b[0m\u001b[1;32m    200\u001b[0m \u001b[0;34m\u001b[0m\u001b[0m\n\u001b[1;32m    201\u001b[0m \u001b[0;34m\u001b[0m\u001b[0m\n",
      "\u001b[0;32m/Users/lilingzhi/Documents/GitHub/DSB2018/dsb/divide.py\u001b[0m in \u001b[0;36mexpand_unmatch\u001b[0;34m(a, a_score, ind, raw_shape, mode)\u001b[0m\n\u001b[1;32m     32\u001b[0m \u001b[0;32mdef\u001b[0m \u001b[0mexpand_unmatch\u001b[0m\u001b[0;34m(\u001b[0m\u001b[0ma\u001b[0m\u001b[0;34m,\u001b[0m\u001b[0ma_score\u001b[0m\u001b[0;34m,\u001b[0m\u001b[0mind\u001b[0m\u001b[0;34m,\u001b[0m\u001b[0mraw_shape\u001b[0m\u001b[0;34m,\u001b[0m\u001b[0mmode\u001b[0m\u001b[0;34m=\u001b[0m\u001b[0;34m\"lr\"\u001b[0m\u001b[0;34m)\u001b[0m\u001b[0;34m:\u001b[0m\u001b[0;34m\u001b[0m\u001b[0m\n\u001b[1;32m     33\u001b[0m     \u001b[0ma\u001b[0m \u001b[0;34m=\u001b[0m \u001b[0ma\u001b[0m\u001b[0;34m[\u001b[0m\u001b[0;34m:\u001b[0m\u001b[0;34m,\u001b[0m\u001b[0;34m:\u001b[0m\u001b[0;34m,\u001b[0m\u001b[0mind\u001b[0m\u001b[0;34m]\u001b[0m\u001b[0;34m\u001b[0m\u001b[0m\n\u001b[0;32m---> 34\u001b[0;31m     \u001b[0ma_score\u001b[0m \u001b[0;34m=\u001b[0m \u001b[0ma_score\u001b[0m\u001b[0;34m[\u001b[0m\u001b[0mind\u001b[0m\u001b[0;34m]\u001b[0m\u001b[0;34m\u001b[0m\u001b[0m\n\u001b[0m\u001b[1;32m     35\u001b[0m     \u001b[0;32massert\u001b[0m \u001b[0mmode\u001b[0m \u001b[0;32min\u001b[0m \u001b[0;34m{\u001b[0m\u001b[0;34m\"ud\"\u001b[0m\u001b[0;34m,\u001b[0m\u001b[0;34m\"du\"\u001b[0m\u001b[0;34m,\u001b[0m\u001b[0;34m\"lr\"\u001b[0m\u001b[0;34m,\u001b[0m\u001b[0;34m\"rl\"\u001b[0m\u001b[0;34m}\u001b[0m\u001b[0;34m\u001b[0m\u001b[0m\n\u001b[1;32m     36\u001b[0m     \u001b[0mheight\u001b[0m \u001b[0;34m=\u001b[0m \u001b[0ma\u001b[0m\u001b[0;34m.\u001b[0m\u001b[0mshape\u001b[0m\u001b[0;34m[\u001b[0m\u001b[0;36m0\u001b[0m\u001b[0;34m]\u001b[0m\u001b[0;34m\u001b[0m\u001b[0m\n",
      "\u001b[0;31mIndexError\u001b[0m: index 0 is out of bounds for axis 1 with size 0"
     ]
    }
   ],
   "source": [
    "pred,sc = divide.divide_recursive_detect(model,original_image,inter_width=20,\n",
    "                                          max_edge = 758,combine_threshold=50,return_mode=\"thres\",verbose =1)"
   ]
  },
  {
   "cell_type": "markdown",
   "metadata": {},
   "source": [
    "This should get you to around 0.44 on the LB. \n",
    "\n",
    "Tweak it and improve your score!"
   ]
  },
  {
   "cell_type": "markdown",
   "metadata": {},
   "source": [
    "# testtime border augment"
   ]
  },
  {
   "cell_type": "code",
   "execution_count": null,
   "metadata": {
    "collapsed": true,
    "scrolled": true
   },
   "outputs": [],
   "source": [
    "test_image1 = dataset_test.load_image(51, 0)\n",
    "plt.imshow(test_image1)"
   ]
  },
  {
   "cell_type": "code",
   "execution_count": null,
   "metadata": {
    "collapsed": true
   },
   "outputs": [],
   "source": [
    "board_wid = 40\n",
    "content_image =cv2.copyMakeBorder(test_image1,board_wid , board_wid ,board_wid , board_wid , cv2.BORDER_REFLECT)\n",
    "pred = model.detect([content_image], verbose=0)\n",
    "r = pred[0]\n",
    "visualize.display_instances(content_image, r['rois'], r['masks'], r['class_ids'], \n",
    "                            dataset_val.class_names, r['scores'], ax=get_ax())"
   ]
  },
  {
   "cell_type": "code",
   "execution_count": null,
   "metadata": {
    "collapsed": true
   },
   "outputs": [],
   "source": [
    "def de_board(mask,image = None,board_width=None):\n",
    "\n",
    "    H,W = mask.shape[:2]\n",
    "    if image is not None:\n",
    "        image = image[board_width:H-board_width, board_width:W-board_width]\n",
    "    mask = mask[board_width:H-board_width, board_width:W-board_width]\n",
    "    if image is not None:\n",
    "        return image, mask\n",
    "    return mask"
   ]
  },
  {
   "cell_type": "code",
   "execution_count": null,
   "metadata": {
    "collapsed": true,
    "scrolled": false
   },
   "outputs": [],
   "source": [
    "deiamge ,de_mask = de_board(r['masks'],content_image, board_wid)\n",
    "de_roi = r['rois'] + np.array([-board_wid,-board_wid,-board_wid,-board_wid])\n",
    "visualize.display_instances(deiamge, de_roi, de_mask, r['class_ids'], \n",
    "                            dataset_val.class_names, r['scores'], ax=get_ax())"
   ]
  },
  {
   "cell_type": "code",
   "execution_count": null,
   "metadata": {
    "collapsed": true
   },
   "outputs": [],
   "source": [
    "raw_predictions = []\n",
    "for test_id in dataset_test.image_ids:\n",
    "    test_image1 = dataset_test.load_image(test_id, 0)\n",
    "    board_wid = 40\n",
    "    content_image =cv2.copyMakeBorder(test_image1,board_wid , board_wid, board_wid , board_wid , cv2.BORDER_REFLECT)\n",
    "    pred = model.detect([content_image], verbose=0)\n",
    "    \n",
    "    pred = pred[0]\n",
    "    sc = pred['scores']\n",
    "    pred = pred['masks']\n",
    "\n",
    "    pred = de_board(pred,board_width=board_wid)\n",
    "    \n",
    "    #celan empty mask\n",
    "    _idx = np.sum(pred, axis=(0, 1)) > 0\n",
    "    pred = pred[:, :, _idx]\n",
    "    raw_predictions.append((pred, sc))"
   ]
  },
  {
   "cell_type": "code",
   "execution_count": null,
   "metadata": {
    "collapsed": true
   },
   "outputs": [],
   "source": [
    "new_test_ids = []\n",
    "rles = []\n",
    "for id, raw_pred in zip(test_ids, raw_predictions):\n",
    "    ids, rle = numpy2encoding_no_overlap(raw_pred[0], id, raw_pred[1])\n",
    "    new_test_ids += ids\n",
    "    rles += rle"
   ]
  },
  {
   "cell_type": "code",
   "execution_count": null,
   "metadata": {
    "collapsed": true
   },
   "outputs": [],
   "source": [
    "df = pd.DataFrame({ 'ImageId' : new_test_ids , 'EncodedPixels' : rles})\n",
    "df.to_csv('./sub_408v1_test.csv', index=False, columns=['ImageId', 'EncodedPixels'])"
   ]
  },
  {
   "cell_type": "code",
   "execution_count": null,
   "metadata": {
    "collapsed": true
   },
   "outputs": [],
   "source": [
    "image_ids = None"
   ]
  },
  {
   "cell_type": "markdown",
   "metadata": {},
   "source": [
    "# compute mAP"
   ]
  },
  {
   "cell_type": "code",
   "execution_count": null,
   "metadata": {
    "collapsed": true,
    "scrolled": true
   },
   "outputs": [],
   "source": [
    "# Compute VOC-style Average Precision\n",
    "IOUs=[0.5,0.55,0.6,0.65,0.7,0.75,0.8,0.85,0.9,0.95]\n",
    "def compute_batch_ap(dataset,image_ids,verbose = 0):\n",
    "    APs = []\n",
    "    counts = []\n",
    "    #print(type(image_ids))\n",
    "    for image_id in image_ids:\n",
    "        # Load image\n",
    "        image, image_meta, gt_class_id, gt_bbox, gt_mask =\\\n",
    "            modellib.load_image_gt(dataset, config,\n",
    "                                   image_id, use_mini_mask=False)\n",
    "        # Run object detection\n",
    "        if image_id == 28:\n",
    "            continue\n",
    "        results = model.detect([image], verbose=0)\n",
    "        # Compute AP\n",
    "        r = results[0]\n",
    "            \n",
    "        for i in range(r[\"masks\"].shape[2]):\n",
    "            r[\"masks\"][:,:,i] = clean_up(r[\"masks\"][:,:,i],1,mode = 1)\n",
    "    \n",
    "        single_aps = []\n",
    "        for thre in IOUs:\n",
    "            single_ap, precisions, recalls, overlaps =\\\n",
    "            utils.compute_ap(gt_bbox, gt_class_id, gt_mask,\n",
    "                              r['rois'], r['class_ids'], r['scores'], r['masks'],iou_threshold = thre)\n",
    "            single_aps.append(single_ap)\n",
    "        \n",
    "        #AP = np.sum(single_aps)/10\n",
    "        AP = single_aps\n",
    "        count = r['rois'].shape[0]\n",
    "        #counts.append(count)\n",
    "        APs.append(AP)\n",
    "        if verbose == 1:\n",
    "            print(\"=================\")\n",
    "            print(\"processing image id\",image_id)\n",
    "            print(\"this picture's:\",single_aps)\n",
    "            print(\"true metric: \",AP)\n",
    "            print(\"GT nuclei: \",gt_bbox.shape[0],\"Total detect: \",count)\n",
    "        #print(AP,count)\n",
    "    return APs,counts\n",
    "\n",
    "# Pick a set of random images\n",
    "\n",
    "APs,counts = compute_batch_ap(dataset_val,list(dataset_val.image_ids),verbose = 1)\n",
    "print(\"mAP @ IoU=50: \", np.mean(APs))\n",
    "print(APs)\n",
    "#print(\"mAP @ IoU=50: \",np.sum([i*j for i,j in zip(APs,counts)])/np.sum(counts))"
   ]
  },
  {
   "cell_type": "code",
   "execution_count": null,
   "metadata": {
    "collapsed": true
   },
   "outputs": [],
   "source": [
    "np.array(APs).sum(axis=0)/57"
   ]
  },
  {
   "cell_type": "code",
   "execution_count": null,
   "metadata": {
    "collapsed": true
   },
   "outputs": [],
   "source": [
    "np.array(APs).sum(axis=0)/57"
   ]
  },
  {
   "cell_type": "code",
   "execution_count": null,
   "metadata": {
    "collapsed": true
   },
   "outputs": [],
   "source": [
    "np.array(APs).mean()"
   ]
  },
  {
   "cell_type": "code",
   "execution_count": null,
   "metadata": {
    "collapsed": true
   },
   "outputs": [],
   "source": [
    "type(list(dataset_val.image_ids))"
   ]
  },
  {
   "cell_type": "code",
   "execution_count": null,
   "metadata": {
    "collapsed": true
   },
   "outputs": [],
   "source": [
    "print(\"mAP @ IoU=50: \",np.sum([i*j for i,j in zip(APs,counts)])/np.sum(counts))"
   ]
  },
  {
   "cell_type": "code",
   "execution_count": null,
   "metadata": {
    "collapsed": true
   },
   "outputs": [],
   "source": [
    "for model path in "
   ]
  },
  {
   "cell_type": "code",
   "execution_count": null,
   "metadata": {
    "collapsed": true
   },
   "outputs": [],
   "source": [
    "model = modellib.MaskRCNN(mode=\"inference\", \n",
    "                          config=inference_config,\n",
    "                          model_dir=MODEL_DIR)"
   ]
  },
  {
   "cell_type": "code",
   "execution_count": null,
   "metadata": {
    "collapsed": true
   },
   "outputs": [],
   "source": [
    "models = model.find_last()[0][1][::-1]\n",
    "base = model.find_last()[0][0]"
   ]
  },
  {
   "cell_type": "code",
   "execution_count": null,
   "metadata": {
    "collapsed": true
   },
   "outputs": [],
   "source": [
    "base"
   ]
  },
  {
   "cell_type": "code",
   "execution_count": null,
   "metadata": {
    "collapsed": true,
    "scrolled": false
   },
   "outputs": [],
   "source": [
    "write_path =  os.path.join(base,\"val_info.txt\")\n",
    "with open(write_path,'a+') as f:\n",
    "    for model_name in models:\n",
    "        model_path = os.path.join(base,model_name)\n",
    "        model.load_weights(model_path, by_name=True)\n",
    "        APs,counts = compute_batch_ap(dataset_val,dataset_val.image_ids)\n",
    "        print(\"=================================================\")\n",
    "        print(model_name)\n",
    "        print(\"mAP @ multiple IoU: \", np.mean(APs))\n",
    "    #print(\"mAP @ IoU=50: \",np.sum([i*j for i,j in zip(APs,counts)])/np.sum(counts))\n",
    "        print(\"total nuclei find:\",np.sum(counts))\n",
    "        line = model_name+\"'s true metric is \"+str(np.mean(APs))\n",
    "        f.write(line)\n",
    "    \n",
    "    "
   ]
  },
  {
   "cell_type": "code",
   "execution_count": null,
   "metadata": {
    "collapsed": true
   },
   "outputs": [],
   "source": [
    "with open(write_path,'a+') as f:\n",
    "    f.write(line)"
   ]
  },
  {
   "cell_type": "code",
   "execution_count": null,
   "metadata": {
    "collapsed": true
   },
   "outputs": [],
   "source": [
    "dataset_val.image_ids"
   ]
  },
  {
   "cell_type": "code",
   "execution_count": null,
   "metadata": {
    "collapsed": true,
    "scrolled": true
   },
   "outputs": [],
   "source": [
    "reload(modellib)\n",
    "image_id =702"
   ]
  },
  {
   "cell_type": "code",
   "execution_count": null,
   "metadata": {
    "collapsed": true
   },
   "outputs": [],
   "source": [
    "original_image, image_meta, gt_class_id, gt_bbox, gt_mask = modellib.load_image_gt(dataset_train, config, \n",
    "                           image_id, use_mini_mask=False,augment=True)"
   ]
  },
  {
   "cell_type": "code",
   "execution_count": null,
   "metadata": {
    "collapsed": true
   },
   "outputs": [],
   "source": [
    "plt.imshow(original_image)"
   ]
  },
  {
   "cell_type": "code",
   "execution_count": null,
   "metadata": {
    "collapsed": true
   },
   "outputs": [],
   "source": [
    "np.mean(np.mean(original_image,axis=0),axis=0)"
   ]
  },
  {
   "cell_type": "markdown",
   "metadata": {},
   "source": [
    "# output scale estimate and tensity"
   ]
  },
  {
   "cell_type": "code",
   "execution_count": null,
   "metadata": {
    "collapsed": true
   },
   "outputs": [],
   "source": [
    "\"7b38c9173ebe69b4c6ba7e703c0c27f39305d9b2910f46405993d2ea7a963b80\" in train_ids"
   ]
  },
  {
   "cell_type": "code",
   "execution_count": null,
   "metadata": {
    "collapsed": true
   },
   "outputs": [],
   "source": [
    "raw_predictions = []\n",
    "for test_id in dataset_test.image_ids:\n",
    "    test_image1 = dataset_test.load_image(test_id, 0)\n",
    "    pred = model.detect([test_image1], verbose=0)\n",
    "    pred = pred[0]\n",
    "\n",
    "    pred = pred\n",
    "    raw_predictions.append(pred)"
   ]
  },
  {
   "cell_type": "code",
   "execution_count": null,
   "metadata": {
    "collapsed": true
   },
   "outputs": [],
   "source": [
    "train_ids = os.listdir(\"./stage1_train\")\n",
    "dataset_train = DsbDataset()\n",
    "dataset_train.load_dataset(train_ids)\n",
    "\n",
    "\n",
    "dataset_train.prepare()"
   ]
  },
  {
   "cell_type": "code",
   "execution_count": null,
   "metadata": {
    "collapsed": true
   },
   "outputs": [],
   "source": [
    "train_predictions = []\n",
    "for train_id in dataset_train.image_ids:\n",
    "    train_image1 = dataset_train.load_image(train_id, 0)\n",
    "    pred = model.detect([train_image1], verbose=0)\n",
    "    pred = pred[0]\n",
    "\n",
    "    pred = pred\n",
    "    train_predictions.append(pred)"
   ]
  },
  {
   "cell_type": "markdown",
   "metadata": {},
   "source": [
    "test_image1 = dataset_test.load_image(1, 0)\n",
    "pred = model.detect([test_image1], verbose=0)"
   ]
  },
  {
   "cell_type": "code",
   "execution_count": null,
   "metadata": {
    "collapsed": true
   },
   "outputs": [],
   "source": [
    "counts = []\n",
    "scales = []\n",
    "for id, raw_pred in zip(test_ids, raw_predictions):\n",
    "    rois = raw_pred[\"rois\"]\n",
    "    sum_len = 0\n",
    "    count = len(rois)\n",
    "    for roi in rois:\n",
    "        sum_len += roi[2]+roi[3]-roi[1]-roi[0]\n",
    "    scale = sum_len/count\n",
    "    \n",
    "    counts.append(count)\n",
    "    scales.append(scale)"
   ]
  },
  {
   "cell_type": "code",
   "execution_count": null,
   "metadata": {
    "collapsed": true
   },
   "outputs": [],
   "source": [
    "train_counts = []\n",
    "train_scales = []\n",
    "for id, train_pred in zip(train_ids, train_predictions):\n",
    "    rois = train_pred[\"rois\"]\n",
    "    sum_len = 0\n",
    "    count = len(rois)\n",
    "    for roi in rois:\n",
    "        sum_len += roi[2]+roi[3]-roi[1]-roi[0]\n",
    "    scale = sum_len/count\n",
    "    \n",
    "    train_counts.append(count)\n",
    "    train_scales.append(scale)"
   ]
  },
  {
   "cell_type": "code",
   "execution_count": null,
   "metadata": {
    "collapsed": true,
    "scrolled": true
   },
   "outputs": [],
   "source": [
    "df_test = pd.DataFrame({ 'ImageId' : test_ids , 'estimate_scale' : scales,'estimate_count':counts})\n",
    "df_test.to_csv('./raw_test_es.csv', index=False, columns=['ImageId', 'estimate_scale','estimate_count'])"
   ]
  },
  {
   "cell_type": "code",
   "execution_count": null,
   "metadata": {
    "collapsed": true
   },
   "outputs": [],
   "source": [
    "df_test"
   ]
  },
  {
   "cell_type": "code",
   "execution_count": null,
   "metadata": {
    "collapsed": true
   },
   "outputs": [],
   "source": [
    "df_train = pd.DataFrame({ 'ImageId' : train_ids , 'estimate_scale' : train_scales,'estimate_count':train_counts})\n",
    "df_train.to_csv('./raw_train_es.csv', index=False, columns=['ImageId', 'estimate_scale','estimate_count'])"
   ]
  },
  {
   "cell_type": "code",
   "execution_count": null,
   "metadata": {
    "collapsed": true
   },
   "outputs": [],
   "source": [
    "df_train"
   ]
  },
  {
   "cell_type": "code",
   "execution_count": null,
   "metadata": {
    "collapsed": true
   },
   "outputs": [],
   "source": [
    "df_train.estimate_scale.describe()"
   ]
  },
  {
   "cell_type": "code",
   "execution_count": null,
   "metadata": {
    "collapsed": true
   },
   "outputs": [],
   "source": [
    "df_train.estimate_scale.sort_values()"
   ]
  },
  {
   "cell_type": "code",
   "execution_count": null,
   "metadata": {
    "collapsed": true
   },
   "outputs": [],
   "source": [
    "df_train.ImageId[266]"
   ]
  },
  {
   "cell_type": "code",
   "execution_count": null,
   "metadata": {
    "collapsed": true
   },
   "outputs": [],
   "source": [
    "df_train.ImageId[234]"
   ]
  },
  {
   "cell_type": "code",
   "execution_count": null,
   "metadata": {
    "collapsed": true
   },
   "outputs": [],
   "source": []
  }
 ],
 "metadata": {
  "kernelspec": {
   "display_name": "Python 3",
   "language": "python",
   "name": "python3"
  },
  "language_info": {
   "codemirror_mode": {
    "name": "ipython",
    "version": 3
   },
   "file_extension": ".py",
   "mimetype": "text/x-python",
   "name": "python",
   "nbconvert_exporter": "python",
   "pygments_lexer": "ipython3",
   "version": "3.6.1"
  }
 },
 "nbformat": 4,
 "nbformat_minor": 2
}
